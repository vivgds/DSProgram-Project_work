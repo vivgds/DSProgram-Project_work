{
 "cells": [
  {
   "cell_type": "markdown",
   "id": "1e43ce9e",
   "metadata": {},
   "source": [
    "# RetailMart Product Sales Prediction\n",
    "\n",
    "DESCRIPTION\n",
    "\n",
    "The data scientist at RetailMart have collected sales data for one thousand five hundred and fifty nine products across ten\n",
    "stores in different cities. Furthermore certain attributes of each product and store have been defined. The aim is to build a predictive model and find the sales figures of each product at a particular store.\n",
    "\n",
    "***"
   ]
  },
  {
   "cell_type": "code",
   "execution_count": 1,
   "id": "948964a3",
   "metadata": {
    "ExecuteTime": {
     "end_time": "2022-10-19T12:45:11.844456Z",
     "start_time": "2022-10-19T12:45:02.645708Z"
    }
   },
   "outputs": [],
   "source": [
    "# For data handling and wrangling\n",
    "\n",
    "import pandas as pd\n",
    "import numpy as np\n",
    "import math\n",
    "\n",
    "# For visualization\n",
    "import matplotlib.pyplot as plt\n",
    "import seaborn as sns\n",
    "sns.set(style='white',color_codes=True)\n",
    "sns.set(font_scale=1.5)\n",
    "\n",
    "# For model building, evaluation, selection and fine-tuning\n",
    "from sklearn.base import BaseEstimator, TransformerMixin\n",
    "from sklearn.preprocessing import OneHotEncoder, MaxAbsScaler\n",
    "from sklearn.compose import make_column_transformer\n",
    "\n",
    "from sklearn.linear_model import LinearRegression\n",
    "from sklearn.linear_model import LogisticRegression\n",
    "from sklearn.linear_model import ElasticNet\n",
    "from sklearn.linear_model import Lasso\n",
    "from sklearn.linear_model import LassoLars\n",
    "from sklearn.svm import SVR\n",
    "from sklearn.neighbors import KNeighborsRegressor\n",
    "from sklearn.tree import DecisionTreeRegressor\n",
    "from sklearn.ensemble import RandomForestRegressor\n",
    "from xgboost import XGBRegressor\n",
    "from sklearn import metrics\n",
    "from sklearn.model_selection import train_test_split, KFold, cross_val_score, cross_validate, GridSearchCV\n",
    "from sklearn.pipeline import Pipeline, make_pipeline\n",
    "\n",
    "\n",
    "import warnings\n",
    "warnings.filterwarnings('ignore')\n",
    "\n",
    "from datetime import datetime\n",
    "import re # For regular expressions"
   ]
  },
  {
   "cell_type": "markdown",
   "id": "12a00173",
   "metadata": {},
   "source": [
    "### STEP 1: Load the datasets into Python Environment"
   ]
  },
  {
   "cell_type": "code",
   "execution_count": 2,
   "id": "866fe522",
   "metadata": {
    "ExecuteTime": {
     "end_time": "2022-10-19T12:45:11.907324Z",
     "start_time": "2022-10-19T12:45:11.847448Z"
    }
   },
   "outputs": [
    {
     "name": "stdout",
     "output_type": "stream",
     "text": [
      "\n",
      "The train dataset has 8523 rows and 12 columns.\n",
      "\n",
      "The test dataset has 5681 rows and 11 columns.\n"
     ]
    }
   ],
   "source": [
    "# Loading datasets\n",
    "\n",
    "train = pd.read_csv(r\"train.csv\")\n",
    "test = pd.read_csv(r\"test.csv\")\n",
    "print(\"\\nThe train dataset has {} rows and {} columns.\".format(train.shape[0],train.shape[1]))\n",
    "print(\"\\nThe test dataset has {} rows and {} columns.\".format(test.shape[0],test.shape[1]))"
   ]
  },
  {
   "cell_type": "code",
   "execution_count": 3,
   "id": "bca94f9d",
   "metadata": {
    "ExecuteTime": {
     "end_time": "2022-10-19T12:45:11.922250Z",
     "start_time": "2022-10-19T12:45:11.911280Z"
    }
   },
   "outputs": [
    {
     "name": "stdout",
     "output_type": "stream",
     "text": [
      "\n",
      "The train dataset has following columns:\n",
      "Index(['Item_Identifier', 'Item_Weight', 'Item_Fat_Content', 'Item_Visibility',\n",
      "       'Item_Type', 'Item_MRP', 'Outlet_Identifier',\n",
      "       'Outlet_Establishment_Year', 'Outlet_Size', 'Outlet_Location_Type',\n",
      "       'Outlet_Type', 'Item_Outlet_Sales'],\n",
      "      dtype='object')\n",
      "\n",
      "The test dataset has following columns:\n",
      "Index(['Item_Identifier', 'Item_Weight', 'Item_Fat_Content', 'Item_Visibility',\n",
      "       'Item_Type', 'Item_MRP', 'Outlet_Identifier',\n",
      "       'Outlet_Establishment_Year', 'Outlet_Size', 'Outlet_Location_Type',\n",
      "       'Outlet_Type'],\n",
      "      dtype='object')\n"
     ]
    }
   ],
   "source": [
    "# Check the column names\n",
    "\n",
    "print(\"\\nThe train dataset has following columns:\")\n",
    "print(train.columns)\n",
    "print(\"\\nThe test dataset has following columns:\")\n",
    "print(test.columns)"
   ]
  },
  {
   "cell_type": "markdown",
   "id": "d52b3610",
   "metadata": {},
   "source": [
    "Train dataset contains the target/response variable 'Item_Outlet_Sales'. It is not present in the test dataset."
   ]
  },
  {
   "cell_type": "code",
   "execution_count": 4,
   "id": "031c1fe9",
   "metadata": {
    "ExecuteTime": {
     "end_time": "2022-10-19T12:45:11.938250Z",
     "start_time": "2022-10-19T12:45:11.928236Z"
    }
   },
   "outputs": [],
   "source": [
    "# Modifying Jupyter Notebook Kernel to display output of all code lines in one go.\n",
    "\n",
    "from IPython.core.interactiveshell import InteractiveShell\n",
    "InteractiveShell.ast_node_interactivity = 'all'"
   ]
  },
  {
   "cell_type": "code",
   "execution_count": 5,
   "id": "2e506747",
   "metadata": {
    "ExecuteTime": {
     "end_time": "2022-10-19T12:45:11.999856Z",
     "start_time": "2022-10-19T12:45:11.940201Z"
    }
   },
   "outputs": [
    {
     "name": "stdout",
     "output_type": "stream",
     "text": [
      "Train Dataframe\n"
     ]
    },
    {
     "data": {
      "text/html": [
       "<div>\n",
       "<style scoped>\n",
       "    .dataframe tbody tr th:only-of-type {\n",
       "        vertical-align: middle;\n",
       "    }\n",
       "\n",
       "    .dataframe tbody tr th {\n",
       "        vertical-align: top;\n",
       "    }\n",
       "\n",
       "    .dataframe thead th {\n",
       "        text-align: right;\n",
       "    }\n",
       "</style>\n",
       "<table border=\"1\" class=\"dataframe\">\n",
       "  <thead>\n",
       "    <tr style=\"text-align: right;\">\n",
       "      <th></th>\n",
       "      <th>Item_Identifier</th>\n",
       "      <th>Item_Weight</th>\n",
       "      <th>Item_Fat_Content</th>\n",
       "      <th>Item_Visibility</th>\n",
       "      <th>Item_Type</th>\n",
       "      <th>Item_MRP</th>\n",
       "      <th>Outlet_Identifier</th>\n",
       "      <th>Outlet_Establishment_Year</th>\n",
       "      <th>Outlet_Size</th>\n",
       "      <th>Outlet_Location_Type</th>\n",
       "      <th>Outlet_Type</th>\n",
       "      <th>Item_Outlet_Sales</th>\n",
       "    </tr>\n",
       "  </thead>\n",
       "  <tbody>\n",
       "    <tr>\n",
       "      <th>0</th>\n",
       "      <td>FDA15</td>\n",
       "      <td>9.30</td>\n",
       "      <td>Low Fat</td>\n",
       "      <td>0.016047</td>\n",
       "      <td>Dairy</td>\n",
       "      <td>249.8092</td>\n",
       "      <td>OUT049</td>\n",
       "      <td>1999</td>\n",
       "      <td>Medium</td>\n",
       "      <td>Tier 1</td>\n",
       "      <td>Supermarket Type1</td>\n",
       "      <td>3735.1380</td>\n",
       "    </tr>\n",
       "    <tr>\n",
       "      <th>1</th>\n",
       "      <td>DRC01</td>\n",
       "      <td>5.92</td>\n",
       "      <td>Regular</td>\n",
       "      <td>0.019278</td>\n",
       "      <td>Soft Drinks</td>\n",
       "      <td>48.2692</td>\n",
       "      <td>OUT018</td>\n",
       "      <td>2009</td>\n",
       "      <td>Medium</td>\n",
       "      <td>Tier 3</td>\n",
       "      <td>Supermarket Type2</td>\n",
       "      <td>443.4228</td>\n",
       "    </tr>\n",
       "    <tr>\n",
       "      <th>2</th>\n",
       "      <td>FDN15</td>\n",
       "      <td>17.50</td>\n",
       "      <td>Low Fat</td>\n",
       "      <td>0.016760</td>\n",
       "      <td>Meat</td>\n",
       "      <td>141.6180</td>\n",
       "      <td>OUT049</td>\n",
       "      <td>1999</td>\n",
       "      <td>Medium</td>\n",
       "      <td>Tier 1</td>\n",
       "      <td>Supermarket Type1</td>\n",
       "      <td>2097.2700</td>\n",
       "    </tr>\n",
       "    <tr>\n",
       "      <th>3</th>\n",
       "      <td>FDX07</td>\n",
       "      <td>19.20</td>\n",
       "      <td>Regular</td>\n",
       "      <td>0.000000</td>\n",
       "      <td>Fruits and Vegetables</td>\n",
       "      <td>182.0950</td>\n",
       "      <td>OUT010</td>\n",
       "      <td>1998</td>\n",
       "      <td>NaN</td>\n",
       "      <td>Tier 3</td>\n",
       "      <td>Grocery Store</td>\n",
       "      <td>732.3800</td>\n",
       "    </tr>\n",
       "    <tr>\n",
       "      <th>4</th>\n",
       "      <td>NCD19</td>\n",
       "      <td>8.93</td>\n",
       "      <td>Low Fat</td>\n",
       "      <td>0.000000</td>\n",
       "      <td>Household</td>\n",
       "      <td>53.8614</td>\n",
       "      <td>OUT013</td>\n",
       "      <td>1987</td>\n",
       "      <td>High</td>\n",
       "      <td>Tier 3</td>\n",
       "      <td>Supermarket Type1</td>\n",
       "      <td>994.7052</td>\n",
       "    </tr>\n",
       "  </tbody>\n",
       "</table>\n",
       "</div>"
      ],
      "text/plain": [
       "  Item_Identifier  Item_Weight Item_Fat_Content  Item_Visibility  \\\n",
       "0           FDA15         9.30          Low Fat         0.016047   \n",
       "1           DRC01         5.92          Regular         0.019278   \n",
       "2           FDN15        17.50          Low Fat         0.016760   \n",
       "3           FDX07        19.20          Regular         0.000000   \n",
       "4           NCD19         8.93          Low Fat         0.000000   \n",
       "\n",
       "               Item_Type  Item_MRP Outlet_Identifier  \\\n",
       "0                  Dairy  249.8092            OUT049   \n",
       "1            Soft Drinks   48.2692            OUT018   \n",
       "2                   Meat  141.6180            OUT049   \n",
       "3  Fruits and Vegetables  182.0950            OUT010   \n",
       "4              Household   53.8614            OUT013   \n",
       "\n",
       "   Outlet_Establishment_Year Outlet_Size Outlet_Location_Type  \\\n",
       "0                       1999      Medium               Tier 1   \n",
       "1                       2009      Medium               Tier 3   \n",
       "2                       1999      Medium               Tier 1   \n",
       "3                       1998         NaN               Tier 3   \n",
       "4                       1987        High               Tier 3   \n",
       "\n",
       "         Outlet_Type  Item_Outlet_Sales  \n",
       "0  Supermarket Type1          3735.1380  \n",
       "1  Supermarket Type2           443.4228  \n",
       "2  Supermarket Type1          2097.2700  \n",
       "3      Grocery Store           732.3800  \n",
       "4  Supermarket Type1           994.7052  "
      ]
     },
     "execution_count": 5,
     "metadata": {},
     "output_type": "execute_result"
    },
    {
     "name": "stdout",
     "output_type": "stream",
     "text": [
      "\n",
      "\n",
      "Test Dataframe\n"
     ]
    },
    {
     "data": {
      "text/html": [
       "<div>\n",
       "<style scoped>\n",
       "    .dataframe tbody tr th:only-of-type {\n",
       "        vertical-align: middle;\n",
       "    }\n",
       "\n",
       "    .dataframe tbody tr th {\n",
       "        vertical-align: top;\n",
       "    }\n",
       "\n",
       "    .dataframe thead th {\n",
       "        text-align: right;\n",
       "    }\n",
       "</style>\n",
       "<table border=\"1\" class=\"dataframe\">\n",
       "  <thead>\n",
       "    <tr style=\"text-align: right;\">\n",
       "      <th></th>\n",
       "      <th>Item_Identifier</th>\n",
       "      <th>Item_Weight</th>\n",
       "      <th>Item_Fat_Content</th>\n",
       "      <th>Item_Visibility</th>\n",
       "      <th>Item_Type</th>\n",
       "      <th>Item_MRP</th>\n",
       "      <th>Outlet_Identifier</th>\n",
       "      <th>Outlet_Establishment_Year</th>\n",
       "      <th>Outlet_Size</th>\n",
       "      <th>Outlet_Location_Type</th>\n",
       "      <th>Outlet_Type</th>\n",
       "    </tr>\n",
       "  </thead>\n",
       "  <tbody>\n",
       "    <tr>\n",
       "      <th>0</th>\n",
       "      <td>FDW58</td>\n",
       "      <td>20.750</td>\n",
       "      <td>Low Fat</td>\n",
       "      <td>0.007565</td>\n",
       "      <td>Snack Foods</td>\n",
       "      <td>107.8622</td>\n",
       "      <td>OUT049</td>\n",
       "      <td>1999</td>\n",
       "      <td>Medium</td>\n",
       "      <td>Tier 1</td>\n",
       "      <td>Supermarket Type1</td>\n",
       "    </tr>\n",
       "    <tr>\n",
       "      <th>1</th>\n",
       "      <td>FDW14</td>\n",
       "      <td>8.300</td>\n",
       "      <td>reg</td>\n",
       "      <td>0.038428</td>\n",
       "      <td>Dairy</td>\n",
       "      <td>87.3198</td>\n",
       "      <td>OUT017</td>\n",
       "      <td>2007</td>\n",
       "      <td>NaN</td>\n",
       "      <td>Tier 2</td>\n",
       "      <td>Supermarket Type1</td>\n",
       "    </tr>\n",
       "    <tr>\n",
       "      <th>2</th>\n",
       "      <td>NCN55</td>\n",
       "      <td>14.600</td>\n",
       "      <td>Low Fat</td>\n",
       "      <td>0.099575</td>\n",
       "      <td>Others</td>\n",
       "      <td>241.7538</td>\n",
       "      <td>OUT010</td>\n",
       "      <td>1998</td>\n",
       "      <td>NaN</td>\n",
       "      <td>Tier 3</td>\n",
       "      <td>Grocery Store</td>\n",
       "    </tr>\n",
       "    <tr>\n",
       "      <th>3</th>\n",
       "      <td>FDQ58</td>\n",
       "      <td>7.315</td>\n",
       "      <td>Low Fat</td>\n",
       "      <td>0.015388</td>\n",
       "      <td>Snack Foods</td>\n",
       "      <td>155.0340</td>\n",
       "      <td>OUT017</td>\n",
       "      <td>2007</td>\n",
       "      <td>NaN</td>\n",
       "      <td>Tier 2</td>\n",
       "      <td>Supermarket Type1</td>\n",
       "    </tr>\n",
       "    <tr>\n",
       "      <th>4</th>\n",
       "      <td>FDY38</td>\n",
       "      <td>NaN</td>\n",
       "      <td>Regular</td>\n",
       "      <td>0.118599</td>\n",
       "      <td>Dairy</td>\n",
       "      <td>234.2300</td>\n",
       "      <td>OUT027</td>\n",
       "      <td>1985</td>\n",
       "      <td>Medium</td>\n",
       "      <td>Tier 3</td>\n",
       "      <td>Supermarket Type3</td>\n",
       "    </tr>\n",
       "  </tbody>\n",
       "</table>\n",
       "</div>"
      ],
      "text/plain": [
       "  Item_Identifier  Item_Weight Item_Fat_Content  Item_Visibility    Item_Type  \\\n",
       "0           FDW58       20.750          Low Fat         0.007565  Snack Foods   \n",
       "1           FDW14        8.300              reg         0.038428        Dairy   \n",
       "2           NCN55       14.600          Low Fat         0.099575       Others   \n",
       "3           FDQ58        7.315          Low Fat         0.015388  Snack Foods   \n",
       "4           FDY38          NaN          Regular         0.118599        Dairy   \n",
       "\n",
       "   Item_MRP Outlet_Identifier  Outlet_Establishment_Year Outlet_Size  \\\n",
       "0  107.8622            OUT049                       1999      Medium   \n",
       "1   87.3198            OUT017                       2007         NaN   \n",
       "2  241.7538            OUT010                       1998         NaN   \n",
       "3  155.0340            OUT017                       2007         NaN   \n",
       "4  234.2300            OUT027                       1985      Medium   \n",
       "\n",
       "  Outlet_Location_Type        Outlet_Type  \n",
       "0               Tier 1  Supermarket Type1  \n",
       "1               Tier 2  Supermarket Type1  \n",
       "2               Tier 3      Grocery Store  \n",
       "3               Tier 2  Supermarket Type1  \n",
       "4               Tier 3  Supermarket Type3  "
      ]
     },
     "execution_count": 5,
     "metadata": {},
     "output_type": "execute_result"
    }
   ],
   "source": [
    "# To better understand the data, look at few rows from both dataframes.\n",
    "print('Train Dataframe')\n",
    "train.head()\n",
    "print(\"\\n\")\n",
    "print('Test Dataframe')\n",
    "test.head()"
   ]
  },
  {
   "cell_type": "markdown",
   "id": "98541bb2",
   "metadata": {},
   "source": [
    "### STEP 2 - Perform Exploratory Data Analysis (EDA)"
   ]
  },
  {
   "cell_type": "code",
   "execution_count": 6,
   "id": "2176c23c",
   "metadata": {
    "ExecuteTime": {
     "end_time": "2022-10-19T12:45:12.031739Z",
     "start_time": "2022-10-19T12:45:12.002816Z"
    }
   },
   "outputs": [
    {
     "data": {
      "text/html": [
       "<div>\n",
       "<style scoped>\n",
       "    .dataframe tbody tr th:only-of-type {\n",
       "        vertical-align: middle;\n",
       "    }\n",
       "\n",
       "    .dataframe tbody tr th {\n",
       "        vertical-align: top;\n",
       "    }\n",
       "\n",
       "    .dataframe thead th {\n",
       "        text-align: right;\n",
       "    }\n",
       "</style>\n",
       "<table border=\"1\" class=\"dataframe\">\n",
       "  <thead>\n",
       "    <tr style=\"text-align: right;\">\n",
       "      <th></th>\n",
       "      <th>Item_Identifier</th>\n",
       "      <th>Item_Fat_Content</th>\n",
       "      <th>Item_Type</th>\n",
       "      <th>Outlet_Identifier</th>\n",
       "      <th>Outlet_Size</th>\n",
       "      <th>Outlet_Location_Type</th>\n",
       "      <th>Outlet_Type</th>\n",
       "    </tr>\n",
       "  </thead>\n",
       "  <tbody>\n",
       "    <tr>\n",
       "      <th>0</th>\n",
       "      <td>FDA15</td>\n",
       "      <td>Low Fat</td>\n",
       "      <td>Dairy</td>\n",
       "      <td>OUT049</td>\n",
       "      <td>Medium</td>\n",
       "      <td>Tier 1</td>\n",
       "      <td>Supermarket Type1</td>\n",
       "    </tr>\n",
       "    <tr>\n",
       "      <th>1</th>\n",
       "      <td>DRC01</td>\n",
       "      <td>Regular</td>\n",
       "      <td>Soft Drinks</td>\n",
       "      <td>OUT018</td>\n",
       "      <td>Medium</td>\n",
       "      <td>Tier 3</td>\n",
       "      <td>Supermarket Type2</td>\n",
       "    </tr>\n",
       "    <tr>\n",
       "      <th>2</th>\n",
       "      <td>FDN15</td>\n",
       "      <td>Low Fat</td>\n",
       "      <td>Meat</td>\n",
       "      <td>OUT049</td>\n",
       "      <td>Medium</td>\n",
       "      <td>Tier 1</td>\n",
       "      <td>Supermarket Type1</td>\n",
       "    </tr>\n",
       "    <tr>\n",
       "      <th>3</th>\n",
       "      <td>FDX07</td>\n",
       "      <td>Regular</td>\n",
       "      <td>Fruits and Vegetables</td>\n",
       "      <td>OUT010</td>\n",
       "      <td>NaN</td>\n",
       "      <td>Tier 3</td>\n",
       "      <td>Grocery Store</td>\n",
       "    </tr>\n",
       "    <tr>\n",
       "      <th>4</th>\n",
       "      <td>NCD19</td>\n",
       "      <td>Low Fat</td>\n",
       "      <td>Household</td>\n",
       "      <td>OUT013</td>\n",
       "      <td>High</td>\n",
       "      <td>Tier 3</td>\n",
       "      <td>Supermarket Type1</td>\n",
       "    </tr>\n",
       "    <tr>\n",
       "      <th>...</th>\n",
       "      <td>...</td>\n",
       "      <td>...</td>\n",
       "      <td>...</td>\n",
       "      <td>...</td>\n",
       "      <td>...</td>\n",
       "      <td>...</td>\n",
       "      <td>...</td>\n",
       "    </tr>\n",
       "    <tr>\n",
       "      <th>8518</th>\n",
       "      <td>FDF22</td>\n",
       "      <td>Low Fat</td>\n",
       "      <td>Snack Foods</td>\n",
       "      <td>OUT013</td>\n",
       "      <td>High</td>\n",
       "      <td>Tier 3</td>\n",
       "      <td>Supermarket Type1</td>\n",
       "    </tr>\n",
       "    <tr>\n",
       "      <th>8519</th>\n",
       "      <td>FDS36</td>\n",
       "      <td>Regular</td>\n",
       "      <td>Baking Goods</td>\n",
       "      <td>OUT045</td>\n",
       "      <td>NaN</td>\n",
       "      <td>Tier 2</td>\n",
       "      <td>Supermarket Type1</td>\n",
       "    </tr>\n",
       "    <tr>\n",
       "      <th>8520</th>\n",
       "      <td>NCJ29</td>\n",
       "      <td>Low Fat</td>\n",
       "      <td>Health and Hygiene</td>\n",
       "      <td>OUT035</td>\n",
       "      <td>Small</td>\n",
       "      <td>Tier 2</td>\n",
       "      <td>Supermarket Type1</td>\n",
       "    </tr>\n",
       "    <tr>\n",
       "      <th>8521</th>\n",
       "      <td>FDN46</td>\n",
       "      <td>Regular</td>\n",
       "      <td>Snack Foods</td>\n",
       "      <td>OUT018</td>\n",
       "      <td>Medium</td>\n",
       "      <td>Tier 3</td>\n",
       "      <td>Supermarket Type2</td>\n",
       "    </tr>\n",
       "    <tr>\n",
       "      <th>8522</th>\n",
       "      <td>DRG01</td>\n",
       "      <td>Low Fat</td>\n",
       "      <td>Soft Drinks</td>\n",
       "      <td>OUT046</td>\n",
       "      <td>Small</td>\n",
       "      <td>Tier 1</td>\n",
       "      <td>Supermarket Type1</td>\n",
       "    </tr>\n",
       "  </tbody>\n",
       "</table>\n",
       "<p>8523 rows × 7 columns</p>\n",
       "</div>"
      ],
      "text/plain": [
       "     Item_Identifier Item_Fat_Content              Item_Type  \\\n",
       "0              FDA15          Low Fat                  Dairy   \n",
       "1              DRC01          Regular            Soft Drinks   \n",
       "2              FDN15          Low Fat                   Meat   \n",
       "3              FDX07          Regular  Fruits and Vegetables   \n",
       "4              NCD19          Low Fat              Household   \n",
       "...              ...              ...                    ...   \n",
       "8518           FDF22          Low Fat            Snack Foods   \n",
       "8519           FDS36          Regular           Baking Goods   \n",
       "8520           NCJ29          Low Fat     Health and Hygiene   \n",
       "8521           FDN46          Regular            Snack Foods   \n",
       "8522           DRG01          Low Fat            Soft Drinks   \n",
       "\n",
       "     Outlet_Identifier Outlet_Size Outlet_Location_Type        Outlet_Type  \n",
       "0               OUT049      Medium               Tier 1  Supermarket Type1  \n",
       "1               OUT018      Medium               Tier 3  Supermarket Type2  \n",
       "2               OUT049      Medium               Tier 1  Supermarket Type1  \n",
       "3               OUT010         NaN               Tier 3      Grocery Store  \n",
       "4               OUT013        High               Tier 3  Supermarket Type1  \n",
       "...                ...         ...                  ...                ...  \n",
       "8518            OUT013        High               Tier 3  Supermarket Type1  \n",
       "8519            OUT045         NaN               Tier 2  Supermarket Type1  \n",
       "8520            OUT035       Small               Tier 2  Supermarket Type1  \n",
       "8521            OUT018      Medium               Tier 3  Supermarket Type2  \n",
       "8522            OUT046       Small               Tier 1  Supermarket Type1  \n",
       "\n",
       "[8523 rows x 7 columns]"
      ]
     },
     "execution_count": 6,
     "metadata": {},
     "output_type": "execute_result"
    }
   ],
   "source": [
    "# Exploring the categorical features together\n",
    "\n",
    "categorical_vars = train.select_dtypes(include='object')\n",
    "categorical_vars"
   ]
  },
  {
   "cell_type": "code",
   "execution_count": 7,
   "id": "90642a16",
   "metadata": {
    "ExecuteTime": {
     "end_time": "2022-10-19T12:45:12.063654Z",
     "start_time": "2022-10-19T12:45:12.036731Z"
    }
   },
   "outputs": [
    {
     "data": {
      "text/plain": [
       "Item_Identifier         1559\n",
       "Item_Fat_Content           5\n",
       "Item_Type                 16\n",
       "Outlet_Identifier         10\n",
       "Outlet_Size                3\n",
       "Outlet_Location_Type       3\n",
       "Outlet_Type                4\n",
       "dtype: int64"
      ]
     },
     "execution_count": 7,
     "metadata": {},
     "output_type": "execute_result"
    }
   ],
   "source": [
    "categorical_vars.nunique()"
   ]
  },
  {
   "cell_type": "markdown",
   "id": "5e10cc21",
   "metadata": {},
   "source": [
    "\"Item_Identifier\" has a large number of unique values and hence not apt for OneHotEncoding (OHE)/ OrdinalEncoding (OE).\n",
    "\"Item_Type\" too has 16 unique values. We need to explore these further. Might not be apt for OHE/ OE.\n",
    "Outlet_Identifier has 10 values. This means the dataset has observations/ records pertaining to 10 different stores"
   ]
  },
  {
   "cell_type": "code",
   "execution_count": 8,
   "id": "ee44ca07",
   "metadata": {
    "ExecuteTime": {
     "end_time": "2022-10-19T12:45:12.093576Z",
     "start_time": "2022-10-19T12:45:12.065648Z"
    }
   },
   "outputs": [
    {
     "data": {
      "text/plain": [
       "Item_Identifier            0\n",
       "Item_Fat_Content           0\n",
       "Item_Type                  0\n",
       "Outlet_Identifier          0\n",
       "Outlet_Size             2410\n",
       "Outlet_Location_Type       0\n",
       "Outlet_Type                0\n",
       "dtype: int64"
      ]
     },
     "execution_count": 8,
     "metadata": {},
     "output_type": "execute_result"
    }
   ],
   "source": [
    "# Check Null values\n",
    "categorical_vars.isna().sum()"
   ]
  },
  {
   "cell_type": "markdown",
   "id": "15f11511",
   "metadata": {},
   "source": [
    "\"Outlet_Size\" has 2410 missing or Null values. We need a strategy to fill these NaNs."
   ]
  },
  {
   "cell_type": "code",
   "execution_count": 9,
   "id": "81423fc5",
   "metadata": {
    "ExecuteTime": {
     "end_time": "2022-10-19T12:45:12.109561Z",
     "start_time": "2022-10-19T12:45:12.096568Z"
    }
   },
   "outputs": [
    {
     "data": {
      "text/plain": [
       "Outlet_Type        Outlet_Size\n",
       "Grocery Store      Small           528\n",
       "Supermarket Type1  High            932\n",
       "                   Medium          930\n",
       "                   Small          1860\n",
       "Supermarket Type2  Medium          928\n",
       "Supermarket Type3  Medium          935\n",
       "dtype: int64"
      ]
     },
     "execution_count": 9,
     "metadata": {},
     "output_type": "execute_result"
    }
   ],
   "source": [
    "# One strategy can be to fill \"Outlet_Size\" based on the most_frequent value/ mode by different \"Outlet_Type\"\n",
    "categorical_vars.groupby(by=[\"Outlet_Type\", \"Outlet_Size\"]).size()"
   ]
  },
  {
   "cell_type": "code",
   "execution_count": 10,
   "id": "65c20dc9",
   "metadata": {
    "ExecuteTime": {
     "end_time": "2022-10-19T12:45:12.141446Z",
     "start_time": "2022-10-19T12:45:12.118524Z"
    }
   },
   "outputs": [
    {
     "data": {
      "text/plain": [
       "Outlet_Identifier  Outlet_Size\n",
       "OUT013             High           932\n",
       "OUT018             Medium         928\n",
       "OUT019             Small          528\n",
       "OUT027             Medium         935\n",
       "OUT035             Small          930\n",
       "OUT046             Small          930\n",
       "OUT049             Medium         930\n",
       "dtype: int64"
      ]
     },
     "execution_count": 10,
     "metadata": {},
     "output_type": "execute_result"
    }
   ],
   "source": [
    "# Let's explore the \"Outlet_Size\" by different \"Outlet_Identifiers\".\\\n",
    "\n",
    "categorical_vars.groupby(by=[\"Outlet_Identifier\", \"Outlet_Size\"]).size()"
   ]
  },
  {
   "cell_type": "markdown",
   "id": "70d09caa",
   "metadata": {},
   "source": [
    "So it is clear, the \"Outlet_Size\" information is available only for 7 out of 10 \"Outlets\". The three outlets for which no Size information is available in the dataset can be found as below:"
   ]
  },
  {
   "cell_type": "code",
   "execution_count": 11,
   "id": "6b8198f2",
   "metadata": {},
   "outputs": [
    {
     "data": {
      "text/plain": [
       "array(['OUT049', 'OUT018', 'OUT010', 'OUT013', 'OUT027', 'OUT045',\n",
       "       'OUT017', 'OUT046', 'OUT035', 'OUT019'], dtype=object)"
      ]
     },
     "execution_count": 11,
     "metadata": {},
     "output_type": "execute_result"
    }
   ],
   "source": [
    "categorical_vars[\"Outlet_Identifier\"].unique()  "
   ]
  },
  {
   "cell_type": "markdown",
   "id": "dcdcd01f",
   "metadata": {},
   "source": [
    "This is a list of all Outlet_Identifiers. The three missing are OUT010, OUT017, and OUT045."
   ]
  },
  {
   "cell_type": "code",
   "execution_count": 12,
   "id": "585c3e4e",
   "metadata": {
    "scrolled": true
   },
   "outputs": [
    {
     "data": {
      "text/plain": [
       "Outlet_Location_Type  Outlet_Type        Outlet_Size\n",
       "Tier 1                Grocery Store      Small          528\n",
       "                      Supermarket Type1  Medium         930\n",
       "                                         Small          930\n",
       "Tier 2                Supermarket Type1  Small          930\n",
       "Tier 3                Supermarket Type1  High           932\n",
       "                      Supermarket Type2  Medium         928\n",
       "                      Supermarket Type3  Medium         935\n",
       "dtype: int64"
      ]
     },
     "execution_count": 12,
     "metadata": {},
     "output_type": "execute_result"
    }
   ],
   "source": [
    "# Further explore \"Outlet_Size\" by Location Type and Outlet Typeb\n",
    "train.groupby(by=[\"Outlet_Location_Type\", \"Outlet_Type\", \"Outlet_Size\"]).size()"
   ]
  },
  {
   "cell_type": "markdown",
   "id": "709bacb9",
   "metadata": {},
   "source": [
    "It is clear, only 'Supermarket Type1' type of outlets located in 'Tier 3' locations have Outlet_Size = High. All other outlets are either small or medium sized.  "
   ]
  },
  {
   "cell_type": "code",
   "execution_count": 13,
   "id": "73c96102",
   "metadata": {
    "scrolled": true
   },
   "outputs": [
    {
     "data": {
      "text/plain": [
       "Outlet_Identifier  Outlet_Location_Type  Outlet_Type      \n",
       "OUT010             Tier 3                Grocery Store        555\n",
       "OUT017             Tier 2                Supermarket Type1    926\n",
       "OUT045             Tier 2                Supermarket Type1    929\n",
       "dtype: int64"
      ]
     },
     "execution_count": 13,
     "metadata": {},
     "output_type": "execute_result"
    }
   ],
   "source": [
    "# Next let's see the type and location of outlets for which the size information isn't available\n",
    "train[train.Outlet_Size.isna()].groupby(by=[\"Outlet_Identifier\", \"Outlet_Location_Type\", \"Outlet_Type\"]).size()"
   ]
  },
  {
   "cell_type": "markdown",
   "id": "c3551b0c",
   "metadata": {},
   "source": [
    "So we can see, out of the outlets for which size information is missing none is 'Supermarket Type1' located in 'Tier 3' location. Combining this with the analysis in above cell, we can conclude all missing values for 'Outlet_Size' are either 'Small' or 'Medium'. \n",
    "\n",
    "In other words, to fill Null values we can follow the rule:\n",
    "Tier 3-Grocery Store = Small;\n",
    "Tier 2-Supermarket Type1 = Small"
   ]
  },
  {
   "cell_type": "markdown",
   "id": "5f46da32",
   "metadata": {
    "ExecuteTime": {
     "end_time": "2022-10-19T12:45:12.157403Z",
     "start_time": "2022-10-19T12:45:12.143476Z"
    }
   },
   "source": [
    "##### For categorical variables no Outlier Treatment is required."
   ]
  },
  {
   "cell_type": "code",
   "execution_count": 14,
   "id": "cc7c098d",
   "metadata": {
    "ExecuteTime": {
     "end_time": "2022-10-19T12:45:12.189343Z",
     "start_time": "2022-10-19T12:45:12.160397Z"
    }
   },
   "outputs": [
    {
     "name": "stdout",
     "output_type": "stream",
     "text": [
      "Item_Fat_Content\n",
      "Item_Fat_Content\n",
      "Low Fat    5089\n",
      "Regular    2889\n",
      "LF          316\n",
      "reg         117\n",
      "low fat     112\n",
      "Name: count, dtype: int64\n",
      "\n",
      "\n",
      "Item_Type\n",
      "Item_Type\n",
      "Fruits and Vegetables    1232\n",
      "Snack Foods              1200\n",
      "Household                 910\n",
      "Frozen Foods              856\n",
      "Dairy                     682\n",
      "Canned                    649\n",
      "Baking Goods              648\n",
      "Health and Hygiene        520\n",
      "Soft Drinks               445\n",
      "Meat                      425\n",
      "Breads                    251\n",
      "Hard Drinks               214\n",
      "Others                    169\n",
      "Starchy Foods             148\n",
      "Breakfast                 110\n",
      "Seafood                    64\n",
      "Name: count, dtype: int64\n",
      "\n",
      "\n",
      "Outlet_Identifier\n",
      "Outlet_Identifier\n",
      "OUT027    935\n",
      "OUT013    932\n",
      "OUT049    930\n",
      "OUT046    930\n",
      "OUT035    930\n",
      "OUT045    929\n",
      "OUT018    928\n",
      "OUT017    926\n",
      "OUT010    555\n",
      "OUT019    528\n",
      "Name: count, dtype: int64\n",
      "\n",
      "\n",
      "Outlet_Size\n",
      "Outlet_Size\n",
      "Medium    2793\n",
      "Small     2388\n",
      "High       932\n",
      "Name: count, dtype: int64\n",
      "\n",
      "\n",
      "Outlet_Location_Type\n",
      "Outlet_Location_Type\n",
      "Tier 3    3350\n",
      "Tier 2    2785\n",
      "Tier 1    2388\n",
      "Name: count, dtype: int64\n",
      "\n",
      "\n",
      "Outlet_Type\n",
      "Outlet_Type\n",
      "Supermarket Type1    5577\n",
      "Grocery Store        1083\n",
      "Supermarket Type3     935\n",
      "Supermarket Type2     928\n",
      "Name: count, dtype: int64\n",
      "\n",
      "\n"
     ]
    }
   ],
   "source": [
    "# Lastly as part of categorical variable exploration. Let's check for data inconsistencies.\n",
    "for i in list(categorical_vars.columns):\n",
    "    if categorical_vars[i].nunique() < 17:\n",
    "        print(i)\n",
    "        print(categorical_vars[i].value_counts())\n",
    "        print(\"\\n\")\n",
    "    else:\n",
    "        continue        "
   ]
  },
  {
   "cell_type": "markdown",
   "id": "e562fb55",
   "metadata": {},
   "source": [
    "So we conclude there is inconsistent data only in \"Item_Fat_Content\" feature. We need a strategy to fix this."
   ]
  },
  {
   "cell_type": "code",
   "execution_count": 15,
   "id": "bfac3cb4",
   "metadata": {
    "ExecuteTime": {
     "end_time": "2022-10-19T12:45:12.205276Z",
     "start_time": "2022-10-19T12:45:12.191319Z"
    }
   },
   "outputs": [
    {
     "data": {
      "text/html": [
       "<div>\n",
       "<style scoped>\n",
       "    .dataframe tbody tr th:only-of-type {\n",
       "        vertical-align: middle;\n",
       "    }\n",
       "\n",
       "    .dataframe tbody tr th {\n",
       "        vertical-align: top;\n",
       "    }\n",
       "\n",
       "    .dataframe thead th {\n",
       "        text-align: right;\n",
       "    }\n",
       "</style>\n",
       "<table border=\"1\" class=\"dataframe\">\n",
       "  <thead>\n",
       "    <tr style=\"text-align: right;\">\n",
       "      <th></th>\n",
       "      <th>Item_Weight</th>\n",
       "      <th>Item_Visibility</th>\n",
       "      <th>Item_MRP</th>\n",
       "      <th>Outlet_Establishment_Year</th>\n",
       "      <th>Item_Outlet_Sales</th>\n",
       "    </tr>\n",
       "  </thead>\n",
       "  <tbody>\n",
       "    <tr>\n",
       "      <th>0</th>\n",
       "      <td>9.300</td>\n",
       "      <td>0.016047</td>\n",
       "      <td>249.8092</td>\n",
       "      <td>1999</td>\n",
       "      <td>3735.1380</td>\n",
       "    </tr>\n",
       "    <tr>\n",
       "      <th>1</th>\n",
       "      <td>5.920</td>\n",
       "      <td>0.019278</td>\n",
       "      <td>48.2692</td>\n",
       "      <td>2009</td>\n",
       "      <td>443.4228</td>\n",
       "    </tr>\n",
       "    <tr>\n",
       "      <th>2</th>\n",
       "      <td>17.500</td>\n",
       "      <td>0.016760</td>\n",
       "      <td>141.6180</td>\n",
       "      <td>1999</td>\n",
       "      <td>2097.2700</td>\n",
       "    </tr>\n",
       "    <tr>\n",
       "      <th>3</th>\n",
       "      <td>19.200</td>\n",
       "      <td>0.000000</td>\n",
       "      <td>182.0950</td>\n",
       "      <td>1998</td>\n",
       "      <td>732.3800</td>\n",
       "    </tr>\n",
       "    <tr>\n",
       "      <th>4</th>\n",
       "      <td>8.930</td>\n",
       "      <td>0.000000</td>\n",
       "      <td>53.8614</td>\n",
       "      <td>1987</td>\n",
       "      <td>994.7052</td>\n",
       "    </tr>\n",
       "    <tr>\n",
       "      <th>...</th>\n",
       "      <td>...</td>\n",
       "      <td>...</td>\n",
       "      <td>...</td>\n",
       "      <td>...</td>\n",
       "      <td>...</td>\n",
       "    </tr>\n",
       "    <tr>\n",
       "      <th>8518</th>\n",
       "      <td>6.865</td>\n",
       "      <td>0.056783</td>\n",
       "      <td>214.5218</td>\n",
       "      <td>1987</td>\n",
       "      <td>2778.3834</td>\n",
       "    </tr>\n",
       "    <tr>\n",
       "      <th>8519</th>\n",
       "      <td>8.380</td>\n",
       "      <td>0.046982</td>\n",
       "      <td>108.1570</td>\n",
       "      <td>2002</td>\n",
       "      <td>549.2850</td>\n",
       "    </tr>\n",
       "    <tr>\n",
       "      <th>8520</th>\n",
       "      <td>10.600</td>\n",
       "      <td>0.035186</td>\n",
       "      <td>85.1224</td>\n",
       "      <td>2004</td>\n",
       "      <td>1193.1136</td>\n",
       "    </tr>\n",
       "    <tr>\n",
       "      <th>8521</th>\n",
       "      <td>7.210</td>\n",
       "      <td>0.145221</td>\n",
       "      <td>103.1332</td>\n",
       "      <td>2009</td>\n",
       "      <td>1845.5976</td>\n",
       "    </tr>\n",
       "    <tr>\n",
       "      <th>8522</th>\n",
       "      <td>14.800</td>\n",
       "      <td>0.044878</td>\n",
       "      <td>75.4670</td>\n",
       "      <td>1997</td>\n",
       "      <td>765.6700</td>\n",
       "    </tr>\n",
       "  </tbody>\n",
       "</table>\n",
       "<p>8523 rows × 5 columns</p>\n",
       "</div>"
      ],
      "text/plain": [
       "      Item_Weight  Item_Visibility  Item_MRP  Outlet_Establishment_Year  \\\n",
       "0           9.300         0.016047  249.8092                       1999   \n",
       "1           5.920         0.019278   48.2692                       2009   \n",
       "2          17.500         0.016760  141.6180                       1999   \n",
       "3          19.200         0.000000  182.0950                       1998   \n",
       "4           8.930         0.000000   53.8614                       1987   \n",
       "...           ...              ...       ...                        ...   \n",
       "8518        6.865         0.056783  214.5218                       1987   \n",
       "8519        8.380         0.046982  108.1570                       2002   \n",
       "8520       10.600         0.035186   85.1224                       2004   \n",
       "8521        7.210         0.145221  103.1332                       2009   \n",
       "8522       14.800         0.044878   75.4670                       1997   \n",
       "\n",
       "      Item_Outlet_Sales  \n",
       "0             3735.1380  \n",
       "1              443.4228  \n",
       "2             2097.2700  \n",
       "3              732.3800  \n",
       "4              994.7052  \n",
       "...                 ...  \n",
       "8518          2778.3834  \n",
       "8519           549.2850  \n",
       "8520          1193.1136  \n",
       "8521          1845.5976  \n",
       "8522           765.6700  \n",
       "\n",
       "[8523 rows x 5 columns]"
      ]
     },
     "execution_count": 15,
     "metadata": {},
     "output_type": "execute_result"
    }
   ],
   "source": [
    "# Now let's explore various numerical columns together\n",
    "numerical_vars = train.select_dtypes(include=[\"int64\", \"float64\"])\n",
    "numerical_vars"
   ]
  },
  {
   "cell_type": "code",
   "execution_count": 16,
   "id": "ddb351ed",
   "metadata": {
    "ExecuteTime": {
     "end_time": "2022-10-19T12:45:12.237216Z",
     "start_time": "2022-10-19T12:45:12.207269Z"
    }
   },
   "outputs": [
    {
     "data": {
      "text/plain": [
       "Item_Weight                  1463\n",
       "Item_Visibility                 0\n",
       "Item_MRP                        0\n",
       "Outlet_Establishment_Year       0\n",
       "Item_Outlet_Sales               0\n",
       "dtype: int64"
      ]
     },
     "execution_count": 16,
     "metadata": {},
     "output_type": "execute_result"
    }
   ],
   "source": [
    "# Check for Null values\n",
    "numerical_vars.isna().sum()"
   ]
  },
  {
   "cell_type": "markdown",
   "id": "6133c568",
   "metadata": {},
   "source": [
    "So, Only \"Item_Weight\" has missing values. We need a strategy to deal with these.\n",
    "Missing values can be filled with mean/ mode/ median weight for the items in that Item_Type OR some other strategy based on Item_Identifier.\n",
    "\n",
    "One generic approach can be to fill \"Item_Weight\" with mean weight of all items. However this isn't an advisable approach."
   ]
  },
  {
   "cell_type": "code",
   "execution_count": 17,
   "id": "1bf7082c",
   "metadata": {
    "ExecuteTime": {
     "end_time": "2022-10-19T12:45:13.011308Z",
     "start_time": "2022-10-19T12:45:12.239185Z"
    }
   },
   "outputs": [
    {
     "data": {
      "text/plain": [
       "<Axes: >"
      ]
     },
     "execution_count": 17,
     "metadata": {},
     "output_type": "execute_result"
    },
    {
     "data": {
      "image/png": "[encoded data removed]",
      "text/plain": [
       "<Figure size 300x300 with 1 Axes>"
      ]
     },
     "metadata": {},
     "output_type": "display_data"
    },
    {
     "data": {
      "text/plain": [
       "<Axes: >"
      ]
     },
     "execution_count": 17,
     "metadata": {},
     "output_type": "execute_result"
    },
    {
     "data": {
      "image/png": "[encoded data removed]",
      "text/plain": [
       "<Figure size 300x300 with 1 Axes>"
      ]
     },
     "metadata": {},
     "output_type": "display_data"
    },
    {
     "data": {
      "text/plain": [
       "<Axes: >"
      ]
     },
     "execution_count": 17,
     "metadata": {},
     "output_type": "execute_result"
    },
    {
     "data": {
      "image/png": "[encoded data removed]",
      "text/plain": [
       "<Figure size 300x300 with 1 Axes>"
      ]
     },
     "metadata": {},
     "output_type": "display_data"
    },
    {
     "data": {
      "text/plain": [
       "<Axes: >"
      ]
     },
     "execution_count": 17,
     "metadata": {},
     "output_type": "execute_result"
    },
    {
     "data": {
      "image/png": "[encoded data removed]",
      "text/plain": [
       "<Figure size 300x300 with 1 Axes>"
      ]
     },
     "metadata": {},
     "output_type": "display_data"
    },
    {
     "data": {
      "text/plain": [
       "<Axes: >"
      ]
     },
     "execution_count": 17,
     "metadata": {},
     "output_type": "execute_result"
    },
    {
     "data": {
      "image/png": "[encoded data removed]",
      "text/plain": [
       "<Figure size 300x300 with 1 Axes>"
      ]
     },
     "metadata": {},
     "output_type": "display_data"
    }
   ],
   "source": [
    "# Plotting boxplot to check for outliers in different numerical variables. Plotting each boxplot separately as this allows \n",
    "# for clear reading of the charts.\n",
    "\n",
    "for i in list(numerical_vars.columns):\n",
    "    pd.DataFrame(numerical_vars[i]).boxplot(figsize=(3,3), fontsize=7)\n",
    "    plt.show()"
   ]
  },
  {
   "cell_type": "markdown",
   "id": "d18eea1e",
   "metadata": {},
   "source": [
    "Item_visibility and Item_outlet_Sales variables have outliers. We the need a strategy to handle outliers in the \n",
    "\"Item_visibility\" feature. \"Item_Outlet_Sales\" being the response variable we will leavel as it is."
   ]
  },
  {
   "cell_type": "markdown",
   "id": "a1d45a4b",
   "metadata": {},
   "source": [
    "#### Performing data transformations & devloping a crude base model"
   ]
  },
  {
   "cell_type": "code",
   "execution_count": 18,
   "id": "45915423",
   "metadata": {
    "ExecuteTime": {
     "end_time": "2022-10-19T12:45:13.027264Z",
     "start_time": "2022-10-19T12:45:13.013269Z"
    }
   },
   "outputs": [],
   "source": [
    "# Create a copy of train.csv\n",
    "train_ = train.copy()"
   ]
  },
  {
   "cell_type": "code",
   "execution_count": 19,
   "id": "77731c28",
   "metadata": {
    "ExecuteTime": {
     "end_time": "2022-10-19T12:45:13.043222Z",
     "start_time": "2022-10-19T12:45:13.029226Z"
    }
   },
   "outputs": [],
   "source": [
    "# Fill NaNs with average Item_Weight of all items\n",
    "train_[\"Item_Weight\"].fillna(train_[\"Item_Weight\"].mean(), inplace=True)"
   ]
  },
  {
   "cell_type": "code",
   "execution_count": 20,
   "id": "4b7d696a",
   "metadata": {
    "ExecuteTime": {
     "end_time": "2022-10-19T12:45:13.073243Z",
     "start_time": "2022-10-19T12:45:13.045184Z"
    }
   },
   "outputs": [],
   "source": [
    "# Fill Null values for \"Outlet_Size\" based on approach identified as earlier\n",
    "train_.loc[train_[\"Outlet_Size\"].isna(), \"Outlet_Size\"] = np.array([\"Small\" if i in [\"Grocery Store\", \"Supermarket Type1\"] else \"Medium\" for i in train_.loc[train_[\"Outlet_Size\"].isna(), \"Outlet_Type\"]])"
   ]
  },
  {
   "cell_type": "code",
   "execution_count": 21,
   "id": "99bbdaf2",
   "metadata": {
    "ExecuteTime": {
     "end_time": "2022-10-19T12:45:13.105197Z",
     "start_time": "2022-10-19T12:45:13.077236Z"
    }
   },
   "outputs": [
    {
     "data": {
      "text/plain": [
       "Item_Identifier              0\n",
       "Item_Weight                  0\n",
       "Item_Fat_Content             0\n",
       "Item_Visibility              0\n",
       "Item_Type                    0\n",
       "Item_MRP                     0\n",
       "Outlet_Identifier            0\n",
       "Outlet_Establishment_Year    0\n",
       "Outlet_Size                  0\n",
       "Outlet_Location_Type         0\n",
       "Outlet_Type                  0\n",
       "Item_Outlet_Sales            0\n",
       "dtype: int64"
      ]
     },
     "execution_count": 21,
     "metadata": {},
     "output_type": "execute_result"
    }
   ],
   "source": [
    "# Confirm there are no Null values in the dataset now\n",
    "train_.isna().sum()"
   ]
  },
  {
   "cell_type": "code",
   "execution_count": 22,
   "id": "fb3eb608",
   "metadata": {
    "ExecuteTime": {
     "end_time": "2022-10-19T12:45:13.277701Z",
     "start_time": "2022-10-19T12:45:13.248779Z"
    }
   },
   "outputs": [],
   "source": [
    "# Handling data inconsistencies in \"Item_Fat_Content\"\n",
    "train_[\"Item_Fat_Content\"].replace([\"LF\", \"Low FAT\", \"lf\", \"low fat\", \"Low fat\"], \"Low Fat\", inplace=True)\n",
    "train_[\"Item_Fat_Content\"].replace([\"reg\", \"regular\"], \"Regular\", inplace=True)"
   ]
  },
  {
   "cell_type": "code",
   "execution_count": 23,
   "id": "dab2dcf7",
   "metadata": {
    "ExecuteTime": {
     "end_time": "2022-10-19T12:45:13.293658Z",
     "start_time": "2022-10-19T12:45:13.280693Z"
    }
   },
   "outputs": [
    {
     "data": {
      "text/plain": [
       "Item_Fat_Content\n",
       "Low Fat    5517\n",
       "Regular    3006\n",
       "Name: count, dtype: int64"
      ]
     },
     "execution_count": 23,
     "metadata": {},
     "output_type": "execute_result"
    }
   ],
   "source": [
    "# Confirm data inconsistencies are handles as expected\n",
    "train_[\"Item_Fat_Content\"].value_counts()"
   ]
  },
  {
   "cell_type": "code",
   "execution_count": 24,
   "id": "5e859b49",
   "metadata": {
    "ExecuteTime": {
     "end_time": "2022-10-19T12:45:13.339536Z",
     "start_time": "2022-10-19T12:45:13.297650Z"
    },
    "scrolled": true
   },
   "outputs": [],
   "source": [
    "# OneHotEncoding categorical variables\n",
    "ct = make_column_transformer((OneHotEncoder(handle_unknown='ignore'), [\"Item_Fat_Content\", \"Item_Type\", \"Outlet_Size\", \"Outlet_Location_Type\", \"Outlet_Type\"]), remainder='passthrough')\n",
    "transformed = ct.fit_transform(train_)\n",
    "\n",
    "# Below lines of code are optional. These lines will just drop 'Onehotencoder_' text from encoded column names\n",
    "cols = [i[15:] if bool(re.search('onehotencoder_',i)) is True else i[11:] for i in list(ct.get_feature_names_out())]\n",
    "train_= pd.DataFrame(transformed, columns = cols)"
   ]
  },
  {
   "cell_type": "code",
   "execution_count": 25,
   "id": "05f65aa8",
   "metadata": {
    "ExecuteTime": {
     "end_time": "2022-10-19T12:45:13.355493Z",
     "start_time": "2022-10-19T12:45:13.342528Z"
    }
   },
   "outputs": [
    {
     "data": {
      "text/plain": [
       "(8523, 35)"
      ]
     },
     "execution_count": 25,
     "metadata": {},
     "output_type": "execute_result"
    },
    {
     "data": {
      "text/plain": [
       "Index(['Item_Fat_Content_Low Fat', 'Item_Fat_Content_Regular',\n",
       "       'Item_Type_Baking Goods', 'Item_Type_Breads', 'Item_Type_Breakfast',\n",
       "       'Item_Type_Canned', 'Item_Type_Dairy', 'Item_Type_Frozen Foods',\n",
       "       'Item_Type_Fruits and Vegetables', 'Item_Type_Hard Drinks',\n",
       "       'Item_Type_Health and Hygiene', 'Item_Type_Household', 'Item_Type_Meat',\n",
       "       'Item_Type_Others', 'Item_Type_Seafood', 'Item_Type_Snack Foods',\n",
       "       'Item_Type_Soft Drinks', 'Item_Type_Starchy Foods', 'Outlet_Size_High',\n",
       "       'Outlet_Size_Medium', 'Outlet_Size_Small',\n",
       "       'Outlet_Location_Type_Tier 1', 'Outlet_Location_Type_Tier 2',\n",
       "       'Outlet_Location_Type_Tier 3', 'Outlet_Type_Grocery Store',\n",
       "       'Outlet_Type_Supermarket Type1', 'Outlet_Type_Supermarket Type2',\n",
       "       'Outlet_Type_Supermarket Type3', 'Item_Identifier', 'Item_Weight',\n",
       "       'Item_Visibility', 'Item_MRP', 'Outlet_Identifier',\n",
       "       'Outlet_Establishment_Year', 'Item_Outlet_Sales'],\n",
       "      dtype='object')"
      ]
     },
     "execution_count": 25,
     "metadata": {},
     "output_type": "execute_result"
    }
   ],
   "source": [
    "# Confirm OHE is performed and new columns are generated\n",
    "train_.shape\n",
    "train_.columns"
   ]
  },
  {
   "cell_type": "code",
   "execution_count": 26,
   "id": "7df0883a",
   "metadata": {
    "ExecuteTime": {
     "end_time": "2022-10-19T12:45:13.387407Z",
     "start_time": "2022-10-19T12:45:13.359485Z"
    }
   },
   "outputs": [],
   "source": [
    "# Droping 'Item_Identifier' and 'Outlet_Identifier' as these will not have impact on product sales\n",
    "train_.drop(['Item_Identifier', 'Outlet_Identifier'], axis=1, inplace=True)"
   ]
  },
  {
   "cell_type": "code",
   "execution_count": 27,
   "id": "360d7f54",
   "metadata": {
    "ExecuteTime": {
     "end_time": "2022-10-19T12:45:13.403364Z",
     "start_time": "2022-10-19T12:45:13.390400Z"
    }
   },
   "outputs": [
    {
     "data": {
      "text/plain": [
       "(8523, 33)"
      ]
     },
     "execution_count": 27,
     "metadata": {},
     "output_type": "execute_result"
    }
   ],
   "source": [
    "# Confirm two columns are deleted \n",
    "train_.shape"
   ]
  },
  {
   "cell_type": "code",
   "execution_count": 28,
   "id": "8eda3f35",
   "metadata": {
    "ExecuteTime": {
     "end_time": "2022-10-19T12:45:13.481156Z",
     "start_time": "2022-10-19T12:45:13.405360Z"
    }
   },
   "outputs": [
    {
     "data": {
      "text/html": [
       "<div>\n",
       "<style scoped>\n",
       "    .dataframe tbody tr th:only-of-type {\n",
       "        vertical-align: middle;\n",
       "    }\n",
       "\n",
       "    .dataframe tbody tr th {\n",
       "        vertical-align: top;\n",
       "    }\n",
       "\n",
       "    .dataframe thead th {\n",
       "        text-align: right;\n",
       "    }\n",
       "</style>\n",
       "<table border=\"1\" class=\"dataframe\">\n",
       "  <thead>\n",
       "    <tr style=\"text-align: right;\">\n",
       "      <th></th>\n",
       "      <th>Item_Fat_Content_Low Fat</th>\n",
       "      <th>Item_Fat_Content_Regular</th>\n",
       "      <th>Item_Type_Baking Goods</th>\n",
       "      <th>Item_Type_Breads</th>\n",
       "      <th>Item_Type_Breakfast</th>\n",
       "      <th>Item_Type_Canned</th>\n",
       "      <th>Item_Type_Dairy</th>\n",
       "      <th>Item_Type_Frozen Foods</th>\n",
       "      <th>Item_Type_Fruits and Vegetables</th>\n",
       "      <th>Item_Type_Hard Drinks</th>\n",
       "      <th>...</th>\n",
       "      <th>Outlet_Location_Type_Tier 3</th>\n",
       "      <th>Outlet_Type_Grocery Store</th>\n",
       "      <th>Outlet_Type_Supermarket Type1</th>\n",
       "      <th>Outlet_Type_Supermarket Type2</th>\n",
       "      <th>Outlet_Type_Supermarket Type3</th>\n",
       "      <th>Item_Weight</th>\n",
       "      <th>Item_Visibility</th>\n",
       "      <th>Item_MRP</th>\n",
       "      <th>Outlet_Establishment_Year</th>\n",
       "      <th>Item_Outlet_Sales</th>\n",
       "    </tr>\n",
       "  </thead>\n",
       "  <tbody>\n",
       "    <tr>\n",
       "      <th>0</th>\n",
       "      <td>1.0</td>\n",
       "      <td>0.0</td>\n",
       "      <td>0.0</td>\n",
       "      <td>0.0</td>\n",
       "      <td>0.0</td>\n",
       "      <td>0.0</td>\n",
       "      <td>1.0</td>\n",
       "      <td>0.0</td>\n",
       "      <td>0.0</td>\n",
       "      <td>0.0</td>\n",
       "      <td>...</td>\n",
       "      <td>0.0</td>\n",
       "      <td>0.0</td>\n",
       "      <td>1.0</td>\n",
       "      <td>0.0</td>\n",
       "      <td>0.0</td>\n",
       "      <td>0.282525</td>\n",
       "      <td>0.048866</td>\n",
       "      <td>0.927507</td>\n",
       "      <td>0.583333</td>\n",
       "      <td>0.283587</td>\n",
       "    </tr>\n",
       "    <tr>\n",
       "      <th>1</th>\n",
       "      <td>0.0</td>\n",
       "      <td>1.0</td>\n",
       "      <td>0.0</td>\n",
       "      <td>0.0</td>\n",
       "      <td>0.0</td>\n",
       "      <td>0.0</td>\n",
       "      <td>0.0</td>\n",
       "      <td>0.0</td>\n",
       "      <td>0.0</td>\n",
       "      <td>0.0</td>\n",
       "      <td>...</td>\n",
       "      <td>1.0</td>\n",
       "      <td>0.0</td>\n",
       "      <td>0.0</td>\n",
       "      <td>1.0</td>\n",
       "      <td>0.0</td>\n",
       "      <td>0.081274</td>\n",
       "      <td>0.058705</td>\n",
       "      <td>0.072068</td>\n",
       "      <td>1.000000</td>\n",
       "      <td>0.031419</td>\n",
       "    </tr>\n",
       "    <tr>\n",
       "      <th>2</th>\n",
       "      <td>1.0</td>\n",
       "      <td>0.0</td>\n",
       "      <td>0.0</td>\n",
       "      <td>0.0</td>\n",
       "      <td>0.0</td>\n",
       "      <td>0.0</td>\n",
       "      <td>0.0</td>\n",
       "      <td>0.0</td>\n",
       "      <td>0.0</td>\n",
       "      <td>0.0</td>\n",
       "      <td>...</td>\n",
       "      <td>0.0</td>\n",
       "      <td>0.0</td>\n",
       "      <td>1.0</td>\n",
       "      <td>0.0</td>\n",
       "      <td>0.0</td>\n",
       "      <td>0.770765</td>\n",
       "      <td>0.051037</td>\n",
       "      <td>0.468288</td>\n",
       "      <td>0.583333</td>\n",
       "      <td>0.158115</td>\n",
       "    </tr>\n",
       "    <tr>\n",
       "      <th>3</th>\n",
       "      <td>0.0</td>\n",
       "      <td>1.0</td>\n",
       "      <td>0.0</td>\n",
       "      <td>0.0</td>\n",
       "      <td>0.0</td>\n",
       "      <td>0.0</td>\n",
       "      <td>0.0</td>\n",
       "      <td>0.0</td>\n",
       "      <td>1.0</td>\n",
       "      <td>0.0</td>\n",
       "      <td>...</td>\n",
       "      <td>1.0</td>\n",
       "      <td>1.0</td>\n",
       "      <td>0.0</td>\n",
       "      <td>0.0</td>\n",
       "      <td>0.0</td>\n",
       "      <td>0.871986</td>\n",
       "      <td>0.000000</td>\n",
       "      <td>0.640093</td>\n",
       "      <td>0.541667</td>\n",
       "      <td>0.053555</td>\n",
       "    </tr>\n",
       "    <tr>\n",
       "      <th>4</th>\n",
       "      <td>1.0</td>\n",
       "      <td>0.0</td>\n",
       "      <td>0.0</td>\n",
       "      <td>0.0</td>\n",
       "      <td>0.0</td>\n",
       "      <td>0.0</td>\n",
       "      <td>0.0</td>\n",
       "      <td>0.0</td>\n",
       "      <td>0.0</td>\n",
       "      <td>0.0</td>\n",
       "      <td>...</td>\n",
       "      <td>1.0</td>\n",
       "      <td>0.0</td>\n",
       "      <td>1.0</td>\n",
       "      <td>0.0</td>\n",
       "      <td>0.0</td>\n",
       "      <td>0.260494</td>\n",
       "      <td>0.000000</td>\n",
       "      <td>0.095805</td>\n",
       "      <td>0.083333</td>\n",
       "      <td>0.073651</td>\n",
       "    </tr>\n",
       "  </tbody>\n",
       "</table>\n",
       "<p>5 rows × 33 columns</p>\n",
       "</div>"
      ],
      "text/plain": [
       "   Item_Fat_Content_Low Fat  Item_Fat_Content_Regular  Item_Type_Baking Goods  \\\n",
       "0                       1.0                       0.0                     0.0   \n",
       "1                       0.0                       1.0                     0.0   \n",
       "2                       1.0                       0.0                     0.0   \n",
       "3                       0.0                       1.0                     0.0   \n",
       "4                       1.0                       0.0                     0.0   \n",
       "\n",
       "   Item_Type_Breads  Item_Type_Breakfast  Item_Type_Canned  Item_Type_Dairy  \\\n",
       "0               0.0                  0.0               0.0              1.0   \n",
       "1               0.0                  0.0               0.0              0.0   \n",
       "2               0.0                  0.0               0.0              0.0   \n",
       "3               0.0                  0.0               0.0              0.0   \n",
       "4               0.0                  0.0               0.0              0.0   \n",
       "\n",
       "   Item_Type_Frozen Foods  Item_Type_Fruits and Vegetables  \\\n",
       "0                     0.0                              0.0   \n",
       "1                     0.0                              0.0   \n",
       "2                     0.0                              0.0   \n",
       "3                     0.0                              1.0   \n",
       "4                     0.0                              0.0   \n",
       "\n",
       "   Item_Type_Hard Drinks  ...  Outlet_Location_Type_Tier 3  \\\n",
       "0                    0.0  ...                          0.0   \n",
       "1                    0.0  ...                          1.0   \n",
       "2                    0.0  ...                          0.0   \n",
       "3                    0.0  ...                          1.0   \n",
       "4                    0.0  ...                          1.0   \n",
       "\n",
       "   Outlet_Type_Grocery Store  Outlet_Type_Supermarket Type1  \\\n",
       "0                        0.0                            1.0   \n",
       "1                        0.0                            0.0   \n",
       "2                        0.0                            1.0   \n",
       "3                        1.0                            0.0   \n",
       "4                        0.0                            1.0   \n",
       "\n",
       "   Outlet_Type_Supermarket Type2  Outlet_Type_Supermarket Type3  Item_Weight  \\\n",
       "0                            0.0                            0.0     0.282525   \n",
       "1                            1.0                            0.0     0.081274   \n",
       "2                            0.0                            0.0     0.770765   \n",
       "3                            0.0                            0.0     0.871986   \n",
       "4                            0.0                            0.0     0.260494   \n",
       "\n",
       "   Item_Visibility  Item_MRP  Outlet_Establishment_Year  Item_Outlet_Sales  \n",
       "0         0.048866  0.927507                   0.583333           0.283587  \n",
       "1         0.058705  0.072068                   1.000000           0.031419  \n",
       "2         0.051037  0.468288                   0.583333           0.158115  \n",
       "3         0.000000  0.640093                   0.541667           0.053555  \n",
       "4         0.000000  0.095805                   0.083333           0.073651  \n",
       "\n",
       "[5 rows x 33 columns]"
      ]
     },
     "execution_count": 28,
     "metadata": {},
     "output_type": "execute_result"
    }
   ],
   "source": [
    "# Scaling various features and check first 5 records in the scaled dataframe\n",
    "from sklearn.preprocessing import MinMaxScaler\n",
    "\n",
    "mm = MinMaxScaler()\n",
    "train_ = mm.fit_transform(train_)\n",
    "train_ = pd.DataFrame(train_, columns=mm.get_feature_names_out())\n",
    "train_.head()"
   ]
  },
  {
   "cell_type": "code",
   "execution_count": 29,
   "id": "9504b9c7",
   "metadata": {
    "ExecuteTime": {
     "end_time": "2022-10-19T12:45:13.513071Z",
     "start_time": "2022-10-19T12:45:13.497115Z"
    }
   },
   "outputs": [],
   "source": [
    "# Create features (X) and target (y) dataframes\n",
    "\n",
    "X = train_.drop(\"Item_Outlet_Sales\", axis=1)\n",
    "y = train_[\"Item_Outlet_Sales\"]"
   ]
  },
  {
   "cell_type": "code",
   "execution_count": 30,
   "id": "edbf4234",
   "metadata": {
    "ExecuteTime": {
     "end_time": "2022-10-19T12:45:13.529030Z",
     "start_time": "2022-10-19T12:45:13.515067Z"
    }
   },
   "outputs": [],
   "source": [
    "# Do train and test split\n",
    "\n",
    "X_train, X_test, y_train, y_test = train_test_split(X,y, test_size=0.7, shuffle=True)"
   ]
  },
  {
   "cell_type": "code",
   "execution_count": 31,
   "id": "a9d6c49c",
   "metadata": {
    "ExecuteTime": {
     "end_time": "2022-10-19T12:45:13.558949Z",
     "start_time": "2022-10-19T12:45:13.532021Z"
    }
   },
   "outputs": [
    {
     "data": {
      "text/html": [
       "<style>#sk-container-id-1 {color: black;}#sk-container-id-1 pre{padding: 0;}#sk-container-id-1 div.sk-toggleable {background-color: white;}#sk-container-id-1 label.sk-toggleable__label {cursor: pointer;display: block;width: 100%;margin-bottom: 0;padding: 0.3em;box-sizing: border-box;text-align: center;}#sk-container-id-1 label.sk-toggleable__label-arrow:before {content: \"▸\";float: left;margin-right: 0.25em;color: #696969;}#sk-container-id-1 label.sk-toggleable__label-arrow:hover:before {color: black;}#sk-container-id-1 div.sk-estimator:hover label.sk-toggleable__label-arrow:before {color: black;}#sk-container-id-1 div.sk-toggleable__content {max-height: 0;max-width: 0;overflow: hidden;text-align: left;background-color: #f0f8ff;}#sk-container-id-1 div.sk-toggleable__content pre {margin: 0.2em;color: black;border-radius: 0.25em;background-color: #f0f8ff;}#sk-container-id-1 input.sk-toggleable__control:checked~div.sk-toggleable__content {max-height: 200px;max-width: 100%;overflow: auto;}#sk-container-id-1 input.sk-toggleable__control:checked~label.sk-toggleable__label-arrow:before {content: \"▾\";}#sk-container-id-1 div.sk-estimator input.sk-toggleable__control:checked~label.sk-toggleable__label {background-color: #d4ebff;}#sk-container-id-1 div.sk-label input.sk-toggleable__control:checked~label.sk-toggleable__label {background-color: #d4ebff;}#sk-container-id-1 input.sk-hidden--visually {border: 0;clip: rect(1px 1px 1px 1px);clip: rect(1px, 1px, 1px, 1px);height: 1px;margin: -1px;overflow: hidden;padding: 0;position: absolute;width: 1px;}#sk-container-id-1 div.sk-estimator {font-family: monospace;background-color: #f0f8ff;border: 1px dotted black;border-radius: 0.25em;box-sizing: border-box;margin-bottom: 0.5em;}#sk-container-id-1 div.sk-estimator:hover {background-color: #d4ebff;}#sk-container-id-1 div.sk-parallel-item::after {content: \"\";width: 100%;border-bottom: 1px solid gray;flex-grow: 1;}#sk-container-id-1 div.sk-label:hover label.sk-toggleable__label {background-color: #d4ebff;}#sk-container-id-1 div.sk-serial::before {content: \"\";position: absolute;border-left: 1px solid gray;box-sizing: border-box;top: 0;bottom: 0;left: 50%;z-index: 0;}#sk-container-id-1 div.sk-serial {display: flex;flex-direction: column;align-items: center;background-color: white;padding-right: 0.2em;padding-left: 0.2em;position: relative;}#sk-container-id-1 div.sk-item {position: relative;z-index: 1;}#sk-container-id-1 div.sk-parallel {display: flex;align-items: stretch;justify-content: center;background-color: white;position: relative;}#sk-container-id-1 div.sk-item::before, #sk-container-id-1 div.sk-parallel-item::before {content: \"\";position: absolute;border-left: 1px solid gray;box-sizing: border-box;top: 0;bottom: 0;left: 50%;z-index: -1;}#sk-container-id-1 div.sk-parallel-item {display: flex;flex-direction: column;z-index: 1;position: relative;background-color: white;}#sk-container-id-1 div.sk-parallel-item:first-child::after {align-self: flex-end;width: 50%;}#sk-container-id-1 div.sk-parallel-item:last-child::after {align-self: flex-start;width: 50%;}#sk-container-id-1 div.sk-parallel-item:only-child::after {width: 0;}#sk-container-id-1 div.sk-dashed-wrapped {border: 1px dashed gray;margin: 0 0.4em 0.5em 0.4em;box-sizing: border-box;padding-bottom: 0.4em;background-color: white;}#sk-container-id-1 div.sk-label label {font-family: monospace;font-weight: bold;display: inline-block;line-height: 1.2em;}#sk-container-id-1 div.sk-label-container {text-align: center;}#sk-container-id-1 div.sk-container {/* jupyter's `normalize.less` sets `[hidden] { display: none; }` but bootstrap.min.css set `[hidden] { display: none !important; }` so we also need the `!important` here to be able to override the default hidden behavior on the sphinx rendered scikit-learn.org. See: https://github.com/scikit-learn/scikit-learn/issues/21755 */display: inline-block !important;position: relative;}#sk-container-id-1 div.sk-text-repr-fallback {display: none;}</style><div id=\"sk-container-id-1\" class=\"sk-top-container\"><div class=\"sk-text-repr-fallback\"><pre>LinearRegression()</pre><b>In a Jupyter environment, please rerun this cell to show the HTML representation or trust the notebook. <br />On GitHub, the HTML representation is unable to render, please try loading this page with nbviewer.org.</b></div><div class=\"sk-container\" hidden><div class=\"sk-item\"><div class=\"sk-estimator sk-toggleable\"><input class=\"sk-toggleable__control sk-hidden--visually\" id=\"sk-estimator-id-1\" type=\"checkbox\" checked><label for=\"sk-estimator-id-1\" class=\"sk-toggleable__label sk-toggleable__label-arrow\">LinearRegression</label><div class=\"sk-toggleable__content\"><pre>LinearRegression()</pre></div></div></div></div></div>"
      ],
      "text/plain": [
       "LinearRegression()"
      ]
     },
     "execution_count": 31,
     "metadata": {},
     "output_type": "execute_result"
    }
   ],
   "source": [
    "# Instantiating and fitting a base model\n",
    "le = LinearRegression()\n",
    "le.fit(X_train, y_train)"
   ]
  },
  {
   "cell_type": "code",
   "execution_count": 32,
   "id": "0db2382c",
   "metadata": {
    "ExecuteTime": {
     "end_time": "2022-10-19T12:45:13.574906Z",
     "start_time": "2022-10-19T12:45:13.561941Z"
    }
   },
   "outputs": [],
   "source": [
    "# Predicting target/response variable values based on test split\n",
    "y_pred = le.predict(X_test)"
   ]
  },
  {
   "cell_type": "code",
   "execution_count": 33,
   "id": "88a80769",
   "metadata": {
    "ExecuteTime": {
     "end_time": "2022-10-19T12:45:13.606820Z",
     "start_time": "2022-10-19T12:45:13.577898Z"
    }
   },
   "outputs": [
    {
     "data": {
      "text/plain": [
       "0.0870903369287937"
      ]
     },
     "execution_count": 33,
     "metadata": {},
     "output_type": "execute_result"
    }
   ],
   "source": [
    "# Base model evaluation using RMSE\n",
    "RMSE = math.sqrt(metrics.mean_squared_error(y_pred, y_test))\n",
    "RMSE"
   ]
  },
  {
   "cell_type": "code",
   "execution_count": 34,
   "id": "039d975d",
   "metadata": {
    "ExecuteTime": {
     "end_time": "2022-10-19T12:45:13.622778Z",
     "start_time": "2022-10-19T12:45:13.612806Z"
    }
   },
   "outputs": [
    {
     "data": {
      "text/plain": [
       "0.5548517814366052"
      ]
     },
     "execution_count": 34,
     "metadata": {},
     "output_type": "execute_result"
    }
   ],
   "source": [
    "# Base model evaluation using r2\n",
    "metrics.r2_score(y_test, y_pred)"
   ]
  },
  {
   "cell_type": "code",
   "execution_count": 35,
   "id": "4c23fb91",
   "metadata": {
    "ExecuteTime": {
     "end_time": "2022-10-19T12:45:13.638735Z",
     "start_time": "2022-10-19T12:45:13.625773Z"
    }
   },
   "outputs": [
    {
     "data": {
      "text/plain": [
       "Item_MRP                           2.871399e-01\n",
       "Outlet_Establishment_Year          7.657242e-02\n",
       "Item_Visibility                   -5.722046e-05\n",
       "Item_Weight                       -5.142212e-03\n",
       "Outlet_Type_Supermarket Type3     -4.710027e+10\n",
       "Outlet_Type_Supermarket Type1     -4.710027e+10\n",
       "Outlet_Type_Supermarket Type2     -4.710027e+10\n",
       "Outlet_Type_Grocery Store         -4.710027e+10\n",
       "Outlet_Location_Type_Tier 1       -2.394025e+11\n",
       "Outlet_Location_Type_Tier 2       -2.394025e+11\n",
       "Outlet_Location_Type_Tier 3       -2.394025e+11\n",
       "Item_Type_Starchy Foods           -2.965113e+11\n",
       "Item_Type_Breads                  -2.965113e+11\n",
       "Item_Type_Seafood                 -2.965113e+11\n",
       "Item_Type_Fruits and Vegetables   -2.965113e+11\n",
       "Item_Type_Soft Drinks             -2.965113e+11\n",
       "Item_Type_Health and Hygiene      -2.965113e+11\n",
       "Item_Type_Canned                  -2.965113e+11\n",
       "Item_Type_Snack Foods             -2.965113e+11\n",
       "Item_Type_Baking Goods            -2.965113e+11\n",
       "Item_Type_Dairy                   -2.965113e+11\n",
       "Item_Type_Breakfast               -2.965113e+11\n",
       "Item_Type_Hard Drinks             -2.965113e+11\n",
       "Item_Type_Frozen Foods            -2.965113e+11\n",
       "Item_Type_Meat                    -2.965113e+11\n",
       "Item_Type_Others                  -2.965113e+11\n",
       "Item_Type_Household               -2.965113e+11\n",
       "Outlet_Size_High                  -1.015819e+12\n",
       "Outlet_Size_Small                 -1.015819e+12\n",
       "Outlet_Size_Medium                -1.015819e+12\n",
       "Item_Fat_Content_Regular          -1.271350e+12\n",
       "Item_Fat_Content_Low Fat          -1.271350e+12\n",
       "dtype: float64"
      ]
     },
     "execution_count": 35,
     "metadata": {},
     "output_type": "execute_result"
    }
   ],
   "source": [
    "# Checking 'Coefficient's of Determination\" (Or simply Coefficients) for different features \n",
    "features = X_test.columns\n",
    "result = pd.Series(le.coef_, index = features).sort_values(ascending= False)\n",
    "result"
   ]
  },
  {
   "cell_type": "markdown",
   "id": "cbefb5d4",
   "metadata": {
    "ExecuteTime": {
     "end_time": "2022-10-19T12:45:13.653695Z",
     "start_time": "2022-10-19T12:45:13.640731Z"
    }
   },
   "source": [
    "Looking at the 'Coefficients' we can conclude that \"Item_Visibility\" and \"Item_weight\" features have very week (closer to zero)\n",
    "coefficients. Hence these are not much useful while predicting the \"Item_Outlet_Sales\". Therefore, we can be drop these from the model."
   ]
  },
  {
   "cell_type": "code",
   "execution_count": 36,
   "id": "260461ab",
   "metadata": {},
   "outputs": [],
   "source": [
    "X_test.drop([\"Item_Visibility\", \"Item_Weight\"], axis=1, inplace=True)"
   ]
  },
  {
   "cell_type": "code",
   "execution_count": 37,
   "id": "709f4c37",
   "metadata": {},
   "outputs": [],
   "source": [
    "X_train.drop([\"Item_Visibility\", \"Item_Weight\"], axis=1, inplace=True)"
   ]
  },
  {
   "cell_type": "code",
   "execution_count": 38,
   "id": "5bb50bc7",
   "metadata": {
    "ExecuteTime": {
     "end_time": "2022-10-19T12:45:13.716528Z",
     "start_time": "2022-10-19T12:45:13.687605Z"
    }
   },
   "outputs": [
    {
     "data": {
      "text/html": [
       "<style>#sk-container-id-2 {color: black;}#sk-container-id-2 pre{padding: 0;}#sk-container-id-2 div.sk-toggleable {background-color: white;}#sk-container-id-2 label.sk-toggleable__label {cursor: pointer;display: block;width: 100%;margin-bottom: 0;padding: 0.3em;box-sizing: border-box;text-align: center;}#sk-container-id-2 label.sk-toggleable__label-arrow:before {content: \"▸\";float: left;margin-right: 0.25em;color: #696969;}#sk-container-id-2 label.sk-toggleable__label-arrow:hover:before {color: black;}#sk-container-id-2 div.sk-estimator:hover label.sk-toggleable__label-arrow:before {color: black;}#sk-container-id-2 div.sk-toggleable__content {max-height: 0;max-width: 0;overflow: hidden;text-align: left;background-color: #f0f8ff;}#sk-container-id-2 div.sk-toggleable__content pre {margin: 0.2em;color: black;border-radius: 0.25em;background-color: #f0f8ff;}#sk-container-id-2 input.sk-toggleable__control:checked~div.sk-toggleable__content {max-height: 200px;max-width: 100%;overflow: auto;}#sk-container-id-2 input.sk-toggleable__control:checked~label.sk-toggleable__label-arrow:before {content: \"▾\";}#sk-container-id-2 div.sk-estimator input.sk-toggleable__control:checked~label.sk-toggleable__label {background-color: #d4ebff;}#sk-container-id-2 div.sk-label input.sk-toggleable__control:checked~label.sk-toggleable__label {background-color: #d4ebff;}#sk-container-id-2 input.sk-hidden--visually {border: 0;clip: rect(1px 1px 1px 1px);clip: rect(1px, 1px, 1px, 1px);height: 1px;margin: -1px;overflow: hidden;padding: 0;position: absolute;width: 1px;}#sk-container-id-2 div.sk-estimator {font-family: monospace;background-color: #f0f8ff;border: 1px dotted black;border-radius: 0.25em;box-sizing: border-box;margin-bottom: 0.5em;}#sk-container-id-2 div.sk-estimator:hover {background-color: #d4ebff;}#sk-container-id-2 div.sk-parallel-item::after {content: \"\";width: 100%;border-bottom: 1px solid gray;flex-grow: 1;}#sk-container-id-2 div.sk-label:hover label.sk-toggleable__label {background-color: #d4ebff;}#sk-container-id-2 div.sk-serial::before {content: \"\";position: absolute;border-left: 1px solid gray;box-sizing: border-box;top: 0;bottom: 0;left: 50%;z-index: 0;}#sk-container-id-2 div.sk-serial {display: flex;flex-direction: column;align-items: center;background-color: white;padding-right: 0.2em;padding-left: 0.2em;position: relative;}#sk-container-id-2 div.sk-item {position: relative;z-index: 1;}#sk-container-id-2 div.sk-parallel {display: flex;align-items: stretch;justify-content: center;background-color: white;position: relative;}#sk-container-id-2 div.sk-item::before, #sk-container-id-2 div.sk-parallel-item::before {content: \"\";position: absolute;border-left: 1px solid gray;box-sizing: border-box;top: 0;bottom: 0;left: 50%;z-index: -1;}#sk-container-id-2 div.sk-parallel-item {display: flex;flex-direction: column;z-index: 1;position: relative;background-color: white;}#sk-container-id-2 div.sk-parallel-item:first-child::after {align-self: flex-end;width: 50%;}#sk-container-id-2 div.sk-parallel-item:last-child::after {align-self: flex-start;width: 50%;}#sk-container-id-2 div.sk-parallel-item:only-child::after {width: 0;}#sk-container-id-2 div.sk-dashed-wrapped {border: 1px dashed gray;margin: 0 0.4em 0.5em 0.4em;box-sizing: border-box;padding-bottom: 0.4em;background-color: white;}#sk-container-id-2 div.sk-label label {font-family: monospace;font-weight: bold;display: inline-block;line-height: 1.2em;}#sk-container-id-2 div.sk-label-container {text-align: center;}#sk-container-id-2 div.sk-container {/* jupyter's `normalize.less` sets `[hidden] { display: none; }` but bootstrap.min.css set `[hidden] { display: none !important; }` so we also need the `!important` here to be able to override the default hidden behavior on the sphinx rendered scikit-learn.org. See: https://github.com/scikit-learn/scikit-learn/issues/21755 */display: inline-block !important;position: relative;}#sk-container-id-2 div.sk-text-repr-fallback {display: none;}</style><div id=\"sk-container-id-2\" class=\"sk-top-container\"><div class=\"sk-text-repr-fallback\"><pre>LinearRegression()</pre><b>In a Jupyter environment, please rerun this cell to show the HTML representation or trust the notebook. <br />On GitHub, the HTML representation is unable to render, please try loading this page with nbviewer.org.</b></div><div class=\"sk-container\" hidden><div class=\"sk-item\"><div class=\"sk-estimator sk-toggleable\"><input class=\"sk-toggleable__control sk-hidden--visually\" id=\"sk-estimator-id-2\" type=\"checkbox\" checked><label for=\"sk-estimator-id-2\" class=\"sk-toggleable__label sk-toggleable__label-arrow\">LinearRegression</label><div class=\"sk-toggleable__content\"><pre>LinearRegression()</pre></div></div></div></div></div>"
      ],
      "text/plain": [
       "LinearRegression()"
      ]
     },
     "execution_count": 38,
     "metadata": {},
     "output_type": "execute_result"
    }
   ],
   "source": [
    "# Fitting the base model again\n",
    "le.fit(X_train, y_train)"
   ]
  },
  {
   "cell_type": "code",
   "execution_count": 39,
   "id": "8c37e574",
   "metadata": {
    "ExecuteTime": {
     "end_time": "2022-10-19T12:45:13.732484Z",
     "start_time": "2022-10-19T12:45:13.719519Z"
    }
   },
   "outputs": [],
   "source": [
    "y_pred = le.predict(X_test)"
   ]
  },
  {
   "cell_type": "code",
   "execution_count": 40,
   "id": "722f9538",
   "metadata": {
    "ExecuteTime": {
     "end_time": "2022-10-19T12:45:13.748443Z",
     "start_time": "2022-10-19T12:45:13.734480Z"
    }
   },
   "outputs": [
    {
     "data": {
      "text/plain": [
       "0.5546379760547893"
      ]
     },
     "execution_count": 40,
     "metadata": {},
     "output_type": "execute_result"
    }
   ],
   "source": [
    "# Evaluating new model with r2 metrics\n",
    "metrics.r2_score(y_test, y_pred)"
   ]
  },
  {
   "cell_type": "markdown",
   "id": "ffa3eed8",
   "metadata": {
    "ExecuteTime": {
     "end_time": "2022-10-19T12:45:13.764401Z",
     "start_time": "2022-10-19T12:45:13.750438Z"
    }
   },
   "source": [
    "The revised r2 score for the model is practically the same as with \"Item_Visibility\" and \"Item_Weight\" features.\n",
    "For demonstration sake, we will retain both of these features while creating and fine-tuning the predictive models"
   ]
  },
  {
   "cell_type": "markdown",
   "id": "05817ac2",
   "metadata": {},
   "source": [
    "### STEP 3 - Data cleaning and wrangling"
   ]
  },
  {
   "cell_type": "markdown",
   "id": "7f2fd0e6",
   "metadata": {},
   "source": [
    "Our pre-processing approach will be to create a custom tranformers which will handle identified data issues such as missing values, outliers, data inconsistencies and so on. These will be chained into a pipeline to define a sequence of transformations to be applied to the dataset. This approach will make it easy to apply the same set of transformations in exact same sequence to any new data (e.g the test data set)."
   ]
  },
  {
   "cell_type": "code",
   "execution_count": 41,
   "id": "87b50d12",
   "metadata": {
    "ExecuteTime": {
     "end_time": "2022-10-19T12:45:13.780357Z",
     "start_time": "2022-10-19T12:45:13.769389Z"
    }
   },
   "outputs": [],
   "source": [
    "# Transformer to convert Item_Identifier column into a categorical variable with 3 levels \n",
    "\n",
    "class ItemIdentifierTransfomer (BaseEstimator, TransformerMixin):\n",
    "    def fit(self, X, y=None):\n",
    "        return self\n",
    "    def transform(self, X, y=None):\n",
    "        data = X.copy()\n",
    "        data[\"Item_Super_Category\"] = data[\"Item_Identifier\"].apply(lambda x: x[:2])\n",
    "        data[\"Item_Super_Category\"] = data[\"Item_Super_Category\"].map({\"FD\": \"Food\",\n",
    "                                                                \"NC\": \"Non-Consumable\",\n",
    "                                                                \"DR\": \"Drinks\"})\n",
    "        return data       "
   ]
  },
  {
   "cell_type": "code",
   "execution_count": 42,
   "id": "ff4d2123",
   "metadata": {
    "ExecuteTime": {
     "end_time": "2022-10-19T12:45:13.811273Z",
     "start_time": "2022-10-19T12:45:13.782352Z"
    }
   },
   "outputs": [],
   "source": [
    "# Transformer to treat missing values in \"Item_Weight\"\n",
    "\n",
    "class ItemWeightTransformer (BaseEstimator, TransformerMixin):\n",
    "    def fit(self, X, y=None):\n",
    "        return self\n",
    "    def transform(self, X, y=None):\n",
    "        data = X.copy()\n",
    "        mean_item_weight_by_identifier = data.groupby(\"Item_Identifier\")[\"Item_Weight\"].mean()\n",
    "        data.loc[data[\"Item_Weight\"].isna(), \"Item_Weight\"] = mean_item_weight_by_identifier[data[data[\"Item_Weight\"].isna()][\"Item_Identifier\"]].values\n",
    "        data[\"Item_Weight\"].fillna(data[\"Item_Weight\"].mean(), inplace=True)\n",
    "        return data"
   ]
  },
  {
   "cell_type": "code",
   "execution_count": 43,
   "id": "18860556",
   "metadata": {
    "ExecuteTime": {
     "end_time": "2022-10-19T12:45:13.827231Z",
     "start_time": "2022-10-19T12:45:13.814266Z"
    }
   },
   "outputs": [],
   "source": [
    "# Transformer to handle inconsistent values for \"Item_Fat_Content\"\n",
    "\n",
    "class ItemFatContentTransformer (BaseEstimator, TransformerMixin):\n",
    "    def fit(self, X, y=None):\n",
    "        return self\n",
    "    def transform(self, X, y=None):\n",
    "        data = X.copy()\n",
    "        data[\"Item_Fat_Content\"] = data[\"Item_Fat_Content\"].replace([\"lf\", \"low fat\", \"LF\", \"Low fat\", \"low Fat\"], \"Low Fat\")\n",
    "        data[\"Item_Fat_Content\"] = data[\"Item_Fat_Content\"].replace([\"reg\", \"REG\", \"regular\", \"REGULAR\"], \"Regular\")\n",
    "        return data"
   ]
  },
  {
   "cell_type": "code",
   "execution_count": 44,
   "id": "4fdfa807",
   "metadata": {
    "ExecuteTime": {
     "end_time": "2022-10-19T12:45:13.842192Z",
     "start_time": "2022-10-19T12:45:13.831222Z"
    }
   },
   "outputs": [],
   "source": [
    "# Transformer to handle missing values in \"Outlet_Size\"\n",
    "\n",
    "class OutletSizeTransformer (BaseEstimator, TransformerMixin):\n",
    "    def fit(self, X, y=None):\n",
    "        return self\n",
    "    def transform(self, X, y=None):\n",
    "        data = X.copy()\n",
    "        data[\"Outlet_Size\"].fillna(data[\"Outlet_Size\"].mode()[0], inplace=True)\n",
    "        return data"
   ]
  },
  {
   "cell_type": "code",
   "execution_count": 45,
   "id": "b64a9f53",
   "metadata": {
    "ExecuteTime": {
     "end_time": "2022-10-19T12:45:13.858152Z",
     "start_time": "2022-10-19T12:45:13.847181Z"
    }
   },
   "outputs": [],
   "source": [
    "# Transformer to convert \"Outlet_Establishment_Year\" to \"Outlet_Age\"\n",
    "\n",
    "class OutletAgeTransformer(BaseEstimator, TransformerMixin):\n",
    "    def fit(self, X, y=None):\n",
    "        return self\n",
    "    def transform(self, X, y=None):\n",
    "        data = X.copy()\n",
    "        data[\"Outlet_Age\"] = datetime.now().year - data[\"Outlet_Establishment_Year\"]\n",
    "        return data"
   ]
  },
  {
   "cell_type": "code",
   "execution_count": 46,
   "id": "3f23c101",
   "metadata": {
    "ExecuteTime": {
     "end_time": "2022-10-19T12:45:13.890063Z",
     "start_time": "2022-10-19T12:45:13.863136Z"
    }
   },
   "outputs": [],
   "source": [
    "# Transformer to handle outliers in \"Item_Visibility\" and convert this into a categorical column \"Item_Visibility_Bins\"\n",
    "\n",
    "class ItemVisibilityTransformer (BaseEstimator, TransformerMixin):\n",
    "    def fit (self, X, y=None):\n",
    "        return self\n",
    "    def transform (self, X, y=None):\n",
    "        data = X.copy()\n",
    "        Q1, Q3 = data[\"Item_Visibility\"].quantile([0.25, 0.75])\n",
    "        IQR = Q3 - Q1\n",
    "        data = data.query('(@Q1 - 1.5*@IQR) <= Item_Visibility <= (@Q3 + 1.5*@IQR)')\n",
    "        #X[\"Item_Visibility_Bins\"] = pd.cut(X[\"Item_Visibility\"], [0.000, 0.065, 0.13, 0.2], labels = [\"Low_Viz\", \"Viz\", \"High_Viz\"])\n",
    "        #X[\"Item_Visibility_Bins\"].fillna(\"Low_Viz\", inplace=True)\n",
    "        return data"
   ]
  },
  {
   "cell_type": "code",
   "execution_count": 47,
   "id": "2bdfda1d",
   "metadata": {
    "ExecuteTime": {
     "end_time": "2022-10-19T12:45:13.906021Z",
     "start_time": "2022-10-19T12:45:13.892058Z"
    }
   },
   "outputs": [],
   "source": [
    "# Transformer to drop irrelevant columns from the dataset\n",
    "\n",
    "class SelectColDroperTransformer(BaseEstimator, TransformerMixin):\n",
    "    def __init__(self, col_names):\n",
    "        self.col_names = col_names\n",
    "    \n",
    "    def fit(self, X, y=None):\n",
    "        return self\n",
    "    \n",
    "    def transform(self, X, y=None):\n",
    "        data = X.copy()\n",
    "        data.drop(self.col_names, axis=1, inplace=True)\n",
    "        return data"
   ]
  },
  {
   "cell_type": "code",
   "execution_count": 48,
   "id": "2822eb88",
   "metadata": {
    "ExecuteTime": {
     "end_time": "2022-10-19T12:45:13.921979Z",
     "start_time": "2022-10-19T12:45:13.908015Z"
    }
   },
   "outputs": [],
   "source": [
    "# Creating the pipeline of data cleaning transformations\n",
    "\n",
    "preprocessors = Pipeline(steps=[(\"Item_Identifier_Transformer\", ItemIdentifierTransfomer()),\n",
    "                                (\"Item_Weight_Transformer\", ItemWeightTransformer()),\n",
    "                                (\"Item_Fat_Content_Transformer\", ItemFatContentTransformer()),\n",
    "                                (\"Outlet_Size_Transformer\", OutletSizeTransformer()),\n",
    "                                (\"Outlet_Age_Transformer\", OutletAgeTransformer()),\n",
    "                                (\"Item_Visibility_Transformer\", ItemVisibilityTransformer()),\n",
    "                                (\"Select_Column_Droper_Transformer\", SelectColDroperTransformer([\"Item_Identifier\", \"Outlet_Identifier\", \"Outlet_Establishment_Year\"])),\n",
    "                                ])"
   ]
  },
  {
   "cell_type": "code",
   "execution_count": 49,
   "id": "84976270",
   "metadata": {
    "ExecuteTime": {
     "end_time": "2022-10-19T12:45:13.982816Z",
     "start_time": "2022-10-19T12:45:13.924972Z"
    }
   },
   "outputs": [],
   "source": [
    "# Fit the data cleaning pipeline - preprocessors\n",
    "\n",
    "data = preprocessors.fit_transform(train)"
   ]
  },
  {
   "cell_type": "code",
   "execution_count": 50,
   "id": "f97b5e00",
   "metadata": {
    "ExecuteTime": {
     "end_time": "2022-10-19T12:45:14.013736Z",
     "start_time": "2022-10-19T12:45:13.984811Z"
    }
   },
   "outputs": [
    {
     "data": {
      "text/plain": [
       "(8379, 11)"
      ]
     },
     "execution_count": 50,
     "metadata": {},
     "output_type": "execute_result"
    },
    {
     "data": {
      "text/plain": [
       "Item_Weight             0\n",
       "Item_Fat_Content        0\n",
       "Item_Visibility         0\n",
       "Item_Type               0\n",
       "Item_MRP                0\n",
       "Outlet_Size             0\n",
       "Outlet_Location_Type    0\n",
       "Outlet_Type             0\n",
       "Item_Outlet_Sales       0\n",
       "Item_Super_Category     0\n",
       "Outlet_Age              0\n",
       "dtype: int64"
      ]
     },
     "execution_count": 50,
     "metadata": {},
     "output_type": "execute_result"
    },
    {
     "data": {
      "text/plain": [
       "Index(['Item_Weight', 'Item_Fat_Content', 'Item_Visibility', 'Item_Type',\n",
       "       'Item_MRP', 'Outlet_Size', 'Outlet_Location_Type', 'Outlet_Type',\n",
       "       'Item_Outlet_Sales', 'Item_Super_Category', 'Outlet_Age'],\n",
       "      dtype='object')"
      ]
     },
     "execution_count": 50,
     "metadata": {},
     "output_type": "execute_result"
    }
   ],
   "source": [
    "# Confirming the desired transformations did happen\n",
    "\n",
    "data.shape\n",
    "data.isna().sum()\n",
    "data.columns"
   ]
  },
  {
   "cell_type": "code",
   "execution_count": 51,
   "id": "65c3b047",
   "metadata": {
    "ExecuteTime": {
     "end_time": "2022-10-19T12:45:14.029690Z",
     "start_time": "2022-10-19T12:45:14.015728Z"
    }
   },
   "outputs": [
    {
     "data": {
      "text/plain": [
       "(8379, 10)"
      ]
     },
     "execution_count": 51,
     "metadata": {},
     "output_type": "execute_result"
    },
    {
     "data": {
      "text/plain": [
       "(8379,)"
      ]
     },
     "execution_count": 51,
     "metadata": {},
     "output_type": "execute_result"
    }
   ],
   "source": [
    "# Splitting cleaned data into separate feature_set and target dataframes\n",
    "\n",
    "X = data.drop([\"Item_Outlet_Sales\"], axis=1)\n",
    "y = data[\"Item_Outlet_Sales\"]\n",
    "\n",
    "# Confirming the split happned\n",
    "X.shape\n",
    "y.shape"
   ]
  },
  {
   "cell_type": "code",
   "execution_count": 52,
   "id": "ad8d3e09",
   "metadata": {
    "ExecuteTime": {
     "end_time": "2022-10-19T12:45:14.075571Z",
     "start_time": "2022-10-19T12:45:14.031686Z"
    }
   },
   "outputs": [
    {
     "data": {
      "text/plain": [
       "(5865, 10)"
      ]
     },
     "execution_count": 52,
     "metadata": {},
     "output_type": "execute_result"
    },
    {
     "data": {
      "text/plain": [
       "(2514, 10)"
      ]
     },
     "execution_count": 52,
     "metadata": {},
     "output_type": "execute_result"
    },
    {
     "data": {
      "text/plain": [
       "(5865,)"
      ]
     },
     "execution_count": 52,
     "metadata": {},
     "output_type": "execute_result"
    },
    {
     "data": {
      "text/plain": [
       "(2514,)"
      ]
     },
     "execution_count": 52,
     "metadata": {},
     "output_type": "execute_result"
    }
   ],
   "source": [
    "# Further creating train and test splits for model development\n",
    "\n",
    "X_train, X_test, y_train, y_test = train_test_split(X, y, test_size=0.3, random_state=81)\n",
    "\n",
    "# Confirming the train and test splits are created correctly\n",
    "X_train.shape\n",
    "X_test.shape\n",
    "y_train.shape\n",
    "y_test.shape\n"
   ]
  },
  {
   "cell_type": "code",
   "execution_count": 53,
   "id": "cd551b8f",
   "metadata": {
    "ExecuteTime": {
     "end_time": "2022-10-19T12:45:14.091525Z",
     "start_time": "2022-10-19T12:45:14.077563Z"
    }
   },
   "outputs": [],
   "source": [
    "# Instantiating column_transformer to transfrom categorial features using OneHotEncoder\n",
    "\n",
    "categorical = X.select_dtypes(include='object').columns\n",
    "encoder = make_column_transformer((OneHotEncoder(handle_unknown='ignore'), categorical), remainder='passthrough')"
   ]
  },
  {
   "cell_type": "code",
   "execution_count": 54,
   "id": "fa8ec6ce",
   "metadata": {
    "ExecuteTime": {
     "end_time": "2022-10-19T12:45:14.107483Z",
     "start_time": "2022-10-19T12:45:14.095517Z"
    }
   },
   "outputs": [],
   "source": [
    "# Creating a list of 8 base models to be built for comparision\n",
    "\n",
    "regressors = [(\"LinR\", LinearRegression()),\n",
    "              (\"ElasticNet\", ElasticNet(random_state=81)),\n",
    "              (\"Lasso\", Lasso(random_state=81)),\n",
    "              (\"SVR\", SVR()),\n",
    "              (\"KNR\", KNeighborsRegressor()),\n",
    "              (\"DTR\", DecisionTreeRegressor(random_state=81)),\n",
    "              (\"RFR\", RandomForestRegressor(random_state=81)),\n",
    "              (\"XGBR\", XGBRegressor())]"
   ]
  },
  {
   "cell_type": "code",
   "execution_count": 55,
   "id": "dba9b44e",
   "metadata": {
    "ExecuteTime": {
     "end_time": "2022-10-19T12:45:14.139425Z",
     "start_time": "2022-10-19T12:45:14.112470Z"
    }
   },
   "outputs": [],
   "source": [
    "# Defining a function for quick evaluation of different regressors uing the sklearn pipeline\n",
    "\n",
    "\n",
    "def quick_eval(X_train, y_train, X_test, y_test):\n",
    "    \n",
    "    models = []\n",
    "    names = []\n",
    "        \n",
    "    for name, regressor in regressors:\n",
    "        names.append(name)\n",
    "        pipe = Pipeline(steps=[(\"encoder\", encoder), ('scaler', MaxAbsScaler()), (name, regressor)])\n",
    "        model = pipe.fit(X_train, y_train)\n",
    "        models.append(model)\n",
    "        train_score = pipe.score(X_train, y_train)\n",
    "        test_score = pipe.score(X_test, y_test)\n",
    "        \n",
    "        print(name,\":  The training score is:  \",round(train_score, 3))\n",
    "        print(name,\":  The test score is:  \",round(test_score, 3))\n",
    "        \n",
    "        result = dict(zip(names, models))\n",
    "                          \n",
    "    return result"
   ]
  },
  {
   "cell_type": "code",
   "execution_count": 56,
   "id": "c56c3234",
   "metadata": {
    "ExecuteTime": {
     "end_time": "2022-10-19T12:45:39.338028Z",
     "start_time": "2022-10-19T12:45:14.141396Z"
    },
    "scrolled": false
   },
   "outputs": [
    {
     "name": "stdout",
     "output_type": "stream",
     "text": [
      "LinR :  The training score is:   0.555\n",
      "LinR :  The test score is:   0.567\n",
      "ElasticNet :  The training score is:   0.145\n",
      "ElasticNet :  The test score is:   0.144\n",
      "Lasso :  The training score is:   0.553\n",
      "Lasso :  The test score is:   0.567\n"
     ]
    },
    {
     "name": "stderr",
     "output_type": "stream",
     "text": [
      "Exception ignored on calling ctypes callback function: <function _ThreadpoolInfo._find_modules_with_dl_iterate_phdr.<locals>.match_module_callback at 0x7f0265479120>\n",
      "Traceback (most recent call last):\n",
      "  File \"/home/vgautam/yes/lib/python3.10/site-packages/threadpoolctl.py\", line 400, in match_module_callback\n",
      "    self._make_module_from_path(filepath)\n",
      "  File \"/home/vgautam/yes/lib/python3.10/site-packages/threadpoolctl.py\", line 515, in _make_module_from_path\n",
      "    module = module_class(filepath, prefix, user_api, internal_api)\n",
      "  File \"/home/vgautam/yes/lib/python3.10/site-packages/threadpoolctl.py\", line 606, in __init__\n",
      "    self.version = self.get_version()\n",
      "  File \"/home/vgautam/yes/lib/python3.10/site-packages/threadpoolctl.py\", line 646, in get_version\n",
      "    config = get_config().split()\n",
      "AttributeError: 'NoneType' object has no attribute 'split'\n"
     ]
    },
    {
     "name": "stdout",
     "output_type": "stream",
     "text": [
      "SVR :  The training score is:   -0.017\n",
      "SVR :  The test score is:   -0.023\n"
     ]
    },
    {
     "name": "stderr",
     "output_type": "stream",
     "text": [
      "Exception ignored on calling ctypes callback function: <function _ThreadpoolInfo._find_modules_with_dl_iterate_phdr.<locals>.match_module_callback at 0x7f026547b910>\n",
      "Traceback (most recent call last):\n",
      "  File \"/home/vgautam/yes/lib/python3.10/site-packages/threadpoolctl.py\", line 400, in match_module_callback\n",
      "    self._make_module_from_path(filepath)\n",
      "  File \"/home/vgautam/yes/lib/python3.10/site-packages/threadpoolctl.py\", line 515, in _make_module_from_path\n",
      "    module = module_class(filepath, prefix, user_api, internal_api)\n",
      "  File \"/home/vgautam/yes/lib/python3.10/site-packages/threadpoolctl.py\", line 606, in __init__\n",
      "    self.version = self.get_version()\n",
      "  File \"/home/vgautam/yes/lib/python3.10/site-packages/threadpoolctl.py\", line 646, in get_version\n",
      "    config = get_config().split()\n",
      "AttributeError: 'NoneType' object has no attribute 'split'\n"
     ]
    },
    {
     "name": "stdout",
     "output_type": "stream",
     "text": [
      "KNR :  The training score is:   0.631\n",
      "KNR :  The test score is:   0.467\n",
      "DTR :  The training score is:   1.0\n",
      "DTR :  The test score is:   0.169\n",
      "RFR :  The training score is:   0.936\n",
      "RFR :  The test score is:   0.561\n",
      "XGBR :  The training score is:   0.879\n",
      "XGBR :  The test score is:   0.507\n"
     ]
    }
   ],
   "source": [
    "# Calling the quick_eval() function to generate results of differents models\n",
    "\n",
    "models = quick_eval(X_train, y_train, X_test, y_test)"
   ]
  },
  {
   "cell_type": "markdown",
   "id": "81fb76b7",
   "metadata": {
    "ExecuteTime": {
     "end_time": "2022-10-19T12:45:39.353985Z",
     "start_time": "2022-10-19T12:45:39.341019Z"
    }
   },
   "source": [
    "Clearly \"LinR\" has best training and test scores. Other models with reasonable scores are Lasso, KNR and XGBR.\n",
    "ElasticNet has both poor training and test scores\n",
    "DTR and RFR are cases of overfitted models as they perform well on training dataset, however perform poorly on the test dataset.\n",
    "SVR appears misearable model as the score is negative"
   ]
  },
  {
   "cell_type": "markdown",
   "id": "03248cfa",
   "metadata": {},
   "source": [
    "NOTE: models is a list of pipelines. Each pipeline represent one model i.e. LinR, ElasticNet, Lasso and so on. We can access individual models the same way as we access list elements. Further we can access individual steps in the pipeline objects using named_steps e.g. we can access LinR coefficients as demonstrated below"
   ]
  },
  {
   "cell_type": "code",
   "execution_count": 57,
   "id": "f78a1e0a",
   "metadata": {
    "ExecuteTime": {
     "end_time": "2022-10-19T12:45:39.415822Z",
     "start_time": "2022-10-19T12:45:39.356977Z"
    }
   },
   "outputs": [
    {
     "data": {
      "text/plain": [
       "1140.769017097924"
      ]
     },
     "execution_count": 57,
     "metadata": {},
     "output_type": "execute_result"
    },
    {
     "data": {
      "text/plain": [
       "remainder__Item_MRP                                  4203.529088\n",
       "onehotencoder__Outlet_Type_Supermarket Type3         2312.001646\n",
       "onehotencoder__Outlet_Size_High                       734.330604\n",
       "onehotencoder__Outlet_Location_Type_Tier 1            292.733806\n",
       "onehotencoder__Item_Type_Seafood                      159.476945\n",
       "onehotencoder__Item_Type_Starchy Foods                114.245305\n",
       "onehotencoder__Item_Type_Breakfast                     84.285101\n",
       "onehotencoder__Item_Super_Category_Drinks              43.231537\n",
       "onehotencoder__Item_Type_Breads                        42.780507\n",
       "onehotencoder__Item_Type_Fruits and Vegetables         40.971631\n",
       "onehotencoder__Item_Type_Others                        36.759040\n",
       "onehotencoder__Outlet_Location_Type_Tier 2             32.366697\n",
       "onehotencoder__Item_Fat_Content_Regular                 8.619970\n",
       "onehotencoder__Item_Type_Canned                         8.304151\n",
       "onehotencoder__Item_Type_Snack Foods                   -7.865340\n",
       "onehotencoder__Item_Fat_Content_Low Fat                -8.619970\n",
       "onehotencoder__Item_Super_Category_Food               -11.487781\n",
       "onehotencoder__Item_Type_Baking Goods                 -21.368024\n",
       "onehotencoder__Item_Type_Household                    -26.356978\n",
       "remainder__Item_Weight                                -30.809164\n",
       "onehotencoder__Item_Super_Category_Non-Consumable     -31.743755\n",
       "onehotencoder__Item_Type_Dairy                        -36.821720\n",
       "onehotencoder__Item_Type_Health and Hygiene           -42.145818\n",
       "onehotencoder__Item_Type_Meat                         -60.341456\n",
       "onehotencoder__Item_Type_Frozen Foods                 -66.795231\n",
       "remainder__Item_Visibility                            -74.832949\n",
       "onehotencoder__Item_Type_Soft Drinks                  -84.064644\n",
       "onehotencoder__Item_Type_Hard Drinks                 -141.063471\n",
       "onehotencoder__Outlet_Type_Supermarket Type1         -274.077581\n",
       "onehotencoder__Outlet_Location_Type_Tier 3           -325.100503\n",
       "onehotencoder__Outlet_Size_Small                     -338.504829\n",
       "onehotencoder__Outlet_Size_Medium                    -395.825775\n",
       "onehotencoder__Outlet_Type_Supermarket Type2         -425.825374\n",
       "onehotencoder__Outlet_Type_Grocery Store            -1612.098691\n",
       "remainder__Outlet_Age                               -1726.263353\n",
       "dtype: float64"
      ]
     },
     "execution_count": 57,
     "metadata": {},
     "output_type": "execute_result"
    }
   ],
   "source": [
    "# Predicing y values using LinR model to check for RMSE\n",
    "y_pred = models['LinR'].predict(X_test)\n",
    "\n",
    "RMSE = math.sqrt(metrics.mean_squared_error(y_pred, y_test))\n",
    "RMSE\n",
    "\n",
    "# Below line helps access the coefficients from the LinR Model\n",
    "coefficients = pd.Series(models['LinR']['LinR'].coef_, index= models['LinR'][:-1].get_feature_names_out()).sort_values(ascending=False)\n",
    "coefficients"
   ]
  },
  {
   "cell_type": "code",
   "execution_count": 58,
   "id": "47c71d3a",
   "metadata": {
    "ExecuteTime": {
     "end_time": "2022-10-19T12:45:39.447734Z",
     "start_time": "2022-10-19T12:45:39.421807Z"
    }
   },
   "outputs": [
    {
     "data": {
      "text/plain": [
       "1140.134032874625"
      ]
     },
     "execution_count": 58,
     "metadata": {},
     "output_type": "execute_result"
    }
   ],
   "source": [
    "# Predicing y values using Lasso model to check for RMSE\n",
    "y_pred = models['Lasso'].predict(X_test)\n",
    "\n",
    "RMSE = math.sqrt(metrics.mean_squared_error(y_pred, y_test))\n",
    "RMSE"
   ]
  },
  {
   "cell_type": "code",
   "execution_count": 59,
   "id": "9ee0e185",
   "metadata": {
    "ExecuteTime": {
     "end_time": "2022-10-19T12:45:39.493612Z",
     "start_time": "2022-10-19T12:45:39.451755Z"
    }
   },
   "outputs": [
    {
     "data": {
      "text/plain": [
       "1216.4425437129603"
      ]
     },
     "execution_count": 59,
     "metadata": {},
     "output_type": "execute_result"
    }
   ],
   "source": [
    "# Predicing y values using XGBR model to check for RMSE\n",
    "y_pred = models['XGBR'].predict(X_test)\n",
    "\n",
    "RMSE = math.sqrt(metrics.mean_squared_error(y_pred, y_test))\n",
    "RMSE"
   ]
  },
  {
   "cell_type": "markdown",
   "id": "eed937b0",
   "metadata": {},
   "source": [
    "NOW, let's take these three models for cross-validation and parameter optimization to see if we can improve the RMSE or r2 score"
   ]
  },
  {
   "cell_type": "code",
   "execution_count": 60,
   "id": "1f62e2d2",
   "metadata": {
    "ExecuteTime": {
     "end_time": "2022-10-19T12:45:46.331336Z",
     "start_time": "2022-10-19T12:45:39.497601Z"
    }
   },
   "outputs": [
    {
     "name": "stdout",
     "output_type": "stream",
     "text": [
      "LinR\n",
      "r2 score for the model:\n",
      "Mean:  0.5504\n",
      "Standard Deviation:  0.0283\n",
      "RMSE score for the model:\n",
      "Mean:  1133.7258\n",
      "Standard Deviation:  329.936\n",
      "\n",
      "\n",
      "Lasso\n",
      "r2 score for the model:\n",
      "Mean:  0.5501\n",
      "Standard Deviation:  0.0282\n",
      "RMSE score for the model:\n",
      "Mean:  1134.1281\n",
      "Standard Deviation:  330.4145\n",
      "\n",
      "\n",
      "XGBR\n",
      "r2 score for the model:\n",
      "Mean:  0.5028\n",
      "Standard Deviation:  0.0379\n",
      "RMSE score for the model:\n",
      "Mean:  1191.0768\n",
      "Standard Deviation:  325.6443\n",
      "\n",
      "\n"
     ]
    }
   ],
   "source": [
    "# Performing K-Fold cross-validation\n",
    "\n",
    "n_splits = 7\n",
    "model_score = []\n",
    "kfold = KFold(n_splits=n_splits, shuffle=True, random_state=81)\n",
    "scoring = ['r2', 'neg_mean_squared_error']\n",
    "\n",
    "for name in models:\n",
    "    if name in [\"LinR\", \"Lasso\", \"XGBR\"]:\n",
    "        \n",
    "        # scores = cross_val_score(models[name], X_train, y_train, cv=kfold, scoring='r2\")\n",
    "        scores = cross_validate(models[name], X_train, y_train, cv=kfold, scoring=scoring)\n",
    "                \n",
    "        # model_score.append((name, scores, scores.mean(), scores.std()))\n",
    "        model_score.append((name, scores))\n",
    "        \n",
    "        print(name)\n",
    "        print(scoring[0]+\" score for the model:\")\n",
    "        print(\"Mean: \", round(scores[\"test_\"+scoring[0]].mean(), 4))\n",
    "        print(\"Standard Deviation: \", round(scores[\"test_\"+scoring[0]].std(), 4))\n",
    "        \n",
    "        print(\"RMSE score for the model:\")                \n",
    "        print(\"Mean: \", round(math.sqrt(scores[\"test_\"+scoring[1]].mean()*(-1)), 4))\n",
    "        print(\"Standard Deviation: \", round(math.sqrt(scores[\"test_\"+scoring[1]].std()),4))\n",
    "                        \n",
    "        # print(\"The scores of {} cross-validations are:\\n{}\".format(n_splits, scores))\n",
    "        # print(\"Mean Score: {}\".format(round(scores.mean(), 3)))\n",
    "        # print(\"Score Standard Deviation: {}\".format(round(scores.std(), 3)))\n",
    "        print(\"\\n\")\n",
    "        \n",
    "    else:\n",
    "        continue        \n",
    "        "
   ]
  },
  {
   "cell_type": "markdown",
   "id": "6c58825a",
   "metadata": {
    "ExecuteTime": {
     "end_time": "2022-10-19T12:45:46.346292Z",
     "start_time": "2022-10-19T12:45:46.335322Z"
    }
   },
   "source": [
    "From the cross-validation scores, it is clear Linear Regression and Lasso are nearly same while XGBR is slightly poor in terms of mean RMSE\n",
    "Let's now see if we can fine-tune or optimize these models especially Lasso"
   ]
  },
  {
   "cell_type": "code",
   "execution_count": 61,
   "id": "8f32546e",
   "metadata": {
    "ExecuteTime": {
     "end_time": "2022-10-19T12:45:46.439045Z",
     "start_time": "2022-10-19T12:45:46.352276Z"
    }
   },
   "outputs": [
    {
     "name": "stdout",
     "output_type": "stream",
     "text": [
      "LinR\n"
     ]
    },
    {
     "data": {
      "text/plain": [
       "['copy_X', 'fit_intercept', 'n_jobs', 'positive']"
      ]
     },
     "execution_count": 61,
     "metadata": {},
     "output_type": "execute_result"
    },
    {
     "name": "stdout",
     "output_type": "stream",
     "text": [
      "\n",
      "\n"
     ]
    },
    {
     "data": {
      "text/plain": [
       "{'copy_X': True, 'fit_intercept': True, 'n_jobs': None, 'positive': False}"
      ]
     },
     "execution_count": 61,
     "metadata": {},
     "output_type": "execute_result"
    },
    {
     "name": "stdout",
     "output_type": "stream",
     "text": [
      "\n",
      "\n"
     ]
    },
    {
     "data": {
      "text/plain": [
       "<Signature (*, fit_intercept=True, copy_X=True, n_jobs=None, positive=False)>"
      ]
     },
     "execution_count": 61,
     "metadata": {},
     "output_type": "execute_result"
    },
    {
     "name": "stdout",
     "output_type": "stream",
     "text": [
      "\n",
      "\n"
     ]
    },
    {
     "data": {
      "text/plain": [
       "['self']"
      ]
     },
     "execution_count": 61,
     "metadata": {},
     "output_type": "execute_result"
    },
    {
     "name": "stdout",
     "output_type": "stream",
     "text": [
      "Lasso\n"
     ]
    },
    {
     "data": {
      "text/plain": [
       "['alpha',\n",
       " 'copy_X',\n",
       " 'fit_intercept',\n",
       " 'max_iter',\n",
       " 'positive',\n",
       " 'precompute',\n",
       " 'random_state',\n",
       " 'selection',\n",
       " 'tol',\n",
       " 'warm_start']"
      ]
     },
     "execution_count": 61,
     "metadata": {},
     "output_type": "execute_result"
    },
    {
     "name": "stdout",
     "output_type": "stream",
     "text": [
      "\n",
      "\n"
     ]
    },
    {
     "data": {
      "text/plain": [
       "{'alpha': 1.0,\n",
       " 'copy_X': True,\n",
       " 'fit_intercept': True,\n",
       " 'max_iter': 1000,\n",
       " 'positive': False,\n",
       " 'precompute': False,\n",
       " 'random_state': 81,\n",
       " 'selection': 'cyclic',\n",
       " 'tol': 0.0001,\n",
       " 'warm_start': False}"
      ]
     },
     "execution_count": 61,
     "metadata": {},
     "output_type": "execute_result"
    },
    {
     "name": "stdout",
     "output_type": "stream",
     "text": [
      "\n",
      "\n"
     ]
    },
    {
     "data": {
      "text/plain": [
       "<Signature (alpha=1.0, *, fit_intercept=True, precompute=False, copy_X=True, max_iter=1000, tol=0.0001, warm_start=False, positive=False, random_state=None, selection='cyclic')>"
      ]
     },
     "execution_count": 61,
     "metadata": {},
     "output_type": "execute_result"
    },
    {
     "name": "stdout",
     "output_type": "stream",
     "text": [
      "\n",
      "\n"
     ]
    },
    {
     "data": {
      "text/plain": [
       "['self', 'alpha']"
      ]
     },
     "execution_count": 61,
     "metadata": {},
     "output_type": "execute_result"
    },
    {
     "name": "stdout",
     "output_type": "stream",
     "text": [
      "XGBR\n"
     ]
    },
    {
     "data": {
      "text/plain": [
       "['objective']"
      ]
     },
     "execution_count": 61,
     "metadata": {},
     "output_type": "execute_result"
    },
    {
     "name": "stdout",
     "output_type": "stream",
     "text": [
      "\n",
      "\n"
     ]
    },
    {
     "data": {
      "text/plain": [
       "{'objective': 'reg:squarederror',\n",
       " 'base_score': None,\n",
       " 'booster': None,\n",
       " 'callbacks': None,\n",
       " 'colsample_bylevel': None,\n",
       " 'colsample_bynode': None,\n",
       " 'colsample_bytree': None,\n",
       " 'device': None,\n",
       " 'early_stopping_rounds': None,\n",
       " 'enable_categorical': False,\n",
       " 'eval_metric': None,\n",
       " 'feature_types': None,\n",
       " 'gamma': None,\n",
       " 'grow_policy': None,\n",
       " 'importance_type': None,\n",
       " 'interaction_constraints': None,\n",
       " 'learning_rate': None,\n",
       " 'max_bin': None,\n",
       " 'max_cat_threshold': None,\n",
       " 'max_cat_to_onehot': None,\n",
       " 'max_delta_step': None,\n",
       " 'max_depth': None,\n",
       " 'max_leaves': None,\n",
       " 'min_child_weight': None,\n",
       " 'missing': nan,\n",
       " 'monotone_constraints': None,\n",
       " 'multi_strategy': None,\n",
       " 'n_estimators': None,\n",
       " 'n_jobs': None,\n",
       " 'num_parallel_tree': None,\n",
       " 'random_state': None,\n",
       " 'reg_alpha': None,\n",
       " 'reg_lambda': None,\n",
       " 'sampling_method': None,\n",
       " 'scale_pos_weight': None,\n",
       " 'subsample': None,\n",
       " 'tree_method': None,\n",
       " 'validate_parameters': None,\n",
       " 'verbosity': None}"
      ]
     },
     "execution_count": 61,
     "metadata": {},
     "output_type": "execute_result"
    },
    {
     "name": "stdout",
     "output_type": "stream",
     "text": [
      "\n",
      "\n"
     ]
    },
    {
     "data": {
      "text/plain": [
       "<Signature (*, objective: Union[str, Callable[[numpy.ndarray, numpy.ndarray], Tuple[numpy.ndarray, numpy.ndarray]], NoneType] = 'reg:squarederror', **kwargs: Any) -> None>"
      ]
     },
     "execution_count": 61,
     "metadata": {},
     "output_type": "execute_result"
    },
    {
     "name": "stdout",
     "output_type": "stream",
     "text": [
      "\n",
      "\n"
     ]
    },
    {
     "data": {
      "text/plain": [
       "[]"
      ]
     },
     "execution_count": 61,
     "metadata": {},
     "output_type": "execute_result"
    }
   ],
   "source": [
    "# First let's see the Hyper Params available for the three models\n",
    "import inspect\n",
    "\n",
    "for name in models:\n",
    "    if name in [\"LinR\", \"Lasso\", \"XGBR\"]:\n",
    "        print(name)\n",
    "        models[name][name]._get_param_names()  # This only returns the names of the parameters\n",
    "        \n",
    "        print(\"\\n\")\n",
    "        models[name][name].get_params()  # This returns the names of the parameters along with the current values\n",
    "        \n",
    "        print(\"\\n\")\n",
    "        inspect.signature(models[name][name].__init__)  # This also returns the parameter names and default values. Can\n",
    "        # return for uninstantiated models as well\n",
    "        \n",
    "        print(\"\\n\")\n",
    "        inspect.getfullargspec(models[name][name].__init__).args  # This returns only the arguments (excluding named keyword\n",
    "        # arguments/ parameter)"
   ]
  },
  {
   "cell_type": "markdown",
   "id": "a6a2f1c6",
   "metadata": {},
   "source": [
    "Similarly, we can check the params available for tuning specifically for the model/pipeline in question as indicated below. Note that both GridSearchCV and cross_val_score take pipeline as estimator."
   ]
  },
  {
   "cell_type": "code",
   "execution_count": 62,
   "id": "8af42175",
   "metadata": {
    "ExecuteTime": {
     "end_time": "2022-10-19T12:45:46.484922Z",
     "start_time": "2022-10-19T12:45:46.441040Z"
    }
   },
   "outputs": [
    {
     "data": {
      "text/html": [
       "<style>#sk-container-id-3 {color: black;}#sk-container-id-3 pre{padding: 0;}#sk-container-id-3 div.sk-toggleable {background-color: white;}#sk-container-id-3 label.sk-toggleable__label {cursor: pointer;display: block;width: 100%;margin-bottom: 0;padding: 0.3em;box-sizing: border-box;text-align: center;}#sk-container-id-3 label.sk-toggleable__label-arrow:before {content: \"▸\";float: left;margin-right: 0.25em;color: #696969;}#sk-container-id-3 label.sk-toggleable__label-arrow:hover:before {color: black;}#sk-container-id-3 div.sk-estimator:hover label.sk-toggleable__label-arrow:before {color: black;}#sk-container-id-3 div.sk-toggleable__content {max-height: 0;max-width: 0;overflow: hidden;text-align: left;background-color: #f0f8ff;}#sk-container-id-3 div.sk-toggleable__content pre {margin: 0.2em;color: black;border-radius: 0.25em;background-color: #f0f8ff;}#sk-container-id-3 input.sk-toggleable__control:checked~div.sk-toggleable__content {max-height: 200px;max-width: 100%;overflow: auto;}#sk-container-id-3 input.sk-toggleable__control:checked~label.sk-toggleable__label-arrow:before {content: \"▾\";}#sk-container-id-3 div.sk-estimator input.sk-toggleable__control:checked~label.sk-toggleable__label {background-color: #d4ebff;}#sk-container-id-3 div.sk-label input.sk-toggleable__control:checked~label.sk-toggleable__label {background-color: #d4ebff;}#sk-container-id-3 input.sk-hidden--visually {border: 0;clip: rect(1px 1px 1px 1px);clip: rect(1px, 1px, 1px, 1px);height: 1px;margin: -1px;overflow: hidden;padding: 0;position: absolute;width: 1px;}#sk-container-id-3 div.sk-estimator {font-family: monospace;background-color: #f0f8ff;border: 1px dotted black;border-radius: 0.25em;box-sizing: border-box;margin-bottom: 0.5em;}#sk-container-id-3 div.sk-estimator:hover {background-color: #d4ebff;}#sk-container-id-3 div.sk-parallel-item::after {content: \"\";width: 100%;border-bottom: 1px solid gray;flex-grow: 1;}#sk-container-id-3 div.sk-label:hover label.sk-toggleable__label {background-color: #d4ebff;}#sk-container-id-3 div.sk-serial::before {content: \"\";position: absolute;border-left: 1px solid gray;box-sizing: border-box;top: 0;bottom: 0;left: 50%;z-index: 0;}#sk-container-id-3 div.sk-serial {display: flex;flex-direction: column;align-items: center;background-color: white;padding-right: 0.2em;padding-left: 0.2em;position: relative;}#sk-container-id-3 div.sk-item {position: relative;z-index: 1;}#sk-container-id-3 div.sk-parallel {display: flex;align-items: stretch;justify-content: center;background-color: white;position: relative;}#sk-container-id-3 div.sk-item::before, #sk-container-id-3 div.sk-parallel-item::before {content: \"\";position: absolute;border-left: 1px solid gray;box-sizing: border-box;top: 0;bottom: 0;left: 50%;z-index: -1;}#sk-container-id-3 div.sk-parallel-item {display: flex;flex-direction: column;z-index: 1;position: relative;background-color: white;}#sk-container-id-3 div.sk-parallel-item:first-child::after {align-self: flex-end;width: 50%;}#sk-container-id-3 div.sk-parallel-item:last-child::after {align-self: flex-start;width: 50%;}#sk-container-id-3 div.sk-parallel-item:only-child::after {width: 0;}#sk-container-id-3 div.sk-dashed-wrapped {border: 1px dashed gray;margin: 0 0.4em 0.5em 0.4em;box-sizing: border-box;padding-bottom: 0.4em;background-color: white;}#sk-container-id-3 div.sk-label label {font-family: monospace;font-weight: bold;display: inline-block;line-height: 1.2em;}#sk-container-id-3 div.sk-label-container {text-align: center;}#sk-container-id-3 div.sk-container {/* jupyter's `normalize.less` sets `[hidden] { display: none; }` but bootstrap.min.css set `[hidden] { display: none !important; }` so we also need the `!important` here to be able to override the default hidden behavior on the sphinx rendered scikit-learn.org. See: https://github.com/scikit-learn/scikit-learn/issues/21755 */display: inline-block !important;position: relative;}#sk-container-id-3 div.sk-text-repr-fallback {display: none;}</style><div id=\"sk-container-id-3\" class=\"sk-top-container\"><div class=\"sk-text-repr-fallback\"><pre>Pipeline(steps=[(&#x27;encoder&#x27;,\n",
       "                 ColumnTransformer(remainder=&#x27;passthrough&#x27;,\n",
       "                                   transformers=[(&#x27;onehotencoder&#x27;,\n",
       "                                                  OneHotEncoder(handle_unknown=&#x27;ignore&#x27;),\n",
       "                                                  Index([&#x27;Item_Fat_Content&#x27;, &#x27;Item_Type&#x27;, &#x27;Outlet_Size&#x27;, &#x27;Outlet_Location_Type&#x27;,\n",
       "       &#x27;Outlet_Type&#x27;, &#x27;Item_Super_Category&#x27;],\n",
       "      dtype=&#x27;object&#x27;))])),\n",
       "                (&#x27;scaler&#x27;, MaxAbsScaler()), (&#x27;Lasso&#x27;, Lasso(random_state=81))])</pre><b>In a Jupyter environment, please rerun this cell to show the HTML representation or trust the notebook. <br />On GitHub, the HTML representation is unable to render, please try loading this page with nbviewer.org.</b></div><div class=\"sk-container\" hidden><div class=\"sk-item sk-dashed-wrapped\"><div class=\"sk-label-container\"><div class=\"sk-label sk-toggleable\"><input class=\"sk-toggleable__control sk-hidden--visually\" id=\"sk-estimator-id-3\" type=\"checkbox\" ><label for=\"sk-estimator-id-3\" class=\"sk-toggleable__label sk-toggleable__label-arrow\">Pipeline</label><div class=\"sk-toggleable__content\"><pre>Pipeline(steps=[(&#x27;encoder&#x27;,\n",
       "                 ColumnTransformer(remainder=&#x27;passthrough&#x27;,\n",
       "                                   transformers=[(&#x27;onehotencoder&#x27;,\n",
       "                                                  OneHotEncoder(handle_unknown=&#x27;ignore&#x27;),\n",
       "                                                  Index([&#x27;Item_Fat_Content&#x27;, &#x27;Item_Type&#x27;, &#x27;Outlet_Size&#x27;, &#x27;Outlet_Location_Type&#x27;,\n",
       "       &#x27;Outlet_Type&#x27;, &#x27;Item_Super_Category&#x27;],\n",
       "      dtype=&#x27;object&#x27;))])),\n",
       "                (&#x27;scaler&#x27;, MaxAbsScaler()), (&#x27;Lasso&#x27;, Lasso(random_state=81))])</pre></div></div></div><div class=\"sk-serial\"><div class=\"sk-item sk-dashed-wrapped\"><div class=\"sk-label-container\"><div class=\"sk-label sk-toggleable\"><input class=\"sk-toggleable__control sk-hidden--visually\" id=\"sk-estimator-id-4\" type=\"checkbox\" ><label for=\"sk-estimator-id-4\" class=\"sk-toggleable__label sk-toggleable__label-arrow\">encoder: ColumnTransformer</label><div class=\"sk-toggleable__content\"><pre>ColumnTransformer(remainder=&#x27;passthrough&#x27;,\n",
       "                  transformers=[(&#x27;onehotencoder&#x27;,\n",
       "                                 OneHotEncoder(handle_unknown=&#x27;ignore&#x27;),\n",
       "                                 Index([&#x27;Item_Fat_Content&#x27;, &#x27;Item_Type&#x27;, &#x27;Outlet_Size&#x27;, &#x27;Outlet_Location_Type&#x27;,\n",
       "       &#x27;Outlet_Type&#x27;, &#x27;Item_Super_Category&#x27;],\n",
       "      dtype=&#x27;object&#x27;))])</pre></div></div></div><div class=\"sk-parallel\"><div class=\"sk-parallel-item\"><div class=\"sk-item\"><div class=\"sk-label-container\"><div class=\"sk-label sk-toggleable\"><input class=\"sk-toggleable__control sk-hidden--visually\" id=\"sk-estimator-id-5\" type=\"checkbox\" ><label for=\"sk-estimator-id-5\" class=\"sk-toggleable__label sk-toggleable__label-arrow\">onehotencoder</label><div class=\"sk-toggleable__content\"><pre>Index([&#x27;Item_Fat_Content&#x27;, &#x27;Item_Type&#x27;, &#x27;Outlet_Size&#x27;, &#x27;Outlet_Location_Type&#x27;,\n",
       "       &#x27;Outlet_Type&#x27;, &#x27;Item_Super_Category&#x27;],\n",
       "      dtype=&#x27;object&#x27;)</pre></div></div></div><div class=\"sk-serial\"><div class=\"sk-item\"><div class=\"sk-estimator sk-toggleable\"><input class=\"sk-toggleable__control sk-hidden--visually\" id=\"sk-estimator-id-6\" type=\"checkbox\" ><label for=\"sk-estimator-id-6\" class=\"sk-toggleable__label sk-toggleable__label-arrow\">OneHotEncoder</label><div class=\"sk-toggleable__content\"><pre>OneHotEncoder(handle_unknown=&#x27;ignore&#x27;)</pre></div></div></div></div></div></div><div class=\"sk-parallel-item\"><div class=\"sk-item\"><div class=\"sk-label-container\"><div class=\"sk-label sk-toggleable\"><input class=\"sk-toggleable__control sk-hidden--visually\" id=\"sk-estimator-id-7\" type=\"checkbox\" ><label for=\"sk-estimator-id-7\" class=\"sk-toggleable__label sk-toggleable__label-arrow\">remainder</label><div class=\"sk-toggleable__content\"><pre>[&#x27;Item_Weight&#x27;, &#x27;Item_Visibility&#x27;, &#x27;Item_MRP&#x27;, &#x27;Outlet_Age&#x27;]</pre></div></div></div><div class=\"sk-serial\"><div class=\"sk-item\"><div class=\"sk-estimator sk-toggleable\"><input class=\"sk-toggleable__control sk-hidden--visually\" id=\"sk-estimator-id-8\" type=\"checkbox\" ><label for=\"sk-estimator-id-8\" class=\"sk-toggleable__label sk-toggleable__label-arrow\">passthrough</label><div class=\"sk-toggleable__content\"><pre>passthrough</pre></div></div></div></div></div></div></div></div><div class=\"sk-item\"><div class=\"sk-estimator sk-toggleable\"><input class=\"sk-toggleable__control sk-hidden--visually\" id=\"sk-estimator-id-9\" type=\"checkbox\" ><label for=\"sk-estimator-id-9\" class=\"sk-toggleable__label sk-toggleable__label-arrow\">MaxAbsScaler</label><div class=\"sk-toggleable__content\"><pre>MaxAbsScaler()</pre></div></div></div><div class=\"sk-item\"><div class=\"sk-estimator sk-toggleable\"><input class=\"sk-toggleable__control sk-hidden--visually\" id=\"sk-estimator-id-10\" type=\"checkbox\" ><label for=\"sk-estimator-id-10\" class=\"sk-toggleable__label sk-toggleable__label-arrow\">Lasso</label><div class=\"sk-toggleable__content\"><pre>Lasso(random_state=81)</pre></div></div></div></div></div></div></div>"
      ],
      "text/plain": [
       "Pipeline(steps=[('encoder',\n",
       "                 ColumnTransformer(remainder='passthrough',\n",
       "                                   transformers=[('onehotencoder',\n",
       "                                                  OneHotEncoder(handle_unknown='ignore'),\n",
       "                                                  Index(['Item_Fat_Content', 'Item_Type', 'Outlet_Size', 'Outlet_Location_Type',\n",
       "       'Outlet_Type', 'Item_Super_Category'],\n",
       "      dtype='object'))])),\n",
       "                ('scaler', MaxAbsScaler()), ('Lasso', Lasso(random_state=81))])"
      ]
     },
     "execution_count": 62,
     "metadata": {},
     "output_type": "execute_result"
    },
    {
     "data": {
      "text/plain": [
       "dict_keys(['memory', 'steps', 'verbose', 'encoder', 'scaler', 'Lasso', 'encoder__n_jobs', 'encoder__remainder', 'encoder__sparse_threshold', 'encoder__transformer_weights', 'encoder__transformers', 'encoder__verbose', 'encoder__verbose_feature_names_out', 'encoder__onehotencoder', 'encoder__onehotencoder__categories', 'encoder__onehotencoder__drop', 'encoder__onehotencoder__dtype', 'encoder__onehotencoder__feature_name_combiner', 'encoder__onehotencoder__handle_unknown', 'encoder__onehotencoder__max_categories', 'encoder__onehotencoder__min_frequency', 'encoder__onehotencoder__sparse', 'encoder__onehotencoder__sparse_output', 'scaler__copy', 'Lasso__alpha', 'Lasso__copy_X', 'Lasso__fit_intercept', 'Lasso__max_iter', 'Lasso__positive', 'Lasso__precompute', 'Lasso__random_state', 'Lasso__selection', 'Lasso__tol', 'Lasso__warm_start'])"
      ]
     },
     "execution_count": 62,
     "metadata": {},
     "output_type": "execute_result"
    }
   ],
   "source": [
    "models[\"Lasso\"]\n",
    "models[\"Lasso\"].get_params().keys()\n",
    "\n",
    "# Notice \"Lasso_alpha\" is what we want to tune here."
   ]
  },
  {
   "cell_type": "markdown",
   "id": "f92c04b0",
   "metadata": {},
   "source": [
    "#### STEPS in Hyper Paramter Tuning:\n",
    "    # Identify and narrow down the pipeline we want to tune - Note here, we can tune each step of the pipeline e.g. even \n",
    "    # replace OneHotEncoder with say OrdinalEncoder or any other, similarly change MaxAbsScalar to some other or change the\n",
    "    # clip range for MinMaxScalar from default (0,1) and so on. We can change the actual estimator algo and so on.\n",
    "    \n",
    "    # Check the Hyper Parameters available for tuning using get_params() or get_params().keys(). Narrow down and pick few \n",
    "    # Hyper Parameters to be tuned in the pipleine/ estimator\n",
    "    \n",
    "    # Create a list/ array of parameter values you want to try out/ check. Ideally we must check values on both sides of the\n",
    "    # optimum parameter value\n",
    "    \n",
    "    # Create a dict of param_values you want to check/tune. Here keys will be the names of the params and values is the list\n",
    "    # or array of permissible values\n",
    "    \n",
    "    # Pass the dict to GridSearchCV function along with pipeline/ model, CV object and appropriaate scoring metrics"
   ]
  },
  {
   "cell_type": "code",
   "execution_count": 63,
   "id": "58eb038b",
   "metadata": {
    "ExecuteTime": {
     "end_time": "2022-10-19T12:45:54.224232Z",
     "start_time": "2022-10-19T12:45:46.486917Z"
    }
   },
   "outputs": [],
   "source": [
    "alpha_values = np.array([0.5, 1.0, 1.5, 2.0, 2.5, 3.0, 3.5, 4.0, 4.5, 5.0, 5.5, 6.0])\n",
    "param_grid = {'Lasso__alpha': alpha_values}\n",
    "grid = GridSearchCV(estimator = models['Lasso'], param_grid = param_grid, scoring='r2', cv=kfold )\n",
    "grid_result = grid.fit(X, y)"
   ]
  },
  {
   "cell_type": "code",
   "execution_count": 64,
   "id": "aa9a1b88",
   "metadata": {
    "ExecuteTime": {
     "end_time": "2022-10-19T12:45:54.270109Z",
     "start_time": "2022-10-19T12:45:54.226228Z"
    }
   },
   "outputs": [
    {
     "data": {
      "text/html": [
       "<div>\n",
       "<style scoped>\n",
       "    .dataframe tbody tr th:only-of-type {\n",
       "        vertical-align: middle;\n",
       "    }\n",
       "\n",
       "    .dataframe tbody tr th {\n",
       "        vertical-align: top;\n",
       "    }\n",
       "\n",
       "    .dataframe thead th {\n",
       "        text-align: right;\n",
       "    }\n",
       "</style>\n",
       "<table border=\"1\" class=\"dataframe\">\n",
       "  <thead>\n",
       "    <tr style=\"text-align: right;\">\n",
       "      <th></th>\n",
       "      <th>mean_fit_time</th>\n",
       "      <th>std_fit_time</th>\n",
       "      <th>mean_score_time</th>\n",
       "      <th>std_score_time</th>\n",
       "      <th>param_Lasso__alpha</th>\n",
       "      <th>params</th>\n",
       "      <th>split0_test_score</th>\n",
       "      <th>split1_test_score</th>\n",
       "      <th>split2_test_score</th>\n",
       "      <th>split3_test_score</th>\n",
       "      <th>split4_test_score</th>\n",
       "      <th>split5_test_score</th>\n",
       "      <th>split6_test_score</th>\n",
       "      <th>mean_test_score</th>\n",
       "      <th>std_test_score</th>\n",
       "      <th>rank_test_score</th>\n",
       "    </tr>\n",
       "  </thead>\n",
       "  <tbody>\n",
       "    <tr>\n",
       "      <th>0</th>\n",
       "      <td>0.321404</td>\n",
       "      <td>0.034522</td>\n",
       "      <td>0.008330</td>\n",
       "      <td>0.000981</td>\n",
       "      <td>0.5</td>\n",
       "      <td>{'Lasso__alpha': 0.5}</td>\n",
       "      <td>0.557858</td>\n",
       "      <td>0.575192</td>\n",
       "      <td>0.553295</td>\n",
       "      <td>0.576817</td>\n",
       "      <td>0.548895</td>\n",
       "      <td>0.531230</td>\n",
       "      <td>0.540368</td>\n",
       "      <td>0.554808</td>\n",
       "      <td>0.015634</td>\n",
       "      <td>12</td>\n",
       "    </tr>\n",
       "    <tr>\n",
       "      <th>1</th>\n",
       "      <td>0.088749</td>\n",
       "      <td>0.020869</td>\n",
       "      <td>0.009153</td>\n",
       "      <td>0.001128</td>\n",
       "      <td>1.0</td>\n",
       "      <td>{'Lasso__alpha': 1.0}</td>\n",
       "      <td>0.558000</td>\n",
       "      <td>0.575028</td>\n",
       "      <td>0.553908</td>\n",
       "      <td>0.576747</td>\n",
       "      <td>0.549172</td>\n",
       "      <td>0.531070</td>\n",
       "      <td>0.540455</td>\n",
       "      <td>0.554911</td>\n",
       "      <td>0.015595</td>\n",
       "      <td>11</td>\n",
       "    </tr>\n",
       "    <tr>\n",
       "      <th>2</th>\n",
       "      <td>0.058128</td>\n",
       "      <td>0.004846</td>\n",
       "      <td>0.007974</td>\n",
       "      <td>0.000996</td>\n",
       "      <td>1.5</td>\n",
       "      <td>{'Lasso__alpha': 1.5}</td>\n",
       "      <td>0.558260</td>\n",
       "      <td>0.575063</td>\n",
       "      <td>0.554729</td>\n",
       "      <td>0.576947</td>\n",
       "      <td>0.549676</td>\n",
       "      <td>0.531404</td>\n",
       "      <td>0.540644</td>\n",
       "      <td>0.555246</td>\n",
       "      <td>0.015518</td>\n",
       "      <td>10</td>\n",
       "    </tr>\n",
       "    <tr>\n",
       "      <th>3</th>\n",
       "      <td>0.055589</td>\n",
       "      <td>0.005303</td>\n",
       "      <td>0.008844</td>\n",
       "      <td>0.000746</td>\n",
       "      <td>2.0</td>\n",
       "      <td>{'Lasso__alpha': 2.0}</td>\n",
       "      <td>0.558418</td>\n",
       "      <td>0.575030</td>\n",
       "      <td>0.555408</td>\n",
       "      <td>0.576924</td>\n",
       "      <td>0.550066</td>\n",
       "      <td>0.531738</td>\n",
       "      <td>0.540762</td>\n",
       "      <td>0.555478</td>\n",
       "      <td>0.015401</td>\n",
       "      <td>8</td>\n",
       "    </tr>\n",
       "    <tr>\n",
       "      <th>4</th>\n",
       "      <td>0.046475</td>\n",
       "      <td>0.003178</td>\n",
       "      <td>0.008208</td>\n",
       "      <td>0.000496</td>\n",
       "      <td>2.5</td>\n",
       "      <td>{'Lasso__alpha': 2.5}</td>\n",
       "      <td>0.558501</td>\n",
       "      <td>0.574950</td>\n",
       "      <td>0.555723</td>\n",
       "      <td>0.576816</td>\n",
       "      <td>0.550368</td>\n",
       "      <td>0.531919</td>\n",
       "      <td>0.540804</td>\n",
       "      <td>0.555583</td>\n",
       "      <td>0.015307</td>\n",
       "      <td>5</td>\n",
       "    </tr>\n",
       "    <tr>\n",
       "      <th>5</th>\n",
       "      <td>0.043099</td>\n",
       "      <td>0.005091</td>\n",
       "      <td>0.008076</td>\n",
       "      <td>0.001172</td>\n",
       "      <td>3.0</td>\n",
       "      <td>{'Lasso__alpha': 3.0}</td>\n",
       "      <td>0.558425</td>\n",
       "      <td>0.574889</td>\n",
       "      <td>0.555867</td>\n",
       "      <td>0.576686</td>\n",
       "      <td>0.550535</td>\n",
       "      <td>0.532033</td>\n",
       "      <td>0.540796</td>\n",
       "      <td>0.555604</td>\n",
       "      <td>0.015236</td>\n",
       "      <td>3</td>\n",
       "    </tr>\n",
       "    <tr>\n",
       "      <th>6</th>\n",
       "      <td>0.037058</td>\n",
       "      <td>0.003670</td>\n",
       "      <td>0.007266</td>\n",
       "      <td>0.000614</td>\n",
       "      <td>3.5</td>\n",
       "      <td>{'Lasso__alpha': 3.5}</td>\n",
       "      <td>0.558343</td>\n",
       "      <td>0.574800</td>\n",
       "      <td>0.555996</td>\n",
       "      <td>0.576539</td>\n",
       "      <td>0.550657</td>\n",
       "      <td>0.532175</td>\n",
       "      <td>0.540816</td>\n",
       "      <td>0.555618</td>\n",
       "      <td>0.015149</td>\n",
       "      <td>1</td>\n",
       "    </tr>\n",
       "    <tr>\n",
       "      <th>7</th>\n",
       "      <td>0.036803</td>\n",
       "      <td>0.002500</td>\n",
       "      <td>0.007474</td>\n",
       "      <td>0.001025</td>\n",
       "      <td>4.0</td>\n",
       "      <td>{'Lasso__alpha': 4.0}</td>\n",
       "      <td>0.558223</td>\n",
       "      <td>0.574717</td>\n",
       "      <td>0.556125</td>\n",
       "      <td>0.576377</td>\n",
       "      <td>0.550656</td>\n",
       "      <td>0.532329</td>\n",
       "      <td>0.540827</td>\n",
       "      <td>0.555608</td>\n",
       "      <td>0.015064</td>\n",
       "      <td>2</td>\n",
       "    </tr>\n",
       "    <tr>\n",
       "      <th>8</th>\n",
       "      <td>0.035766</td>\n",
       "      <td>0.002087</td>\n",
       "      <td>0.007739</td>\n",
       "      <td>0.000719</td>\n",
       "      <td>4.5</td>\n",
       "      <td>{'Lasso__alpha': 4.5}</td>\n",
       "      <td>0.558092</td>\n",
       "      <td>0.574624</td>\n",
       "      <td>0.556255</td>\n",
       "      <td>0.576215</td>\n",
       "      <td>0.550632</td>\n",
       "      <td>0.532472</td>\n",
       "      <td>0.540807</td>\n",
       "      <td>0.555585</td>\n",
       "      <td>0.014985</td>\n",
       "      <td>4</td>\n",
       "    </tr>\n",
       "    <tr>\n",
       "      <th>9</th>\n",
       "      <td>0.039344</td>\n",
       "      <td>0.003668</td>\n",
       "      <td>0.008641</td>\n",
       "      <td>0.000619</td>\n",
       "      <td>5.0</td>\n",
       "      <td>{'Lasso__alpha': 5.0}</td>\n",
       "      <td>0.557954</td>\n",
       "      <td>0.574522</td>\n",
       "      <td>0.556398</td>\n",
       "      <td>0.576059</td>\n",
       "      <td>0.550586</td>\n",
       "      <td>0.532605</td>\n",
       "      <td>0.540744</td>\n",
       "      <td>0.555553</td>\n",
       "      <td>0.014916</td>\n",
       "      <td>6</td>\n",
       "    </tr>\n",
       "    <tr>\n",
       "      <th>10</th>\n",
       "      <td>0.035421</td>\n",
       "      <td>0.003588</td>\n",
       "      <td>0.008585</td>\n",
       "      <td>0.000501</td>\n",
       "      <td>5.5</td>\n",
       "      <td>{'Lasso__alpha': 5.5}</td>\n",
       "      <td>0.557815</td>\n",
       "      <td>0.574409</td>\n",
       "      <td>0.556531</td>\n",
       "      <td>0.575895</td>\n",
       "      <td>0.550489</td>\n",
       "      <td>0.532728</td>\n",
       "      <td>0.540651</td>\n",
       "      <td>0.555502</td>\n",
       "      <td>0.014852</td>\n",
       "      <td>7</td>\n",
       "    </tr>\n",
       "    <tr>\n",
       "      <th>11</th>\n",
       "      <td>0.035751</td>\n",
       "      <td>0.004617</td>\n",
       "      <td>0.008508</td>\n",
       "      <td>0.001589</td>\n",
       "      <td>6.0</td>\n",
       "      <td>{'Lasso__alpha': 6.0}</td>\n",
       "      <td>0.557666</td>\n",
       "      <td>0.574285</td>\n",
       "      <td>0.556655</td>\n",
       "      <td>0.575722</td>\n",
       "      <td>0.550376</td>\n",
       "      <td>0.532847</td>\n",
       "      <td>0.540550</td>\n",
       "      <td>0.555443</td>\n",
       "      <td>0.014788</td>\n",
       "      <td>9</td>\n",
       "    </tr>\n",
       "  </tbody>\n",
       "</table>\n",
       "</div>"
      ],
      "text/plain": [
       "    mean_fit_time  std_fit_time  mean_score_time  std_score_time  \\\n",
       "0        0.321404      0.034522         0.008330        0.000981   \n",
       "1        0.088749      0.020869         0.009153        0.001128   \n",
       "2        0.058128      0.004846         0.007974        0.000996   \n",
       "3        0.055589      0.005303         0.008844        0.000746   \n",
       "4        0.046475      0.003178         0.008208        0.000496   \n",
       "5        0.043099      0.005091         0.008076        0.001172   \n",
       "6        0.037058      0.003670         0.007266        0.000614   \n",
       "7        0.036803      0.002500         0.007474        0.001025   \n",
       "8        0.035766      0.002087         0.007739        0.000719   \n",
       "9        0.039344      0.003668         0.008641        0.000619   \n",
       "10       0.035421      0.003588         0.008585        0.000501   \n",
       "11       0.035751      0.004617         0.008508        0.001589   \n",
       "\n",
       "   param_Lasso__alpha                 params  split0_test_score  \\\n",
       "0                 0.5  {'Lasso__alpha': 0.5}           0.557858   \n",
       "1                 1.0  {'Lasso__alpha': 1.0}           0.558000   \n",
       "2                 1.5  {'Lasso__alpha': 1.5}           0.558260   \n",
       "3                 2.0  {'Lasso__alpha': 2.0}           0.558418   \n",
       "4                 2.5  {'Lasso__alpha': 2.5}           0.558501   \n",
       "5                 3.0  {'Lasso__alpha': 3.0}           0.558425   \n",
       "6                 3.5  {'Lasso__alpha': 3.5}           0.558343   \n",
       "7                 4.0  {'Lasso__alpha': 4.0}           0.558223   \n",
       "8                 4.5  {'Lasso__alpha': 4.5}           0.558092   \n",
       "9                 5.0  {'Lasso__alpha': 5.0}           0.557954   \n",
       "10                5.5  {'Lasso__alpha': 5.5}           0.557815   \n",
       "11                6.0  {'Lasso__alpha': 6.0}           0.557666   \n",
       "\n",
       "    split1_test_score  split2_test_score  split3_test_score  \\\n",
       "0            0.575192           0.553295           0.576817   \n",
       "1            0.575028           0.553908           0.576747   \n",
       "2            0.575063           0.554729           0.576947   \n",
       "3            0.575030           0.555408           0.576924   \n",
       "4            0.574950           0.555723           0.576816   \n",
       "5            0.574889           0.555867           0.576686   \n",
       "6            0.574800           0.555996           0.576539   \n",
       "7            0.574717           0.556125           0.576377   \n",
       "8            0.574624           0.556255           0.576215   \n",
       "9            0.574522           0.556398           0.576059   \n",
       "10           0.574409           0.556531           0.575895   \n",
       "11           0.574285           0.556655           0.575722   \n",
       "\n",
       "    split4_test_score  split5_test_score  split6_test_score  mean_test_score  \\\n",
       "0            0.548895           0.531230           0.540368         0.554808   \n",
       "1            0.549172           0.531070           0.540455         0.554911   \n",
       "2            0.549676           0.531404           0.540644         0.555246   \n",
       "3            0.550066           0.531738           0.540762         0.555478   \n",
       "4            0.550368           0.531919           0.540804         0.555583   \n",
       "5            0.550535           0.532033           0.540796         0.555604   \n",
       "6            0.550657           0.532175           0.540816         0.555618   \n",
       "7            0.550656           0.532329           0.540827         0.555608   \n",
       "8            0.550632           0.532472           0.540807         0.555585   \n",
       "9            0.550586           0.532605           0.540744         0.555553   \n",
       "10           0.550489           0.532728           0.540651         0.555502   \n",
       "11           0.550376           0.532847           0.540550         0.555443   \n",
       "\n",
       "    std_test_score  rank_test_score  \n",
       "0         0.015634               12  \n",
       "1         0.015595               11  \n",
       "2         0.015518               10  \n",
       "3         0.015401                8  \n",
       "4         0.015307                5  \n",
       "5         0.015236                3  \n",
       "6         0.015149                1  \n",
       "7         0.015064                2  \n",
       "8         0.014985                4  \n",
       "9         0.014916                6  \n",
       "10        0.014852                7  \n",
       "11        0.014788                9  "
      ]
     },
     "execution_count": 64,
     "metadata": {},
     "output_type": "execute_result"
    }
   ],
   "source": [
    "# We can check all the results of GridSearchCV using the method cv_results_ on GridSearchCV results (here grid_result)\n",
    "\n",
    "cv_results = pd.DataFrame(grid_result.cv_results_)\n",
    "cv_results"
   ]
  },
  {
   "cell_type": "markdown",
   "id": "e30c4b1f",
   "metadata": {},
   "source": [
    "We can see, there is lot of other information related to the time elapsed in execution etc. which at the moment is not required. Therefore we can either slice appropriate colums of interest and inspect. Usually mean_test_score, std_test_score, rank_test_score and params are important. Notice params is basically all unique combinations of the params to be checked"
   ]
  },
  {
   "cell_type": "code",
   "execution_count": 65,
   "id": "9dd8201e",
   "metadata": {
    "ExecuteTime": {
     "end_time": "2022-10-19T12:45:54.286067Z",
     "start_time": "2022-10-19T12:45:54.272105Z"
    }
   },
   "outputs": [
    {
     "name": "stdout",
     "output_type": "stream",
     "text": [
      "Best: 0.555618 using {'Lasso__alpha': 3.5}\n",
      "0.554808 (0.015634) with: {'Lasso__alpha': 0.5}\n",
      "0.554911 (0.015595) with: {'Lasso__alpha': 1.0}\n",
      "0.555246 (0.015518) with: {'Lasso__alpha': 1.5}\n",
      "0.555478 (0.015401) with: {'Lasso__alpha': 2.0}\n",
      "0.555583 (0.015307) with: {'Lasso__alpha': 2.5}\n",
      "0.555604 (0.015236) with: {'Lasso__alpha': 3.0}\n",
      "0.555618 (0.015149) with: {'Lasso__alpha': 3.5}\n",
      "0.555608 (0.015064) with: {'Lasso__alpha': 4.0}\n",
      "0.555585 (0.014985) with: {'Lasso__alpha': 4.5}\n",
      "0.555553 (0.014916) with: {'Lasso__alpha': 5.0}\n",
      "0.555502 (0.014852) with: {'Lasso__alpha': 5.5}\n",
      "0.555443 (0.014788) with: {'Lasso__alpha': 6.0}\n"
     ]
    }
   ],
   "source": [
    "# We can visualise the results the way we want. One way is as below:\n",
    "\n",
    "print(\"Best: %f using %s\" % (grid_result.best_score_,\\\n",
    "                             grid_result.best_params_))\n",
    "\n",
    "means = grid_result.cv_results_['mean_test_score']\n",
    "stds = grid_result.cv_results_['std_test_score']\n",
    "params = grid_result.cv_results_['params']\n",
    "for mean, stdev, param in zip(means, stds, params):\n",
    "    print(\"%f (%f) with: %r\" % (mean, stdev, param))"
   ]
  },
  {
   "cell_type": "markdown",
   "id": "be10c108",
   "metadata": {
    "ExecuteTime": {
     "end_time": "2022-10-19T11:49:55.423894Z",
     "start_time": "2022-10-19T11:49:55.411926Z"
    }
   },
   "source": [
    "##### The best hyper parameters have to be used to re-fit a final model on the full training set. Then we will serialize the model and use it to predict response variable from the held out test data that was not used for hyper parameter tuning."
   ]
  },
  {
   "cell_type": "code",
   "execution_count": 66,
   "id": "3de996fb",
   "metadata": {
    "ExecuteTime": {
     "end_time": "2022-10-19T12:45:54.331944Z",
     "start_time": "2022-10-19T12:45:54.289060Z"
    }
   },
   "outputs": [
    {
     "data": {
      "text/html": [
       "<style>#sk-container-id-4 {color: black;}#sk-container-id-4 pre{padding: 0;}#sk-container-id-4 div.sk-toggleable {background-color: white;}#sk-container-id-4 label.sk-toggleable__label {cursor: pointer;display: block;width: 100%;margin-bottom: 0;padding: 0.3em;box-sizing: border-box;text-align: center;}#sk-container-id-4 label.sk-toggleable__label-arrow:before {content: \"▸\";float: left;margin-right: 0.25em;color: #696969;}#sk-container-id-4 label.sk-toggleable__label-arrow:hover:before {color: black;}#sk-container-id-4 div.sk-estimator:hover label.sk-toggleable__label-arrow:before {color: black;}#sk-container-id-4 div.sk-toggleable__content {max-height: 0;max-width: 0;overflow: hidden;text-align: left;background-color: #f0f8ff;}#sk-container-id-4 div.sk-toggleable__content pre {margin: 0.2em;color: black;border-radius: 0.25em;background-color: #f0f8ff;}#sk-container-id-4 input.sk-toggleable__control:checked~div.sk-toggleable__content {max-height: 200px;max-width: 100%;overflow: auto;}#sk-container-id-4 input.sk-toggleable__control:checked~label.sk-toggleable__label-arrow:before {content: \"▾\";}#sk-container-id-4 div.sk-estimator input.sk-toggleable__control:checked~label.sk-toggleable__label {background-color: #d4ebff;}#sk-container-id-4 div.sk-label input.sk-toggleable__control:checked~label.sk-toggleable__label {background-color: #d4ebff;}#sk-container-id-4 input.sk-hidden--visually {border: 0;clip: rect(1px 1px 1px 1px);clip: rect(1px, 1px, 1px, 1px);height: 1px;margin: -1px;overflow: hidden;padding: 0;position: absolute;width: 1px;}#sk-container-id-4 div.sk-estimator {font-family: monospace;background-color: #f0f8ff;border: 1px dotted black;border-radius: 0.25em;box-sizing: border-box;margin-bottom: 0.5em;}#sk-container-id-4 div.sk-estimator:hover {background-color: #d4ebff;}#sk-container-id-4 div.sk-parallel-item::after {content: \"\";width: 100%;border-bottom: 1px solid gray;flex-grow: 1;}#sk-container-id-4 div.sk-label:hover label.sk-toggleable__label {background-color: #d4ebff;}#sk-container-id-4 div.sk-serial::before {content: \"\";position: absolute;border-left: 1px solid gray;box-sizing: border-box;top: 0;bottom: 0;left: 50%;z-index: 0;}#sk-container-id-4 div.sk-serial {display: flex;flex-direction: column;align-items: center;background-color: white;padding-right: 0.2em;padding-left: 0.2em;position: relative;}#sk-container-id-4 div.sk-item {position: relative;z-index: 1;}#sk-container-id-4 div.sk-parallel {display: flex;align-items: stretch;justify-content: center;background-color: white;position: relative;}#sk-container-id-4 div.sk-item::before, #sk-container-id-4 div.sk-parallel-item::before {content: \"\";position: absolute;border-left: 1px solid gray;box-sizing: border-box;top: 0;bottom: 0;left: 50%;z-index: -1;}#sk-container-id-4 div.sk-parallel-item {display: flex;flex-direction: column;z-index: 1;position: relative;background-color: white;}#sk-container-id-4 div.sk-parallel-item:first-child::after {align-self: flex-end;width: 50%;}#sk-container-id-4 div.sk-parallel-item:last-child::after {align-self: flex-start;width: 50%;}#sk-container-id-4 div.sk-parallel-item:only-child::after {width: 0;}#sk-container-id-4 div.sk-dashed-wrapped {border: 1px dashed gray;margin: 0 0.4em 0.5em 0.4em;box-sizing: border-box;padding-bottom: 0.4em;background-color: white;}#sk-container-id-4 div.sk-label label {font-family: monospace;font-weight: bold;display: inline-block;line-height: 1.2em;}#sk-container-id-4 div.sk-label-container {text-align: center;}#sk-container-id-4 div.sk-container {/* jupyter's `normalize.less` sets `[hidden] { display: none; }` but bootstrap.min.css set `[hidden] { display: none !important; }` so we also need the `!important` here to be able to override the default hidden behavior on the sphinx rendered scikit-learn.org. See: https://github.com/scikit-learn/scikit-learn/issues/21755 */display: inline-block !important;position: relative;}#sk-container-id-4 div.sk-text-repr-fallback {display: none;}</style><div id=\"sk-container-id-4\" class=\"sk-top-container\"><div class=\"sk-text-repr-fallback\"><pre>Pipeline(steps=[(&#x27;encoder&#x27;,\n",
       "                 ColumnTransformer(remainder=&#x27;passthrough&#x27;,\n",
       "                                   transformers=[(&#x27;onehotencoder&#x27;,\n",
       "                                                  OneHotEncoder(handle_unknown=&#x27;ignore&#x27;),\n",
       "                                                  Index([&#x27;Item_Fat_Content&#x27;, &#x27;Item_Type&#x27;, &#x27;Outlet_Size&#x27;, &#x27;Outlet_Location_Type&#x27;,\n",
       "       &#x27;Outlet_Type&#x27;, &#x27;Item_Super_Category&#x27;],\n",
       "      dtype=&#x27;object&#x27;))])),\n",
       "                (&#x27;scaler&#x27;, MaxAbsScaler()),\n",
       "                (&#x27;Lasso&#x27;, Lasso(alpha=3.5, random_state=81))])</pre><b>In a Jupyter environment, please rerun this cell to show the HTML representation or trust the notebook. <br />On GitHub, the HTML representation is unable to render, please try loading this page with nbviewer.org.</b></div><div class=\"sk-container\" hidden><div class=\"sk-item sk-dashed-wrapped\"><div class=\"sk-label-container\"><div class=\"sk-label sk-toggleable\"><input class=\"sk-toggleable__control sk-hidden--visually\" id=\"sk-estimator-id-11\" type=\"checkbox\" ><label for=\"sk-estimator-id-11\" class=\"sk-toggleable__label sk-toggleable__label-arrow\">Pipeline</label><div class=\"sk-toggleable__content\"><pre>Pipeline(steps=[(&#x27;encoder&#x27;,\n",
       "                 ColumnTransformer(remainder=&#x27;passthrough&#x27;,\n",
       "                                   transformers=[(&#x27;onehotencoder&#x27;,\n",
       "                                                  OneHotEncoder(handle_unknown=&#x27;ignore&#x27;),\n",
       "                                                  Index([&#x27;Item_Fat_Content&#x27;, &#x27;Item_Type&#x27;, &#x27;Outlet_Size&#x27;, &#x27;Outlet_Location_Type&#x27;,\n",
       "       &#x27;Outlet_Type&#x27;, &#x27;Item_Super_Category&#x27;],\n",
       "      dtype=&#x27;object&#x27;))])),\n",
       "                (&#x27;scaler&#x27;, MaxAbsScaler()),\n",
       "                (&#x27;Lasso&#x27;, Lasso(alpha=3.5, random_state=81))])</pre></div></div></div><div class=\"sk-serial\"><div class=\"sk-item sk-dashed-wrapped\"><div class=\"sk-label-container\"><div class=\"sk-label sk-toggleable\"><input class=\"sk-toggleable__control sk-hidden--visually\" id=\"sk-estimator-id-12\" type=\"checkbox\" ><label for=\"sk-estimator-id-12\" class=\"sk-toggleable__label sk-toggleable__label-arrow\">encoder: ColumnTransformer</label><div class=\"sk-toggleable__content\"><pre>ColumnTransformer(remainder=&#x27;passthrough&#x27;,\n",
       "                  transformers=[(&#x27;onehotencoder&#x27;,\n",
       "                                 OneHotEncoder(handle_unknown=&#x27;ignore&#x27;),\n",
       "                                 Index([&#x27;Item_Fat_Content&#x27;, &#x27;Item_Type&#x27;, &#x27;Outlet_Size&#x27;, &#x27;Outlet_Location_Type&#x27;,\n",
       "       &#x27;Outlet_Type&#x27;, &#x27;Item_Super_Category&#x27;],\n",
       "      dtype=&#x27;object&#x27;))])</pre></div></div></div><div class=\"sk-parallel\"><div class=\"sk-parallel-item\"><div class=\"sk-item\"><div class=\"sk-label-container\"><div class=\"sk-label sk-toggleable\"><input class=\"sk-toggleable__control sk-hidden--visually\" id=\"sk-estimator-id-13\" type=\"checkbox\" ><label for=\"sk-estimator-id-13\" class=\"sk-toggleable__label sk-toggleable__label-arrow\">onehotencoder</label><div class=\"sk-toggleable__content\"><pre>Index([&#x27;Item_Fat_Content&#x27;, &#x27;Item_Type&#x27;, &#x27;Outlet_Size&#x27;, &#x27;Outlet_Location_Type&#x27;,\n",
       "       &#x27;Outlet_Type&#x27;, &#x27;Item_Super_Category&#x27;],\n",
       "      dtype=&#x27;object&#x27;)</pre></div></div></div><div class=\"sk-serial\"><div class=\"sk-item\"><div class=\"sk-estimator sk-toggleable\"><input class=\"sk-toggleable__control sk-hidden--visually\" id=\"sk-estimator-id-14\" type=\"checkbox\" ><label for=\"sk-estimator-id-14\" class=\"sk-toggleable__label sk-toggleable__label-arrow\">OneHotEncoder</label><div class=\"sk-toggleable__content\"><pre>OneHotEncoder(handle_unknown=&#x27;ignore&#x27;)</pre></div></div></div></div></div></div><div class=\"sk-parallel-item\"><div class=\"sk-item\"><div class=\"sk-label-container\"><div class=\"sk-label sk-toggleable\"><input class=\"sk-toggleable__control sk-hidden--visually\" id=\"sk-estimator-id-15\" type=\"checkbox\" ><label for=\"sk-estimator-id-15\" class=\"sk-toggleable__label sk-toggleable__label-arrow\">remainder</label><div class=\"sk-toggleable__content\"><pre>[&#x27;Item_Weight&#x27;, &#x27;Item_Visibility&#x27;, &#x27;Item_MRP&#x27;, &#x27;Outlet_Age&#x27;]</pre></div></div></div><div class=\"sk-serial\"><div class=\"sk-item\"><div class=\"sk-estimator sk-toggleable\"><input class=\"sk-toggleable__control sk-hidden--visually\" id=\"sk-estimator-id-16\" type=\"checkbox\" ><label for=\"sk-estimator-id-16\" class=\"sk-toggleable__label sk-toggleable__label-arrow\">passthrough</label><div class=\"sk-toggleable__content\"><pre>passthrough</pre></div></div></div></div></div></div></div></div><div class=\"sk-item\"><div class=\"sk-estimator sk-toggleable\"><input class=\"sk-toggleable__control sk-hidden--visually\" id=\"sk-estimator-id-17\" type=\"checkbox\" ><label for=\"sk-estimator-id-17\" class=\"sk-toggleable__label sk-toggleable__label-arrow\">MaxAbsScaler</label><div class=\"sk-toggleable__content\"><pre>MaxAbsScaler()</pre></div></div></div><div class=\"sk-item\"><div class=\"sk-estimator sk-toggleable\"><input class=\"sk-toggleable__control sk-hidden--visually\" id=\"sk-estimator-id-18\" type=\"checkbox\" ><label for=\"sk-estimator-id-18\" class=\"sk-toggleable__label sk-toggleable__label-arrow\">Lasso</label><div class=\"sk-toggleable__content\"><pre>Lasso(alpha=3.5, random_state=81)</pre></div></div></div></div></div></div></div>"
      ],
      "text/plain": [
       "Pipeline(steps=[('encoder',\n",
       "                 ColumnTransformer(remainder='passthrough',\n",
       "                                   transformers=[('onehotencoder',\n",
       "                                                  OneHotEncoder(handle_unknown='ignore'),\n",
       "                                                  Index(['Item_Fat_Content', 'Item_Type', 'Outlet_Size', 'Outlet_Location_Type',\n",
       "       'Outlet_Type', 'Item_Super_Category'],\n",
       "      dtype='object'))])),\n",
       "                ('scaler', MaxAbsScaler()),\n",
       "                ('Lasso', Lasso(alpha=3.5, random_state=81))])"
      ]
     },
     "execution_count": 66,
     "metadata": {},
     "output_type": "execute_result"
    }
   ],
   "source": [
    "final_lasso_model = grid_result.best_estimator_\n",
    "final_lasso_model"
   ]
  },
  {
   "cell_type": "code",
   "execution_count": 67,
   "id": "84c35619",
   "metadata": {
    "ExecuteTime": {
     "end_time": "2022-10-19T12:45:54.438660Z",
     "start_time": "2022-10-19T12:45:54.333939Z"
    },
    "scrolled": true
   },
   "outputs": [
    {
     "data": {
      "text/html": [
       "<style>#sk-container-id-5 {color: black;}#sk-container-id-5 pre{padding: 0;}#sk-container-id-5 div.sk-toggleable {background-color: white;}#sk-container-id-5 label.sk-toggleable__label {cursor: pointer;display: block;width: 100%;margin-bottom: 0;padding: 0.3em;box-sizing: border-box;text-align: center;}#sk-container-id-5 label.sk-toggleable__label-arrow:before {content: \"▸\";float: left;margin-right: 0.25em;color: #696969;}#sk-container-id-5 label.sk-toggleable__label-arrow:hover:before {color: black;}#sk-container-id-5 div.sk-estimator:hover label.sk-toggleable__label-arrow:before {color: black;}#sk-container-id-5 div.sk-toggleable__content {max-height: 0;max-width: 0;overflow: hidden;text-align: left;background-color: #f0f8ff;}#sk-container-id-5 div.sk-toggleable__content pre {margin: 0.2em;color: black;border-radius: 0.25em;background-color: #f0f8ff;}#sk-container-id-5 input.sk-toggleable__control:checked~div.sk-toggleable__content {max-height: 200px;max-width: 100%;overflow: auto;}#sk-container-id-5 input.sk-toggleable__control:checked~label.sk-toggleable__label-arrow:before {content: \"▾\";}#sk-container-id-5 div.sk-estimator input.sk-toggleable__control:checked~label.sk-toggleable__label {background-color: #d4ebff;}#sk-container-id-5 div.sk-label input.sk-toggleable__control:checked~label.sk-toggleable__label {background-color: #d4ebff;}#sk-container-id-5 input.sk-hidden--visually {border: 0;clip: rect(1px 1px 1px 1px);clip: rect(1px, 1px, 1px, 1px);height: 1px;margin: -1px;overflow: hidden;padding: 0;position: absolute;width: 1px;}#sk-container-id-5 div.sk-estimator {font-family: monospace;background-color: #f0f8ff;border: 1px dotted black;border-radius: 0.25em;box-sizing: border-box;margin-bottom: 0.5em;}#sk-container-id-5 div.sk-estimator:hover {background-color: #d4ebff;}#sk-container-id-5 div.sk-parallel-item::after {content: \"\";width: 100%;border-bottom: 1px solid gray;flex-grow: 1;}#sk-container-id-5 div.sk-label:hover label.sk-toggleable__label {background-color: #d4ebff;}#sk-container-id-5 div.sk-serial::before {content: \"\";position: absolute;border-left: 1px solid gray;box-sizing: border-box;top: 0;bottom: 0;left: 50%;z-index: 0;}#sk-container-id-5 div.sk-serial {display: flex;flex-direction: column;align-items: center;background-color: white;padding-right: 0.2em;padding-left: 0.2em;position: relative;}#sk-container-id-5 div.sk-item {position: relative;z-index: 1;}#sk-container-id-5 div.sk-parallel {display: flex;align-items: stretch;justify-content: center;background-color: white;position: relative;}#sk-container-id-5 div.sk-item::before, #sk-container-id-5 div.sk-parallel-item::before {content: \"\";position: absolute;border-left: 1px solid gray;box-sizing: border-box;top: 0;bottom: 0;left: 50%;z-index: -1;}#sk-container-id-5 div.sk-parallel-item {display: flex;flex-direction: column;z-index: 1;position: relative;background-color: white;}#sk-container-id-5 div.sk-parallel-item:first-child::after {align-self: flex-end;width: 50%;}#sk-container-id-5 div.sk-parallel-item:last-child::after {align-self: flex-start;width: 50%;}#sk-container-id-5 div.sk-parallel-item:only-child::after {width: 0;}#sk-container-id-5 div.sk-dashed-wrapped {border: 1px dashed gray;margin: 0 0.4em 0.5em 0.4em;box-sizing: border-box;padding-bottom: 0.4em;background-color: white;}#sk-container-id-5 div.sk-label label {font-family: monospace;font-weight: bold;display: inline-block;line-height: 1.2em;}#sk-container-id-5 div.sk-label-container {text-align: center;}#sk-container-id-5 div.sk-container {/* jupyter's `normalize.less` sets `[hidden] { display: none; }` but bootstrap.min.css set `[hidden] { display: none !important; }` so we also need the `!important` here to be able to override the default hidden behavior on the sphinx rendered scikit-learn.org. See: https://github.com/scikit-learn/scikit-learn/issues/21755 */display: inline-block !important;position: relative;}#sk-container-id-5 div.sk-text-repr-fallback {display: none;}</style><div id=\"sk-container-id-5\" class=\"sk-top-container\"><div class=\"sk-text-repr-fallback\"><pre>Pipeline(steps=[(&#x27;encoder&#x27;,\n",
       "                 ColumnTransformer(remainder=&#x27;passthrough&#x27;,\n",
       "                                   transformers=[(&#x27;onehotencoder&#x27;,\n",
       "                                                  OneHotEncoder(handle_unknown=&#x27;ignore&#x27;),\n",
       "                                                  Index([&#x27;Item_Fat_Content&#x27;, &#x27;Item_Type&#x27;, &#x27;Outlet_Size&#x27;, &#x27;Outlet_Location_Type&#x27;,\n",
       "       &#x27;Outlet_Type&#x27;, &#x27;Item_Super_Category&#x27;],\n",
       "      dtype=&#x27;object&#x27;))])),\n",
       "                (&#x27;scaler&#x27;, MaxAbsScaler()),\n",
       "                (&#x27;Lasso&#x27;, Lasso(alpha=3.5, random_state=81))])</pre><b>In a Jupyter environment, please rerun this cell to show the HTML representation or trust the notebook. <br />On GitHub, the HTML representation is unable to render, please try loading this page with nbviewer.org.</b></div><div class=\"sk-container\" hidden><div class=\"sk-item sk-dashed-wrapped\"><div class=\"sk-label-container\"><div class=\"sk-label sk-toggleable\"><input class=\"sk-toggleable__control sk-hidden--visually\" id=\"sk-estimator-id-19\" type=\"checkbox\" ><label for=\"sk-estimator-id-19\" class=\"sk-toggleable__label sk-toggleable__label-arrow\">Pipeline</label><div class=\"sk-toggleable__content\"><pre>Pipeline(steps=[(&#x27;encoder&#x27;,\n",
       "                 ColumnTransformer(remainder=&#x27;passthrough&#x27;,\n",
       "                                   transformers=[(&#x27;onehotencoder&#x27;,\n",
       "                                                  OneHotEncoder(handle_unknown=&#x27;ignore&#x27;),\n",
       "                                                  Index([&#x27;Item_Fat_Content&#x27;, &#x27;Item_Type&#x27;, &#x27;Outlet_Size&#x27;, &#x27;Outlet_Location_Type&#x27;,\n",
       "       &#x27;Outlet_Type&#x27;, &#x27;Item_Super_Category&#x27;],\n",
       "      dtype=&#x27;object&#x27;))])),\n",
       "                (&#x27;scaler&#x27;, MaxAbsScaler()),\n",
       "                (&#x27;Lasso&#x27;, Lasso(alpha=3.5, random_state=81))])</pre></div></div></div><div class=\"sk-serial\"><div class=\"sk-item sk-dashed-wrapped\"><div class=\"sk-label-container\"><div class=\"sk-label sk-toggleable\"><input class=\"sk-toggleable__control sk-hidden--visually\" id=\"sk-estimator-id-20\" type=\"checkbox\" ><label for=\"sk-estimator-id-20\" class=\"sk-toggleable__label sk-toggleable__label-arrow\">encoder: ColumnTransformer</label><div class=\"sk-toggleable__content\"><pre>ColumnTransformer(remainder=&#x27;passthrough&#x27;,\n",
       "                  transformers=[(&#x27;onehotencoder&#x27;,\n",
       "                                 OneHotEncoder(handle_unknown=&#x27;ignore&#x27;),\n",
       "                                 Index([&#x27;Item_Fat_Content&#x27;, &#x27;Item_Type&#x27;, &#x27;Outlet_Size&#x27;, &#x27;Outlet_Location_Type&#x27;,\n",
       "       &#x27;Outlet_Type&#x27;, &#x27;Item_Super_Category&#x27;],\n",
       "      dtype=&#x27;object&#x27;))])</pre></div></div></div><div class=\"sk-parallel\"><div class=\"sk-parallel-item\"><div class=\"sk-item\"><div class=\"sk-label-container\"><div class=\"sk-label sk-toggleable\"><input class=\"sk-toggleable__control sk-hidden--visually\" id=\"sk-estimator-id-21\" type=\"checkbox\" ><label for=\"sk-estimator-id-21\" class=\"sk-toggleable__label sk-toggleable__label-arrow\">onehotencoder</label><div class=\"sk-toggleable__content\"><pre>Index([&#x27;Item_Fat_Content&#x27;, &#x27;Item_Type&#x27;, &#x27;Outlet_Size&#x27;, &#x27;Outlet_Location_Type&#x27;,\n",
       "       &#x27;Outlet_Type&#x27;, &#x27;Item_Super_Category&#x27;],\n",
       "      dtype=&#x27;object&#x27;)</pre></div></div></div><div class=\"sk-serial\"><div class=\"sk-item\"><div class=\"sk-estimator sk-toggleable\"><input class=\"sk-toggleable__control sk-hidden--visually\" id=\"sk-estimator-id-22\" type=\"checkbox\" ><label for=\"sk-estimator-id-22\" class=\"sk-toggleable__label sk-toggleable__label-arrow\">OneHotEncoder</label><div class=\"sk-toggleable__content\"><pre>OneHotEncoder(handle_unknown=&#x27;ignore&#x27;)</pre></div></div></div></div></div></div><div class=\"sk-parallel-item\"><div class=\"sk-item\"><div class=\"sk-label-container\"><div class=\"sk-label sk-toggleable\"><input class=\"sk-toggleable__control sk-hidden--visually\" id=\"sk-estimator-id-23\" type=\"checkbox\" ><label for=\"sk-estimator-id-23\" class=\"sk-toggleable__label sk-toggleable__label-arrow\">remainder</label><div class=\"sk-toggleable__content\"><pre>[&#x27;Item_Weight&#x27;, &#x27;Item_Visibility&#x27;, &#x27;Item_MRP&#x27;, &#x27;Outlet_Age&#x27;]</pre></div></div></div><div class=\"sk-serial\"><div class=\"sk-item\"><div class=\"sk-estimator sk-toggleable\"><input class=\"sk-toggleable__control sk-hidden--visually\" id=\"sk-estimator-id-24\" type=\"checkbox\" ><label for=\"sk-estimator-id-24\" class=\"sk-toggleable__label sk-toggleable__label-arrow\">passthrough</label><div class=\"sk-toggleable__content\"><pre>passthrough</pre></div></div></div></div></div></div></div></div><div class=\"sk-item\"><div class=\"sk-estimator sk-toggleable\"><input class=\"sk-toggleable__control sk-hidden--visually\" id=\"sk-estimator-id-25\" type=\"checkbox\" ><label for=\"sk-estimator-id-25\" class=\"sk-toggleable__label sk-toggleable__label-arrow\">MaxAbsScaler</label><div class=\"sk-toggleable__content\"><pre>MaxAbsScaler()</pre></div></div></div><div class=\"sk-item\"><div class=\"sk-estimator sk-toggleable\"><input class=\"sk-toggleable__control sk-hidden--visually\" id=\"sk-estimator-id-26\" type=\"checkbox\" ><label for=\"sk-estimator-id-26\" class=\"sk-toggleable__label sk-toggleable__label-arrow\">Lasso</label><div class=\"sk-toggleable__content\"><pre>Lasso(alpha=3.5, random_state=81)</pre></div></div></div></div></div></div></div>"
      ],
      "text/plain": [
       "Pipeline(steps=[('encoder',\n",
       "                 ColumnTransformer(remainder='passthrough',\n",
       "                                   transformers=[('onehotencoder',\n",
       "                                                  OneHotEncoder(handle_unknown='ignore'),\n",
       "                                                  Index(['Item_Fat_Content', 'Item_Type', 'Outlet_Size', 'Outlet_Location_Type',\n",
       "       'Outlet_Type', 'Item_Super_Category'],\n",
       "      dtype='object'))])),\n",
       "                ('scaler', MaxAbsScaler()),\n",
       "                ('Lasso', Lasso(alpha=3.5, random_state=81))])"
      ]
     },
     "execution_count": 67,
     "metadata": {},
     "output_type": "execute_result"
    }
   ],
   "source": [
    "final_lasso_model.fit(X,y)  # Training the final lasso model on complete training data "
   ]
  },
  {
   "cell_type": "code",
   "execution_count": 68,
   "id": "c9d3008c",
   "metadata": {
    "ExecuteTime": {
     "end_time": "2022-10-19T12:49:18.642864Z",
     "start_time": "2022-10-19T12:49:18.601974Z"
    }
   },
   "outputs": [
    {
     "name": "stdout",
     "output_type": "stream",
     "text": [
      "r2 value is 0.557\n",
      "RMSE value is 1133.228\n"
     ]
    }
   ],
   "source": [
    "# Checking what is the r2 and RMSE for the final model based on entire training dataset\n",
    "\n",
    "y_pred = final_lasso_model.predict(X)\n",
    "\n",
    "r2_score = metrics.r2_score(y, y_pred)\n",
    "print(f\"r2 value is %.3f\" % (r2_score))\n",
    "\n",
    "RMSE = math.sqrt(metrics.mean_squared_error(y, y_pred))\n",
    "print(f\"RMSE value is %.3f\" % (RMSE))"
   ]
  },
  {
   "cell_type": "markdown",
   "id": "c13df546",
   "metadata": {
    "ExecuteTime": {
     "end_time": "2022-10-19T12:53:29.763046Z",
     "start_time": "2022-10-19T12:53:29.749083Z"
    }
   },
   "source": [
    "NOTE that despite the hyper parameter (alpha) tuning, the value of the r2 and RMSE is not much improved. The pre-tuning values are as below. Clearly the tuning have only marginally improved the metrics.\n",
    "r2 score for the model: (Mean:  0.5501; Standard Deviation:  0.0282)\n",
    "RMSE score for the model: (Mean:  1134.1281; Standard Deviation:  330.4145)   \n",
    "        "
   ]
  },
  {
   "cell_type": "code",
   "execution_count": 69,
   "id": "db75ce90",
   "metadata": {
    "ExecuteTime": {
     "end_time": "2022-10-19T12:53:38.074304Z",
     "start_time": "2022-10-19T12:53:38.057361Z"
    }
   },
   "outputs": [],
   "source": [
    "# Serializing the model for later use. First we will import the pickle module and then use the dump() function to \n",
    "# create the .pkl file. The file will be created in the current working directory\n",
    "\n",
    "import pickle\n",
    "with open('final_lasso_model.pkl', 'wb') as handle:\n",
    "    pickle.dump(final_lasso_model, handle, protocol=pickle.HIGHEST_PROTOCOL)\n",
    "    \n",
    "handle.close()"
   ]
  },
  {
   "cell_type": "code",
   "execution_count": 70,
   "id": "ab4b6f20",
   "metadata": {
    "ExecuteTime": {
     "end_time": "2022-10-19T12:53:38.089225Z",
     "start_time": "2022-10-19T12:53:38.076260Z"
    }
   },
   "outputs": [
    {
     "data": {
      "text/plain": [
       "'/home/vgautam/DS_ML/RetailMartProductSalesPrediction'"
      ]
     },
     "execution_count": 70,
     "metadata": {},
     "output_type": "execute_result"
    }
   ],
   "source": [
    "# Get the current working directory. In Windows Explorer we can navigate to the current working directory and confirm the \n",
    "# file has been created\n",
    "\n",
    "import os\n",
    "os.getcwd()"
   ]
  },
  {
   "cell_type": "code",
   "execution_count": 71,
   "id": "11c3df61",
   "metadata": {
    "ExecuteTime": {
     "end_time": "2022-10-19T12:53:38.646586Z",
     "start_time": "2022-10-19T12:53:38.091221Z"
    }
   },
   "outputs": [
    {
     "ename": "NameError",
     "evalue": "name 'final_lasso_model' is not defined",
     "output_type": "error",
     "traceback": [
      "\u001b[0;31m---------------------------------------------------------------------------\u001b[0m",
      "\u001b[0;31mNameError\u001b[0m                                 Traceback (most recent call last)",
      "Cell \u001b[0;32mIn[71], line 4\u001b[0m\n\u001b[1;32m      1\u001b[0m \u001b[38;5;66;03m# Delete the final_lasso_model from the current python environment and check if it is indeed deleted or not\u001b[39;00m\n\u001b[1;32m      3\u001b[0m \u001b[38;5;28;01mdel\u001b[39;00m final_lasso_model\n\u001b[0;32m----> 4\u001b[0m \u001b[43mfinal_lasso_model\u001b[49m\n",
      "\u001b[0;31mNameError\u001b[0m: name 'final_lasso_model' is not defined"
     ]
    }
   ],
   "source": [
    "# Delete the final_lasso_model from the current python environment and check if it is indeed deleted or not\n",
    "\n",
    "del final_lasso_model\n",
    "final_lasso_model"
   ]
  },
  {
   "cell_type": "code",
   "execution_count": 72,
   "id": "12e4b490",
   "metadata": {
    "ExecuteTime": {
     "end_time": "2022-10-19T12:54:03.942953Z",
     "start_time": "2022-10-19T12:54:03.923968Z"
    }
   },
   "outputs": [],
   "source": [
    "# Loading the serialized model for use and do predictions\n",
    "\n",
    "final_lasso_model = pickle.load(open('final_lasso_model.pkl', 'rb'))"
   ]
  },
  {
   "cell_type": "code",
   "execution_count": 73,
   "id": "b1d79de2",
   "metadata": {
    "ExecuteTime": {
     "end_time": "2022-10-19T12:54:03.974835Z",
     "start_time": "2022-10-19T12:54:03.945912Z"
    }
   },
   "outputs": [
    {
     "data": {
      "text/html": [
       "<style>#sk-container-id-6 {color: black;}#sk-container-id-6 pre{padding: 0;}#sk-container-id-6 div.sk-toggleable {background-color: white;}#sk-container-id-6 label.sk-toggleable__label {cursor: pointer;display: block;width: 100%;margin-bottom: 0;padding: 0.3em;box-sizing: border-box;text-align: center;}#sk-container-id-6 label.sk-toggleable__label-arrow:before {content: \"▸\";float: left;margin-right: 0.25em;color: #696969;}#sk-container-id-6 label.sk-toggleable__label-arrow:hover:before {color: black;}#sk-container-id-6 div.sk-estimator:hover label.sk-toggleable__label-arrow:before {color: black;}#sk-container-id-6 div.sk-toggleable__content {max-height: 0;max-width: 0;overflow: hidden;text-align: left;background-color: #f0f8ff;}#sk-container-id-6 div.sk-toggleable__content pre {margin: 0.2em;color: black;border-radius: 0.25em;background-color: #f0f8ff;}#sk-container-id-6 input.sk-toggleable__control:checked~div.sk-toggleable__content {max-height: 200px;max-width: 100%;overflow: auto;}#sk-container-id-6 input.sk-toggleable__control:checked~label.sk-toggleable__label-arrow:before {content: \"▾\";}#sk-container-id-6 div.sk-estimator input.sk-toggleable__control:checked~label.sk-toggleable__label {background-color: #d4ebff;}#sk-container-id-6 div.sk-label input.sk-toggleable__control:checked~label.sk-toggleable__label {background-color: #d4ebff;}#sk-container-id-6 input.sk-hidden--visually {border: 0;clip: rect(1px 1px 1px 1px);clip: rect(1px, 1px, 1px, 1px);height: 1px;margin: -1px;overflow: hidden;padding: 0;position: absolute;width: 1px;}#sk-container-id-6 div.sk-estimator {font-family: monospace;background-color: #f0f8ff;border: 1px dotted black;border-radius: 0.25em;box-sizing: border-box;margin-bottom: 0.5em;}#sk-container-id-6 div.sk-estimator:hover {background-color: #d4ebff;}#sk-container-id-6 div.sk-parallel-item::after {content: \"\";width: 100%;border-bottom: 1px solid gray;flex-grow: 1;}#sk-container-id-6 div.sk-label:hover label.sk-toggleable__label {background-color: #d4ebff;}#sk-container-id-6 div.sk-serial::before {content: \"\";position: absolute;border-left: 1px solid gray;box-sizing: border-box;top: 0;bottom: 0;left: 50%;z-index: 0;}#sk-container-id-6 div.sk-serial {display: flex;flex-direction: column;align-items: center;background-color: white;padding-right: 0.2em;padding-left: 0.2em;position: relative;}#sk-container-id-6 div.sk-item {position: relative;z-index: 1;}#sk-container-id-6 div.sk-parallel {display: flex;align-items: stretch;justify-content: center;background-color: white;position: relative;}#sk-container-id-6 div.sk-item::before, #sk-container-id-6 div.sk-parallel-item::before {content: \"\";position: absolute;border-left: 1px solid gray;box-sizing: border-box;top: 0;bottom: 0;left: 50%;z-index: -1;}#sk-container-id-6 div.sk-parallel-item {display: flex;flex-direction: column;z-index: 1;position: relative;background-color: white;}#sk-container-id-6 div.sk-parallel-item:first-child::after {align-self: flex-end;width: 50%;}#sk-container-id-6 div.sk-parallel-item:last-child::after {align-self: flex-start;width: 50%;}#sk-container-id-6 div.sk-parallel-item:only-child::after {width: 0;}#sk-container-id-6 div.sk-dashed-wrapped {border: 1px dashed gray;margin: 0 0.4em 0.5em 0.4em;box-sizing: border-box;padding-bottom: 0.4em;background-color: white;}#sk-container-id-6 div.sk-label label {font-family: monospace;font-weight: bold;display: inline-block;line-height: 1.2em;}#sk-container-id-6 div.sk-label-container {text-align: center;}#sk-container-id-6 div.sk-container {/* jupyter's `normalize.less` sets `[hidden] { display: none; }` but bootstrap.min.css set `[hidden] { display: none !important; }` so we also need the `!important` here to be able to override the default hidden behavior on the sphinx rendered scikit-learn.org. See: https://github.com/scikit-learn/scikit-learn/issues/21755 */display: inline-block !important;position: relative;}#sk-container-id-6 div.sk-text-repr-fallback {display: none;}</style><div id=\"sk-container-id-6\" class=\"sk-top-container\"><div class=\"sk-text-repr-fallback\"><pre>Pipeline(steps=[(&#x27;encoder&#x27;,\n",
       "                 ColumnTransformer(remainder=&#x27;passthrough&#x27;,\n",
       "                                   transformers=[(&#x27;onehotencoder&#x27;,\n",
       "                                                  OneHotEncoder(handle_unknown=&#x27;ignore&#x27;),\n",
       "                                                  Index([&#x27;Item_Fat_Content&#x27;, &#x27;Item_Type&#x27;, &#x27;Outlet_Size&#x27;, &#x27;Outlet_Location_Type&#x27;,\n",
       "       &#x27;Outlet_Type&#x27;, &#x27;Item_Super_Category&#x27;],\n",
       "      dtype=&#x27;object&#x27;))])),\n",
       "                (&#x27;scaler&#x27;, MaxAbsScaler()),\n",
       "                (&#x27;Lasso&#x27;, Lasso(alpha=3.5, random_state=81))])</pre><b>In a Jupyter environment, please rerun this cell to show the HTML representation or trust the notebook. <br />On GitHub, the HTML representation is unable to render, please try loading this page with nbviewer.org.</b></div><div class=\"sk-container\" hidden><div class=\"sk-item sk-dashed-wrapped\"><div class=\"sk-label-container\"><div class=\"sk-label sk-toggleable\"><input class=\"sk-toggleable__control sk-hidden--visually\" id=\"sk-estimator-id-27\" type=\"checkbox\" ><label for=\"sk-estimator-id-27\" class=\"sk-toggleable__label sk-toggleable__label-arrow\">Pipeline</label><div class=\"sk-toggleable__content\"><pre>Pipeline(steps=[(&#x27;encoder&#x27;,\n",
       "                 ColumnTransformer(remainder=&#x27;passthrough&#x27;,\n",
       "                                   transformers=[(&#x27;onehotencoder&#x27;,\n",
       "                                                  OneHotEncoder(handle_unknown=&#x27;ignore&#x27;),\n",
       "                                                  Index([&#x27;Item_Fat_Content&#x27;, &#x27;Item_Type&#x27;, &#x27;Outlet_Size&#x27;, &#x27;Outlet_Location_Type&#x27;,\n",
       "       &#x27;Outlet_Type&#x27;, &#x27;Item_Super_Category&#x27;],\n",
       "      dtype=&#x27;object&#x27;))])),\n",
       "                (&#x27;scaler&#x27;, MaxAbsScaler()),\n",
       "                (&#x27;Lasso&#x27;, Lasso(alpha=3.5, random_state=81))])</pre></div></div></div><div class=\"sk-serial\"><div class=\"sk-item sk-dashed-wrapped\"><div class=\"sk-label-container\"><div class=\"sk-label sk-toggleable\"><input class=\"sk-toggleable__control sk-hidden--visually\" id=\"sk-estimator-id-28\" type=\"checkbox\" ><label for=\"sk-estimator-id-28\" class=\"sk-toggleable__label sk-toggleable__label-arrow\">encoder: ColumnTransformer</label><div class=\"sk-toggleable__content\"><pre>ColumnTransformer(remainder=&#x27;passthrough&#x27;,\n",
       "                  transformers=[(&#x27;onehotencoder&#x27;,\n",
       "                                 OneHotEncoder(handle_unknown=&#x27;ignore&#x27;),\n",
       "                                 Index([&#x27;Item_Fat_Content&#x27;, &#x27;Item_Type&#x27;, &#x27;Outlet_Size&#x27;, &#x27;Outlet_Location_Type&#x27;,\n",
       "       &#x27;Outlet_Type&#x27;, &#x27;Item_Super_Category&#x27;],\n",
       "      dtype=&#x27;object&#x27;))])</pre></div></div></div><div class=\"sk-parallel\"><div class=\"sk-parallel-item\"><div class=\"sk-item\"><div class=\"sk-label-container\"><div class=\"sk-label sk-toggleable\"><input class=\"sk-toggleable__control sk-hidden--visually\" id=\"sk-estimator-id-29\" type=\"checkbox\" ><label for=\"sk-estimator-id-29\" class=\"sk-toggleable__label sk-toggleable__label-arrow\">onehotencoder</label><div class=\"sk-toggleable__content\"><pre>Index([&#x27;Item_Fat_Content&#x27;, &#x27;Item_Type&#x27;, &#x27;Outlet_Size&#x27;, &#x27;Outlet_Location_Type&#x27;,\n",
       "       &#x27;Outlet_Type&#x27;, &#x27;Item_Super_Category&#x27;],\n",
       "      dtype=&#x27;object&#x27;)</pre></div></div></div><div class=\"sk-serial\"><div class=\"sk-item\"><div class=\"sk-estimator sk-toggleable\"><input class=\"sk-toggleable__control sk-hidden--visually\" id=\"sk-estimator-id-30\" type=\"checkbox\" ><label for=\"sk-estimator-id-30\" class=\"sk-toggleable__label sk-toggleable__label-arrow\">OneHotEncoder</label><div class=\"sk-toggleable__content\"><pre>OneHotEncoder(handle_unknown=&#x27;ignore&#x27;)</pre></div></div></div></div></div></div><div class=\"sk-parallel-item\"><div class=\"sk-item\"><div class=\"sk-label-container\"><div class=\"sk-label sk-toggleable\"><input class=\"sk-toggleable__control sk-hidden--visually\" id=\"sk-estimator-id-31\" type=\"checkbox\" ><label for=\"sk-estimator-id-31\" class=\"sk-toggleable__label sk-toggleable__label-arrow\">remainder</label><div class=\"sk-toggleable__content\"><pre>[&#x27;Item_Weight&#x27;, &#x27;Item_Visibility&#x27;, &#x27;Item_MRP&#x27;, &#x27;Outlet_Age&#x27;]</pre></div></div></div><div class=\"sk-serial\"><div class=\"sk-item\"><div class=\"sk-estimator sk-toggleable\"><input class=\"sk-toggleable__control sk-hidden--visually\" id=\"sk-estimator-id-32\" type=\"checkbox\" ><label for=\"sk-estimator-id-32\" class=\"sk-toggleable__label sk-toggleable__label-arrow\">passthrough</label><div class=\"sk-toggleable__content\"><pre>passthrough</pre></div></div></div></div></div></div></div></div><div class=\"sk-item\"><div class=\"sk-estimator sk-toggleable\"><input class=\"sk-toggleable__control sk-hidden--visually\" id=\"sk-estimator-id-33\" type=\"checkbox\" ><label for=\"sk-estimator-id-33\" class=\"sk-toggleable__label sk-toggleable__label-arrow\">MaxAbsScaler</label><div class=\"sk-toggleable__content\"><pre>MaxAbsScaler()</pre></div></div></div><div class=\"sk-item\"><div class=\"sk-estimator sk-toggleable\"><input class=\"sk-toggleable__control sk-hidden--visually\" id=\"sk-estimator-id-34\" type=\"checkbox\" ><label for=\"sk-estimator-id-34\" class=\"sk-toggleable__label sk-toggleable__label-arrow\">Lasso</label><div class=\"sk-toggleable__content\"><pre>Lasso(alpha=3.5, random_state=81)</pre></div></div></div></div></div></div></div>"
      ],
      "text/plain": [
       "Pipeline(steps=[('encoder',\n",
       "                 ColumnTransformer(remainder='passthrough',\n",
       "                                   transformers=[('onehotencoder',\n",
       "                                                  OneHotEncoder(handle_unknown='ignore'),\n",
       "                                                  Index(['Item_Fat_Content', 'Item_Type', 'Outlet_Size', 'Outlet_Location_Type',\n",
       "       'Outlet_Type', 'Item_Super_Category'],\n",
       "      dtype='object'))])),\n",
       "                ('scaler', MaxAbsScaler()),\n",
       "                ('Lasso', Lasso(alpha=3.5, random_state=81))])"
      ]
     },
     "execution_count": 73,
     "metadata": {},
     "output_type": "execute_result"
    }
   ],
   "source": [
    "# Confirm the final_lasso_model is indeed loaded and is availble for making predictions\n",
    "final_lasso_model"
   ]
  },
  {
   "cell_type": "markdown",
   "id": "291a634c",
   "metadata": {
    "ExecuteTime": {
     "end_time": "2022-10-19T12:54:04.005749Z",
     "start_time": "2022-10-19T12:54:03.977827Z"
    }
   },
   "source": [
    "As a final step, let's use this model to make predictions on the test data file which is completely unseen by the model"
   ]
  },
  {
   "cell_type": "code",
   "execution_count": 74,
   "id": "cff06d51",
   "metadata": {
    "ExecuteTime": {
     "end_time": "2022-10-19T12:54:04.052627Z",
     "start_time": "2022-10-19T12:54:04.008742Z"
    }
   },
   "outputs": [],
   "source": [
    "# First fit_transform the data using preprocessors (pipeline of custom transformers) to prepare data \n",
    "data = preprocessors.fit_transform(test)"
   ]
  },
  {
   "cell_type": "code",
   "execution_count": 75,
   "id": "de095c9b",
   "metadata": {
    "ExecuteTime": {
     "end_time": "2022-10-19T12:54:04.068585Z",
     "start_time": "2022-10-19T12:54:04.055618Z"
    }
   },
   "outputs": [
    {
     "data": {
      "text/plain": [
       "(5568, 10)"
      ]
     },
     "execution_count": 75,
     "metadata": {},
     "output_type": "execute_result"
    },
    {
     "data": {
      "text/plain": [
       "Index(['Item_Weight', 'Item_Fat_Content', 'Item_Visibility', 'Item_Type',\n",
       "       'Item_MRP', 'Outlet_Size', 'Outlet_Location_Type', 'Outlet_Type',\n",
       "       'Item_Super_Category', 'Outlet_Age'],\n",
       "      dtype='object')"
      ]
     },
     "execution_count": 75,
     "metadata": {},
     "output_type": "execute_result"
    }
   ],
   "source": [
    "# Confirming the data is indeed transformed as required by the model\n",
    "data.shape\n",
    "data.columns"
   ]
  },
  {
   "cell_type": "code",
   "execution_count": 76,
   "id": "0ab40d95",
   "metadata": {
    "ExecuteTime": {
     "end_time": "2022-10-19T12:54:04.114459Z",
     "start_time": "2022-10-19T12:54:04.073569Z"
    }
   },
   "outputs": [],
   "source": [
    "# Making the predictions based on the test data \n",
    "\n",
    "y_pred = final_lasso_model.predict(data)"
   ]
  },
  {
   "cell_type": "markdown",
   "id": "4c02e93e",
   "metadata": {},
   "source": [
    "Note that here we can't check the accuracy/ performance of the model now. The true value of y is unknown. The goal or aim was simply to make the predictions for business use/ purposes"
   ]
  },
  {
   "cell_type": "code",
   "execution_count": 77,
   "id": "428626de",
   "metadata": {
    "ExecuteTime": {
     "end_time": "2022-10-19T12:54:04.130416Z",
     "start_time": "2022-10-19T12:54:04.117452Z"
    }
   },
   "outputs": [
    {
     "data": {
      "text/plain": [
       "array([1776.55294441, 1493.70842492, 1930.8978288 , 2515.58310064,\n",
       "       5148.85934233])"
      ]
     },
     "execution_count": 77,
     "metadata": {},
     "output_type": "execute_result"
    }
   ],
   "source": [
    "# Check the predicted values as below. This only shows the first 5 values\n",
    "y_pred[:5]"
   ]
  },
  {
   "cell_type": "markdown",
   "id": "8c9080ae",
   "metadata": {},
   "source": [
    "#### ----------------------------------------------------------------- End of Project --------------------------------------------------------------------------"
   ]
  }
 ],
 "metadata": {
  "kernelspec": {
   "display_name": "Python 3 (ipykernel)",
   "language": "python",
   "name": "python3"
  },
  "language_info": {
   "codemirror_mode": {
    "name": "ipython",
    "version": 3
   },
   "file_extension": ".py",
   "mimetype": "text/x-python",
   "name": "python",
   "nbconvert_exporter": "python",
   "pygments_lexer": "ipython3",
   "version": "3.10.13"
  }
 },
 "nbformat": 4,
 "nbformat_minor": 5
}
